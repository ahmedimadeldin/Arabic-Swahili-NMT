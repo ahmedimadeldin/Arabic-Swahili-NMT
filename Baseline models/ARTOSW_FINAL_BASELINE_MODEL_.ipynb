{
  "cells": [
    {
      "cell_type": "code",
      "execution_count": null,
      "metadata": {
        "colab": {
          "base_uri": "https://localhost:8080/"
        },
        "id": "JdQfwv9HUdgo",
        "outputId": "a6d3d20e-40cb-4443-bf0b-a0e6ce441288"
      },
      "outputs": [
        {
          "name": "stdout",
          "output_type": "stream",
          "text": [
            "Mounted at /content/drive\n"
          ]
        }
      ],
      "source": [
        "from google.colab import drive\n",
        "drive.mount('/content/drive')"
      ]
    },
    {
      "cell_type": "code",
      "execution_count": null,
      "metadata": {
        "colab": {
          "base_uri": "https://localhost:8080/",
          "height": 36
        },
        "id": "m_lnoW8RQZMG",
        "outputId": "b438f5f8-be73-40b5-f234-23af7ab01c02"
      },
      "outputs": [
        {
          "data": {
            "application/vnd.google.colaboratory.intrinsic+json": {
              "type": "string"
            },
            "text/plain": [
              "'/content'"
            ]
          },
          "execution_count": 2,
          "metadata": {},
          "output_type": "execute_result"
        }
      ],
      "source": [
        "import os\n",
        "os.getcwd()"
      ]
    },
    {
      "cell_type": "code",
      "execution_count": null,
      "metadata": {
        "colab": {
          "base_uri": "https://localhost:8080/"
        },
        "id": "ruoqnb3vQt25",
        "outputId": "5cc21bb0-a81b-4b62-bef2-299c7e083511"
      },
      "outputs": [
        {
          "name": "stdout",
          "output_type": "stream",
          "text": [
            "Archive:  /content/txt_splitted_files.zip\n",
            "  inflating: test.ar                 \n",
            "  inflating: test.sw                 \n",
            "  inflating: train.ar                \n",
            "  inflating: train.sw                \n",
            "mkdir: cannot create directory ‘/content/bpe_dict_path’: File exists\n"
          ]
        }
      ],
      "source": [
        "!unzip /content/txt_splitted_files.zip\n",
        "!mkdir /content/bpe_dict_path"
      ]
    },
    {
      "cell_type": "code",
      "execution_count": null,
      "metadata": {
        "id": "MesyAD22Rulz"
      },
      "outputs": [],
      "source": [
        "!mkdir /content/train/\n",
        "!mkdir /content/test/\n",
        "!mkdir /content/val/\n",
        "!mkdir /content/train_bpe/\n",
        "!mkdir /content/test_bpe/\n",
        "!mkdir /content/val_bpe/"
      ]
    },
    {
      "cell_type": "code",
      "execution_count": null,
      "metadata": {
        "colab": {
          "base_uri": "https://localhost:8080/"
        },
        "id": "AMS5-ftwARHt",
        "outputId": "9f112936-a69c-461e-b923-7b26efa4bc56"
      },
      "outputs": [
        {
          "name": "stdout",
          "output_type": "stream",
          "text": [
            "Archive:  /content/drive/MyDrive/DATA.zip\n",
            "  inflating: Arabic.txt              \n",
            "  inflating: Swahili.txt             \n"
          ]
        }
      ],
      "source": [
        "!unzip /content/drive/MyDrive/DATA.zip"
      ]
    },
    {
      "cell_type": "code",
      "execution_count": null,
      "metadata": {
        "id": "vo3CZ-iUR9K-"
      },
      "outputs": [],
      "source": [
        "#the entire files\n",
        "All_ar_data = open(\"/content/Arabic.txt\", \"r\").readlines()\n",
        "All_sw_data = open(\"/content/Swahili.txt\",\"r\").readlines()\n",
        "# the training files\n",
        "train_ar_data = open(\"/content/train.ar\", \"r\").readlines()\n",
        "train_sw_data = open(\"/content/train.sw\", \"r\").readlines()\n",
        "# the test files\n",
        "test_ar_data = open(\"/content/test.ar\", \"r\").readlines()\n",
        "test_sw_data = open(\"/content/test.sw\", \"r\").readlines()\n",
        "\n",
        "\n",
        "with open(\"/content/train/train.ar\", \"w\") as fb:\n",
        "    fb.writelines(train_ar_data[2000:])\n",
        "\n",
        "with open(\"/content/train/train.sw\", \"w\") as fb:\n",
        "    fb.writelines(train_sw_data[2000:])\n",
        "\n",
        "with open(\"/content/val/val.ar\", \"w\") as fb:\n",
        "    fb.writelines(train_ar_data[:2000])\n",
        "with open(\"/content/val/val.sw\", \"w\") as fb:\n",
        "    fb.writelines(train_sw_data[:2000])\n",
        "\n",
        "with open(\"/content/test/test.ar\", \"w\") as fb:\n",
        "    fb.writelines(test_ar_data)\n",
        "with open(\"/content/test/test.sw\", \"w\") as fb:\n",
        "    fb.writelines(test_sw_data)"
      ]
    },
    {
      "cell_type": "code",
      "execution_count": null,
      "metadata": {
        "colab": {
          "base_uri": "https://localhost:8080/"
        },
        "id": "IviYWnt2BmYD",
        "outputId": "575ba838-bba2-40b7-aae8-acffca5e0400"
      },
      "outputs": [
        {
          "name": "stdout",
          "output_type": "stream",
          "text": [
            "27531 3281 2000\n"
          ]
        }
      ],
      "source": [
        "train_sw_data = open(\"/content/train/train.sw\", \"r\").readlines()\n",
        "test_sw_data = open(\"/content/test/test.sw\", \"r\").readlines()\n",
        "val_sw_data = open(\"/content/val/val.sw\", \"r\").readlines()\n",
        "print(len(train_sw_data) , len(test_sw_data) ,len(val_sw_data))\n"
      ]
    },
    {
      "cell_type": "code",
      "execution_count": null,
      "metadata": {
        "colab": {
          "base_uri": "https://localhost:8080/"
        },
        "id": "btTtoIvXoryN",
        "outputId": "43d405dd-7931-4d5d-8636-f60950d6f4c9"
      },
      "outputs": [
        {
          "name": "stdout",
          "output_type": "stream",
          "text": [
            "Collecting sentencepiece\n",
            "  Downloading sentencepiece-0.1.99-cp310-cp310-manylinux_2_17_x86_64.manylinux2014_x86_64.whl (1.3 MB)\n",
            "\u001b[2K     \u001b[90m━━━━━━━━━━━━━━━━━━━━━━━━━━━━━━━━━━━━━━━━\u001b[0m \u001b[32m1.3/1.3 MB\u001b[0m \u001b[31m8.5 MB/s\u001b[0m eta \u001b[36m0:00:00\u001b[0m\n",
            "\u001b[?25hInstalling collected packages: sentencepiece\n",
            "Successfully installed sentencepiece-0.1.99\n"
          ]
        }
      ],
      "source": [
        "!pip install sentencepiece\n",
        "import sentencepiece as spm\n",
        "ar_file_path = \"/content/Arabic.txt\"\n",
        "#Arabic training file \"all arabic text\"\n",
        "sw_file_path = \"/content/Swahili.txt\"\n",
        "#swalihi_training file\n",
        "\n",
        "\n",
        "\n",
        "dict_path = \"/content/bpe_dict_path\"\n",
        "#dictionary \"create directory and name it as you like\"\n",
        "ar_train_input = \"/content/train/train.ar\"\n",
        "ar_train_bpe_output = \"/content/train_bpe/train.bpe.ar\"\n",
        "sw_train_input = \"/content/train/train.sw\"\n",
        "sw_train_bpe_output = \"/content/train_bpe/train.bpe.sw\"\n",
        "\n",
        "ar_val_input = \"/content/val/val.ar\"\n",
        "ar_val_bpe_output = \"/content/val_bpe/val.bpe.ar\"\n",
        "sw_val_input = \"/content/val/val.sw\"\n",
        "sw_val_bpe_output = \"/content/val_bpe/val.bpe.sw\"\n",
        "\n",
        "ar_test_input = \"/content/test/test.ar\"\n",
        "ar_test_bpe_output = \"/content/test_bpe/test.bpe.ar\"\n",
        "sw_test_input = \"/content/test/test.sw\"\n",
        "sw_test_bpe_output = \"/content/test_bpe/test.bpe.sw\"\n",
        "\n",
        "vocab_size = 12000\n",
        "\n",
        "\n",
        "sw_source_file = \"/content/Swahili.txt\"\n",
        "ar_source_file = \"/content/Arabic.txt\"\n",
        "\n",
        "# joint_vocab_file = \"/content/joint_train.txt\"\n",
        "\n",
        "\n",
        "\n",
        "\n",
        "#using entire text to found the dictonary for the BPE\n",
        "def train_en(vocab_size):\n",
        "  model_prefix = dict_path+\"/ar_\" + \"_vocab_\" + str(vocab_size)\n",
        "  spm.SentencePieceTrainer.train(input=ar_source_file\n",
        "      , model_prefix=model_prefix\n",
        "      , vocab_size=vocab_size\n",
        "      , character_coverage = 0.9995\n",
        "      , num_threads=60\n",
        "      , model_type = \"bpe\"\n",
        "      , train_extremely_large_corpus=True\n",
        "  )\n",
        "train_en(vocab_size)\n",
        "\n",
        "def train_pcm(vocab_size):\n",
        "  model_prefix = dict_path + \"/swahil_\" + \"_vocab_\" + str(vocab_size)\n",
        "  spm.SentencePieceTrainer.train(input=sw_source_file\n",
        "      , model_prefix=model_prefix\n",
        "      , vocab_size=vocab_size\n",
        "      , character_coverage = 0.9995\n",
        "      , num_threads=60\n",
        "      ,model_type = \"bpe\"\n",
        "      , train_extremely_large_corpus=True\n",
        "  )\n",
        "train_pcm(vocab_size)\n",
        "\n",
        "ar_tokenizer = spm.SentencePieceProcessor(model_file=\"/content/bpe_dict_path/ar__vocab_12000.model\")\n",
        "sw_tokenizer = spm.SentencePieceProcessor(model_file=\"/content/bpe_dict_path/swahil__vocab_12000.model\")\n",
        "\n",
        "\n",
        "#from the above the BPE models are trained\n",
        "####################################33\n",
        "\n",
        "\n",
        "#lines uses the Arabic BPE model to tokenize the Arabic training data\n",
        "with open(ar_train_input, \"r\", encoding=\"utf-8\") as rf, open(ar_train_bpe_output, \"w\", encoding=\"utf-8\") as wf:\n",
        "    output_lines = []\n",
        "    for line in rf.readlines():\n",
        "        wf.write(' '.join(ar_tokenizer.encode(line, out_type=str)))\n",
        "        # output_lines.append(tokenizer.encode(input = line, out_type = str))\n",
        "        wf.write(\"\\n\")\n",
        "\n",
        "    # wf.writelines(str(output_lines))\n",
        "\n",
        "with open(sw_train_input, \"r\", encoding=\"utf-8\") as rf, open(sw_train_bpe_output, \"w\", encoding=\"utf-8\") as wf:\n",
        "    output_lines = []\n",
        "    for line in rf.readlines():\n",
        "        wf.write(' '.join(sw_tokenizer.encode(line, out_type=str)))\n",
        "        # output_lines.append(tokenizer.encode(input = line, out_type = str))\n",
        "        wf.write(\"\\n\")\n",
        "\n",
        "    # wf.writelines(str(output_lines))\n",
        "\n",
        "\n",
        "\n",
        "with open(ar_test_input, \"r\", encoding=\"utf-8\") as rf, open(ar_test_bpe_output, \"w\", encoding=\"utf-8\") as wf:\n",
        "    output_lines = []\n",
        "    for line in rf.readlines():\n",
        "        wf.write(' '.join(ar_tokenizer.encode(line, out_type=str)))\n",
        "        # output_lines.append(tokenizer.encode(input = line, out_type = str))\n",
        "        wf.write(\"\\n\")\n",
        "\n",
        "    # wf.writelines(str(output_lines))\n",
        "\n",
        "\n",
        "with open(sw_test_input, \"r\", encoding=\"utf-8\") as rf, open(sw_test_bpe_output, \"w\", encoding=\"utf-8\") as wf:\n",
        "    output_lines = []\n",
        "    for line in rf.readlines():\n",
        "        wf.write(' '.join(sw_tokenizer.encode(line, out_type=str)))\n",
        "        # output_lines.append(tokenizer.encode(input = line, out_type = str))\n",
        "        wf.write(\"\\n\")\n",
        "\n",
        "    # wf.writelines(str(output_lines))\n",
        "\n",
        "\n",
        "\n",
        "with open(ar_val_input, \"r\", encoding=\"utf-8\") as rf, open(ar_val_bpe_output, \"w\", encoding=\"utf-8\") as wf:\n",
        "    output_lines = []\n",
        "    for line in rf.readlines():\n",
        "        wf.write(' '.join(ar_tokenizer.encode(line, out_type=str)))\n",
        "        # output_lines.append(tokenizer.encode(input = line, out_type = str))\n",
        "        wf.write(\"\\n\")\n",
        "\n",
        "    # wf.writelines(str(output_lines))\n",
        "\n",
        "\n",
        "\n",
        "with open(sw_val_input, \"r\", encoding=\"utf-8\") as rf, open(sw_val_bpe_output, \"w\", encoding=\"utf-8\") as wf:\n",
        "    output_lines = []\n",
        "    for line in rf.readlines():\n",
        "        wf.write(' '.join(sw_tokenizer.encode(line, out_type=str)))\n",
        "        # output_lines.append(tokenizer.encode(input = line, out_type = str))\n",
        "        wf.write(\"\\n\")\n",
        "\n",
        "    # wf.writelines(str(output_lines))\n"
      ]
    },
    {
      "cell_type": "code",
      "execution_count": null,
      "metadata": {
        "id": "6wvj-XCbqBHH"
      },
      "outputs": [],
      "source": [
        "!cut -f1 \"/content/bpe_dict_path/ar__vocab_12000.vocab\" | tail -n +4 | sed \"s/$/ 100/g\" > \"/content/bpe_dict_path/fairseq.ar.vocab\"\n",
        "!cut -f1 \"/content/bpe_dict_path/swahil__vocab_12000.vocab\" | tail -n +4 | sed \"s/$/ 100/g\" > \"/content/bpe_dict_path/fairseq.sw.vocab\""
      ]
    },
    {
      "cell_type": "code",
      "execution_count": null,
      "metadata": {
        "colab": {
          "base_uri": "https://localhost:8080/"
        },
        "id": "NuAeggxGuGlc",
        "outputId": "5d19ac50-706c-4695-c583-8a29f8e9a530"
      },
      "outputs": [
        {
          "name": "stdout",
          "output_type": "stream",
          "text": [
            "Cloning into 'fairseq'...\n",
            "remote: Enumerating objects: 34777, done.\u001b[K\n",
            "remote: Counting objects: 100% (8/8), done.\u001b[K\n",
            "remote: Compressing objects: 100% (8/8), done.\u001b[K\n",
            "remote: Total 34777 (delta 0), reused 3 (delta 0), pack-reused 34769\u001b[K\n",
            "Receiving objects: 100% (34777/34777), 25.02 MiB | 23.76 MiB/s, done.\n",
            "Resolving deltas: 100% (25223/25223), done.\n"
          ]
        }
      ],
      "source": [
        "!git clone https://github.com/pytorch/fairseq\n"
      ]
    },
    {
      "cell_type": "code",
      "execution_count": null,
      "metadata": {
        "colab": {
          "base_uri": "https://localhost:8080/"
        },
        "id": "2F1OL07gVau4",
        "outputId": "674e0b1f-f03a-4477-cee0-d0daa83ecd9d"
      },
      "outputs": [
        {
          "name": "stdout",
          "output_type": "stream",
          "text": [
            "/content/fairseq\n"
          ]
        }
      ],
      "source": [
        "cd fairseq\n"
      ]
    },
    {
      "cell_type": "code",
      "execution_count": null,
      "metadata": {
        "colab": {
          "base_uri": "https://localhost:8080/"
        },
        "id": "lQCLdN2wVa5G",
        "outputId": "ff678f14-68ac-4f68-c590-c4a2dd301f36"
      },
      "outputs": [
        {
          "name": "stdout",
          "output_type": "stream",
          "text": [
            "Obtaining file:///content/fairseq\n",
            "  Installing build dependencies ... \u001b[?25l\u001b[?25hdone\n",
            "  Checking if build backend supports build_editable ... \u001b[?25l\u001b[?25hdone\n",
            "  Getting requirements to build editable ... \u001b[?25l\u001b[?25hdone\n",
            "  Preparing editable metadata (pyproject.toml) ... \u001b[?25l\u001b[?25hdone\n",
            "Requirement already satisfied: cffi in /usr/local/lib/python3.10/dist-packages (from fairseq==0.12.2) (1.15.1)\n",
            "Requirement already satisfied: cython in /usr/local/lib/python3.10/dist-packages (from fairseq==0.12.2) (0.29.36)\n",
            "Collecting hydra-core<1.1,>=1.0.7 (from fairseq==0.12.2)\n",
            "  Downloading hydra_core-1.0.7-py3-none-any.whl (123 kB)\n",
            "\u001b[2K     \u001b[90m━━━━━━━━━━━━━━━━━━━━━━━━━━━━━━━━━━━━━━━\u001b[0m \u001b[32m123.8/123.8 kB\u001b[0m \u001b[31m2.7 MB/s\u001b[0m eta \u001b[36m0:00:00\u001b[0m\n",
            "\u001b[?25hCollecting omegaconf<2.1 (from fairseq==0.12.2)\n",
            "  Downloading omegaconf-2.0.6-py3-none-any.whl (36 kB)\n",
            "Requirement already satisfied: numpy>=1.21.3 in /usr/local/lib/python3.10/dist-packages (from fairseq==0.12.2) (1.23.5)\n",
            "Requirement already satisfied: regex in /usr/local/lib/python3.10/dist-packages (from fairseq==0.12.2) (2023.6.3)\n",
            "Collecting sacrebleu>=1.4.12 (from fairseq==0.12.2)\n",
            "  Downloading sacrebleu-2.3.1-py3-none-any.whl (118 kB)\n",
            "\u001b[2K     \u001b[90m━━━━━━━━━━━━━━━━━━━━━━━━━━━━━━━━━━━━━━━\u001b[0m \u001b[32m118.9/118.9 kB\u001b[0m \u001b[31m6.0 MB/s\u001b[0m eta \u001b[36m0:00:00\u001b[0m\n",
            "\u001b[?25hRequirement already satisfied: torch>=1.13 in /usr/local/lib/python3.10/dist-packages (from fairseq==0.12.2) (2.0.1+cu118)\n",
            "Requirement already satisfied: tqdm in /usr/local/lib/python3.10/dist-packages (from fairseq==0.12.2) (4.66.1)\n",
            "Collecting bitarray (from fairseq==0.12.2)\n",
            "  Downloading bitarray-2.8.1-cp310-cp310-manylinux_2_17_x86_64.manylinux2014_x86_64.whl (286 kB)\n",
            "\u001b[2K     \u001b[90m━━━━━━━━━━━━━━━━━━━━━━━━━━━━━━━━━━━━━━━\u001b[0m \u001b[32m286.2/286.2 kB\u001b[0m \u001b[31m7.7 MB/s\u001b[0m eta \u001b[36m0:00:00\u001b[0m\n",
            "\u001b[?25hRequirement already satisfied: torchaudio>=0.8.0 in /usr/local/lib/python3.10/dist-packages (from fairseq==0.12.2) (2.0.2+cu118)\n",
            "Requirement already satisfied: scikit-learn in /usr/local/lib/python3.10/dist-packages (from fairseq==0.12.2) (1.2.2)\n",
            "Requirement already satisfied: packaging in /usr/local/lib/python3.10/dist-packages (from fairseq==0.12.2) (23.1)\n",
            "Collecting antlr4-python3-runtime==4.8 (from hydra-core<1.1,>=1.0.7->fairseq==0.12.2)\n",
            "  Downloading antlr4-python3-runtime-4.8.tar.gz (112 kB)\n",
            "\u001b[2K     \u001b[90m━━━━━━━━━━━━━━━━━━━━━━━━━━━━━━━━━━━━━━━\u001b[0m \u001b[32m112.4/112.4 kB\u001b[0m \u001b[31m7.5 MB/s\u001b[0m eta \u001b[36m0:00:00\u001b[0m\n",
            "\u001b[?25h  Preparing metadata (setup.py) ... \u001b[?25l\u001b[?25hdone\n",
            "Requirement already satisfied: PyYAML>=5.1.* in /usr/local/lib/python3.10/dist-packages (from omegaconf<2.1->fairseq==0.12.2) (6.0.1)\n",
            "Requirement already satisfied: typing-extensions in /usr/local/lib/python3.10/dist-packages (from omegaconf<2.1->fairseq==0.12.2) (4.7.1)\n",
            "Collecting portalocker (from sacrebleu>=1.4.12->fairseq==0.12.2)\n",
            "  Downloading portalocker-2.7.0-py2.py3-none-any.whl (15 kB)\n",
            "Requirement already satisfied: tabulate>=0.8.9 in /usr/local/lib/python3.10/dist-packages (from sacrebleu>=1.4.12->fairseq==0.12.2) (0.9.0)\n",
            "Collecting colorama (from sacrebleu>=1.4.12->fairseq==0.12.2)\n",
            "  Downloading colorama-0.4.6-py2.py3-none-any.whl (25 kB)\n",
            "Requirement already satisfied: lxml in /usr/local/lib/python3.10/dist-packages (from sacrebleu>=1.4.12->fairseq==0.12.2) (4.9.3)\n",
            "Requirement already satisfied: filelock in /usr/local/lib/python3.10/dist-packages (from torch>=1.13->fairseq==0.12.2) (3.12.2)\n",
            "Requirement already satisfied: sympy in /usr/local/lib/python3.10/dist-packages (from torch>=1.13->fairseq==0.12.2) (1.12)\n",
            "Requirement already satisfied: networkx in /usr/local/lib/python3.10/dist-packages (from torch>=1.13->fairseq==0.12.2) (3.1)\n",
            "Requirement already satisfied: jinja2 in /usr/local/lib/python3.10/dist-packages (from torch>=1.13->fairseq==0.12.2) (3.1.2)\n",
            "Requirement already satisfied: triton==2.0.0 in /usr/local/lib/python3.10/dist-packages (from torch>=1.13->fairseq==0.12.2) (2.0.0)\n",
            "Requirement already satisfied: cmake in /usr/local/lib/python3.10/dist-packages (from triton==2.0.0->torch>=1.13->fairseq==0.12.2) (3.27.2)\n",
            "Requirement already satisfied: lit in /usr/local/lib/python3.10/dist-packages (from triton==2.0.0->torch>=1.13->fairseq==0.12.2) (16.0.6)\n",
            "Requirement already satisfied: pycparser in /usr/local/lib/python3.10/dist-packages (from cffi->fairseq==0.12.2) (2.21)\n",
            "Requirement already satisfied: scipy>=1.3.2 in /usr/local/lib/python3.10/dist-packages (from scikit-learn->fairseq==0.12.2) (1.10.1)\n",
            "Requirement already satisfied: joblib>=1.1.1 in /usr/local/lib/python3.10/dist-packages (from scikit-learn->fairseq==0.12.2) (1.3.2)\n",
            "Requirement already satisfied: threadpoolctl>=2.0.0 in /usr/local/lib/python3.10/dist-packages (from scikit-learn->fairseq==0.12.2) (3.2.0)\n",
            "Requirement already satisfied: MarkupSafe>=2.0 in /usr/local/lib/python3.10/dist-packages (from jinja2->torch>=1.13->fairseq==0.12.2) (2.1.3)\n",
            "Requirement already satisfied: mpmath>=0.19 in /usr/local/lib/python3.10/dist-packages (from sympy->torch>=1.13->fairseq==0.12.2) (1.3.0)\n",
            "Building wheels for collected packages: fairseq, antlr4-python3-runtime\n",
            "  Building editable for fairseq (pyproject.toml) ... \u001b[?25l\u001b[?25hdone\n",
            "  Created wheel for fairseq: filename=fairseq-0.12.2-0.editable-cp310-cp310-linux_x86_64.whl size=9379 sha256=cd9b8f485200ef72d47eb56780b63f801f085ed321f3642150bd31c145c04a26\n",
            "  Stored in directory: /tmp/pip-ephem-wheel-cache-omhsddby/wheels/c6/d7/db/bc419b1daa8266aa8de2a7c4d29f62dbfa814e8701fe4695a2\n",
            "  Building wheel for antlr4-python3-runtime (setup.py) ... \u001b[?25l\u001b[?25hdone\n",
            "  Created wheel for antlr4-python3-runtime: filename=antlr4_python3_runtime-4.8-py3-none-any.whl size=141209 sha256=5af5283eacc221a03547e041c2b832120425f10e5b25f618e49930b0503d6c87\n",
            "  Stored in directory: /root/.cache/pip/wheels/a7/20/bd/e1477d664f22d99989fd28ee1a43d6633dddb5cb9e801350d5\n",
            "Successfully built fairseq antlr4-python3-runtime\n",
            "Installing collected packages: bitarray, antlr4-python3-runtime, portalocker, omegaconf, colorama, sacrebleu, hydra-core, fairseq\n",
            "Successfully installed antlr4-python3-runtime-4.8 bitarray-2.8.1 colorama-0.4.6 fairseq-0.12.2 hydra-core-1.0.7 omegaconf-2.0.6 portalocker-2.7.0 sacrebleu-2.3.1\n"
          ]
        }
      ],
      "source": [
        "!pip install --editable ./"
      ]
    },
    {
      "cell_type": "code",
      "execution_count": null,
      "metadata": {
        "colab": {
          "base_uri": "https://localhost:8080/"
        },
        "id": "t7YuHKjTVfN0",
        "outputId": "cf9f27e4-49f6-4f30-b7f9-c8d7c792c4f7"
      },
      "outputs": [
        {
          "name": "stdout",
          "output_type": "stream",
          "text": [
            "/content\n"
          ]
        }
      ],
      "source": [
        "cd /content"
      ]
    },
    {
      "cell_type": "markdown",
      "metadata": {
        "id": "7hzQQb1euFBl"
      },
      "source": []
    },
    {
      "cell_type": "markdown",
      "metadata": {
        "id": "GVZ5WBcqo-Ix"
      },
      "source": [
        "2-FAIRSEQ Preprocess \"Prepare the data to go into the transformer\""
      ]
    },
    {
      "cell_type": "code",
      "execution_count": null,
      "metadata": {
        "id": "-UEna5kxW5eR"
      },
      "outputs": [],
      "source": [
        "!pip install fairseq"
      ]
    },
    {
      "cell_type": "code",
      "execution_count": null,
      "metadata": {
        "colab": {
          "base_uri": "https://localhost:8080/"
        },
        "id": "0mPeXgGLo-8M",
        "outputId": "ddb39167-7c0a-4d0f-a66c-c1a010be7634"
      },
      "outputs": [
        {
          "name": "stdout",
          "output_type": "stream",
          "text": [
            "2023-09-04 01:18:31.659062: I tensorflow/core/platform/cpu_feature_guard.cc:182] This TensorFlow binary is optimized to use available CPU instructions in performance-critical operations.\n",
            "To enable the following instructions: AVX2 FMA, in other operations, rebuild TensorFlow with the appropriate compiler flags.\n",
            "2023-09-04 01:18:34.202809: W tensorflow/compiler/tf2tensorrt/utils/py_utils.cc:38] TF-TRT Warning: Could not find TensorRT\n",
            "INFO:fairseq.tasks.text_to_speech:Please install tensorboardX: pip install tensorboardX\n",
            "INFO:fairseq_cli.preprocess:Namespace(no_progress_bar=False, log_interval=100, log_format=None, log_file=None, aim_repo=None, aim_run_hash=None, tensorboard_logdir=None, wandb_project=None, azureml_logging=False, seed=1, cpu=False, tpu=False, bf16=False, memory_efficient_bf16=False, fp16=False, memory_efficient_fp16=False, fp16_no_flatten_grads=False, fp16_init_scale=128, fp16_scale_window=None, fp16_scale_tolerance=0.0, on_cpu_convert_precision=False, min_loss_scale=0.0001, threshold_loss_scale=None, amp=False, amp_batch_retries=2, amp_init_scale=128, amp_scale_window=None, user_dir=None, empty_cache_freq=0, all_gather_list_size=16384, model_parallel_size=1, quantization_config_path=None, profile=False, reset_logging=False, suppress_crashes=False, use_plasma_view=False, plasma_path='/tmp/plasma', criterion='cross_entropy', tokenizer=None, bpe=None, optimizer=None, lr_scheduler='fixed', scoring='bleu', task='translation', source_lang='ar', target_lang='sw', trainpref='/content/train_bpe/train.bpe', validpref='/content/val_bpe/val.bpe', testpref='/content/test_bpe/test.bpe', align_suffix='align', destdir='/content/ar_sw.tokenized.ar-sw', thresholdtgt=0, thresholdsrc=0, tgtdict='/content/bpe_dict_path/fairseq.sw.vocab', srcdict='/content/bpe_dict_path/fairseq.ar.vocab', nwordstgt=-1, nwordssrc=-1, alignfile=None, dataset_impl='mmap', joined_dictionary=False, only_source=False, padding_factor=8, workers=1, dict_only=False)\n",
            "INFO:fairseq_cli.preprocess:[ar] Dictionary: 12001 types\n",
            "INFO:fairseq_cli.preprocess:[ar] /content/train_bpe/train.bpe.ar: 27531 sents, 670052 tokens, 0.0848% replaced (by <unk>)\n",
            "INFO:fairseq_cli.preprocess:[ar] Dictionary: 12001 types\n",
            "INFO:fairseq_cli.preprocess:[ar] /content/val_bpe/val.bpe.ar: 2000 sents, 49021 tokens, 0.0959% replaced (by <unk>)\n",
            "INFO:fairseq_cli.preprocess:[ar] Dictionary: 12001 types\n",
            "INFO:fairseq_cli.preprocess:[ar] /content/test_bpe/test.bpe.ar: 3281 sents, 78920 tokens, 0.0672% replaced (by <unk>)\n",
            "INFO:fairseq_cli.preprocess:[sw] Dictionary: 12001 types\n",
            "INFO:fairseq_cli.preprocess:[sw] /content/train_bpe/train.bpe.sw: 27531 sents, 715812 tokens, 0.138% replaced (by <unk>)\n",
            "INFO:fairseq_cli.preprocess:[sw] Dictionary: 12001 types\n",
            "INFO:fairseq_cli.preprocess:[sw] /content/val_bpe/val.bpe.sw: 2000 sents, 52161 tokens, 0.144% replaced (by <unk>)\n",
            "INFO:fairseq_cli.preprocess:[sw] Dictionary: 12001 types\n",
            "INFO:fairseq_cli.preprocess:[sw] /content/test_bpe/test.bpe.sw: 3281 sents, 84840 tokens, 0.141% replaced (by <unk>)\n",
            "INFO:fairseq_cli.preprocess:Wrote preprocessed data to /content/ar_sw.tokenized.ar-sw\n"
          ]
        }
      ],
      "source": [
        "SOURCE_LANGUAGE=\"ar\"\n",
        "TARGET_LANGUAGE=\"sw\"\n",
        "TRAIN_PREF=\"/content/train_bpe/train.bpe\"\n",
        "VALID_PREF=\"/content/val_bpe/val.bpe\"\n",
        "TEST_PREF=\"/content/test_bpe/test.bpe\"\n",
        "DEST_DIR=\"/content/ar_sw.tokenized.ar-sw\"\n",
        "SRC_THRES=0\n",
        "TGT_THRES=0\n",
        "ar_DICT_PATH=\"/content/bpe_dict_path/fairseq.ar.vocab\"\n",
        "swahili_DICT_PATH=\"/content/bpe_dict_path/fairseq.sw.vocab\"\n",
        "\n",
        "!fairseq-preprocess    --source-lang $SOURCE_LANGUAGE --target-lang $TARGET_LANGUAGE  \\\n",
        "   --srcdict \"/content/bpe_dict_path/fairseq.ar.vocab\"    --tgtdict \"/content/bpe_dict_path/fairseq.sw.vocab\"  --align-suffix align     --trainpref  $TRAIN_PREF        --validpref $VALID_PREF     --testpref $TEST_PREF   --destdir  $DEST_DIR     --thresholdsrc $SRC_THRES     --thresholdtgt $TGT_THRES"
      ]
    },
    {
      "cell_type": "markdown",
      "metadata": {
        "id": "9ij0c-73pCjQ"
      },
      "source": [
        "3-FAIRSEQ TRAIN\n",
        "\"makes use of the DEST_DIR\""
      ]
    },
    {
      "cell_type": "code",
      "execution_count": null,
      "metadata": {
        "id": "3jyTs9GlvmoV"
      },
      "outputs": [],
      "source": [
        "%%capture\n",
        "!pip install wandb\n",
        "import wandb\n",
        "wandb.login(key = \"apikey\")"
      ]
    },
    {
      "cell_type": "code",
      "execution_count": null,
      "metadata": {
        "id": "i2bT3LMNnGZF"
      },
      "outputs": [],
      "source": [
        "%mkdir /content/drive/MyDrive/logs"
      ]
    },
    {
      "cell_type": "code",
      "execution_count": null,
      "metadata": {
        "colab": {
          "base_uri": "https://localhost:8080/"
        },
        "id": "6MtTqnjZpEb6",
        "outputId": "9ef169ae-4019-4db6-e26d-db3364f71a92"
      },
      "outputs": [
        {
          "name": "stdout",
          "output_type": "stream",
          "text": [
            "2023-09-04 04:26:19 | INFO | fairseq.tasks.text_to_speech | Please install tensorboardX: pip install tensorboardX\n",
            "2023-09-04 04:26:21 | INFO | fairseq_cli.train | {'_name': None, 'common': {'_name': None, 'no_progress_bar': False, 'log_interval': 10, 'log_format': 'json', 'log_file': None, 'aim_repo': None, 'aim_run_hash': None, 'tensorboard_logdir': None, 'wandb_project': 'LARGE_SCALE_ARSWAHILI_Translation', 'azureml_logging': False, 'seed': 1, 'cpu': False, 'tpu': False, 'bf16': False, 'memory_efficient_bf16': False, 'fp16': False, 'memory_efficient_fp16': False, 'fp16_no_flatten_grads': False, 'fp16_init_scale': 128, 'fp16_scale_window': None, 'fp16_scale_tolerance': 0.0, 'on_cpu_convert_precision': False, 'min_loss_scale': 0.0001, 'threshold_loss_scale': None, 'amp': False, 'amp_batch_retries': 2, 'amp_init_scale': 128, 'amp_scale_window': None, 'user_dir': None, 'empty_cache_freq': 0, 'all_gather_list_size': 16384, 'model_parallel_size': 1, 'quantization_config_path': None, 'profile': False, 'reset_logging': False, 'suppress_crashes': False, 'use_plasma_view': False, 'plasma_path': '/tmp/plasma'}, 'common_eval': {'_name': None, 'path': None, 'post_process': None, 'quiet': False, 'model_overrides': '{}', 'results_path': None}, 'distributed_training': {'_name': None, 'distributed_world_size': 1, 'distributed_num_procs': 1, 'distributed_rank': 0, 'distributed_backend': 'nccl', 'distributed_init_method': None, 'distributed_port': -1, 'device_id': 0, 'distributed_no_spawn': False, 'ddp_backend': 'no_c10d', 'ddp_comm_hook': 'none', 'bucket_cap_mb': 25, 'fix_batches_to_gpus': False, 'find_unused_parameters': True, 'gradient_as_bucket_view': False, 'fast_stat_sync': False, 'heartbeat_timeout': -1, 'broadcast_buffers': False, 'slowmo_momentum': None, 'slowmo_base_algorithm': 'localsgd', 'localsgd_frequency': 3, 'nprocs_per_node': 1, 'pipeline_model_parallel': False, 'pipeline_balance': None, 'pipeline_devices': None, 'pipeline_chunks': 0, 'pipeline_encoder_balance': None, 'pipeline_encoder_devices': None, 'pipeline_decoder_balance': None, 'pipeline_decoder_devices': None, 'pipeline_checkpoint': 'never', 'zero_sharding': 'none', 'fp16': False, 'memory_efficient_fp16': False, 'tpu': False, 'no_reshard_after_forward': False, 'fp32_reduce_scatter': False, 'cpu_offload': False, 'use_sharded_state': False, 'not_fsdp_flatten_parameters': False}, 'dataset': {'_name': None, 'num_workers': 1, 'skip_invalid_size_inputs_valid_test': False, 'max_tokens': 4096, 'batch_size': None, 'required_batch_size_multiple': 8, 'required_seq_len_multiple': 1, 'dataset_impl': None, 'data_buffer_size': 10, 'train_subset': 'train', 'valid_subset': 'valid', 'combine_valid_subsets': None, 'ignore_unused_valid_subsets': False, 'validate_interval': 1, 'validate_interval_updates': 0, 'validate_after_updates': 0, 'fixed_validation_seed': None, 'disable_validation': False, 'max_tokens_valid': 4096, 'batch_size_valid': None, 'max_valid_steps': None, 'curriculum': 0, 'gen_subset': 'test', 'num_shards': 1, 'shard_id': 0, 'grouped_shuffling': False, 'update_epoch_batch_itr': False, 'update_ordered_indices_seed': False}, 'optimization': {'_name': None, 'max_epoch': 400, 'max_update': 0, 'stop_time_hours': 0.0, 'clip_norm': 0.0, 'sentence_avg': False, 'update_freq': [1], 'lr': [0.0005], 'stop_min_lr': -1.0, 'use_bmuf': False, 'skip_remainder_batch': False, 'debug_param_names': False}, 'checkpoint': {'_name': None, 'save_dir': '/content/drive/MyDrive/ironside_nmt/checkpoints/', 'restore_file': 'checkpoint_last.pt', 'continue_once': None, 'finetune_from_model': None, 'reset_dataloader': False, 'reset_lr_scheduler': False, 'reset_meters': False, 'reset_optimizer': False, 'optimizer_overrides': '{}', 'save_interval': 1, 'save_interval_updates': 0, 'keep_interval_updates': -1, 'keep_interval_updates_pattern': -1, 'keep_last_epochs': -1, 'keep_best_checkpoints': -1, 'no_save': False, 'no_epoch_checkpoints': True, 'no_last_checkpoints': False, 'no_save_optimizer_state': False, 'best_checkpoint_metric': 'loss', 'maximize_best_checkpoint_metric': False, 'patience': -1, 'checkpoint_suffix': '', 'checkpoint_shard_count': 1, 'load_checkpoint_on_all_dp_ranks': False, 'write_checkpoints_asynchronously': False, 'model_parallel_size': 1}, 'bmuf': {'_name': None, 'block_lr': 1.0, 'block_momentum': 0.875, 'global_sync_iter': 50, 'warmup_iterations': 500, 'use_nbm': False, 'average_sync': False, 'distributed_world_size': 1}, 'generation': {'_name': None, 'beam': 5, 'beam_mt': 0, 'nbest': 1, 'max_len_a': 0.0, 'max_len_b': 200, 'max_len_a_mt': 0.0, 'max_len_b_mt': 200, 'min_len': 1, 'match_source_len': False, 'unnormalized': False, 'no_early_stop': False, 'no_beamable_mm': False, 'lenpen': 1.0, 'lenpen_mt': 1.0, 'unkpen': 0.0, 'replace_unk': None, 'sacrebleu': False, 'score_reference': False, 'prefix_size': 0, 'no_repeat_ngram_size': 0, 'sampling': False, 'sampling_topk': -1, 'sampling_topp': -1.0, 'constraints': None, 'temperature': 1.0, 'diverse_beam_groups': -1, 'diverse_beam_strength': 0.5, 'diversity_rate': -1.0, 'print_alignment': None, 'print_step': False, 'lm_path': None, 'lm_weight': 0.0, 'iter_decode_eos_penalty': 0.0, 'iter_decode_max_iter': 10, 'iter_decode_force_max_iter': False, 'iter_decode_with_beam': 1, 'iter_decode_with_external_reranker': False, 'retain_iter_history': False, 'retain_dropout': False, 'retain_dropout_modules': None, 'decoding_format': None, 'no_seed_provided': False, 'eos_token': None}, 'eval_lm': {'_name': None, 'output_word_probs': False, 'output_word_stats': False, 'context_window': 0, 'softmax_batch': 9223372036854775807}, 'interactive': {'_name': None, 'buffer_size': 0, 'input': '-'}, 'model': Namespace(no_progress_bar=False, log_interval=10, log_format='json', log_file=None, aim_repo=None, aim_run_hash=None, tensorboard_logdir=None, wandb_project='LARGE_SCALE_ARSWAHILI_Translation', azureml_logging=False, seed=1, cpu=False, tpu=False, bf16=False, memory_efficient_bf16=False, fp16=False, memory_efficient_fp16=False, fp16_no_flatten_grads=False, fp16_init_scale=128, fp16_scale_window=None, fp16_scale_tolerance=0.0, on_cpu_convert_precision=False, min_loss_scale=0.0001, threshold_loss_scale=None, amp=False, amp_batch_retries=2, amp_init_scale=128, amp_scale_window=None, user_dir=None, empty_cache_freq=0, all_gather_list_size=16384, model_parallel_size=1, quantization_config_path=None, profile=False, reset_logging=False, suppress_crashes=False, use_plasma_view=False, plasma_path='/tmp/plasma', criterion='label_smoothed_cross_entropy', tokenizer=None, bpe=None, optimizer='adam', lr_scheduler='inverse_sqrt', scoring='bleu', task='translation', num_workers=1, skip_invalid_size_inputs_valid_test=False, max_tokens=4096, batch_size=None, required_batch_size_multiple=8, required_seq_len_multiple=1, dataset_impl=None, data_buffer_size=10, train_subset='train', valid_subset='valid', combine_valid_subsets=None, ignore_unused_valid_subsets=False, validate_interval=1, validate_interval_updates=0, validate_after_updates=0, fixed_validation_seed=None, disable_validation=False, max_tokens_valid=4096, batch_size_valid=None, max_valid_steps=None, curriculum=0, gen_subset='test', num_shards=1, shard_id=0, grouped_shuffling=False, update_epoch_batch_itr=False, update_ordered_indices_seed=False, distributed_world_size=1, distributed_num_procs=1, distributed_rank=0, distributed_backend='nccl', distributed_init_method=None, distributed_port=-1, device_id=0, distributed_no_spawn=False, ddp_backend='no_c10d', ddp_comm_hook='none', bucket_cap_mb=25, fix_batches_to_gpus=False, find_unused_parameters=True, gradient_as_bucket_view=False, fast_stat_sync=False, heartbeat_timeout=-1, broadcast_buffers=False, slowmo_momentum=None, slowmo_base_algorithm='localsgd', localsgd_frequency=3, nprocs_per_node=1, pipeline_model_parallel=False, pipeline_balance=None, pipeline_devices=None, pipeline_chunks=0, pipeline_encoder_balance=None, pipeline_encoder_devices=None, pipeline_decoder_balance=None, pipeline_decoder_devices=None, pipeline_checkpoint='never', zero_sharding='none', no_reshard_after_forward=False, fp32_reduce_scatter=False, cpu_offload=False, use_sharded_state=False, not_fsdp_flatten_parameters=False, arch='transformer', max_epoch=400, max_update=0, stop_time_hours=0, clip_norm=0.0, sentence_avg=False, update_freq=[1], lr=[0.0005], stop_min_lr=-1.0, use_bmuf=False, skip_remainder_batch=False, debug_param_names=False, save_dir='/content/drive/MyDrive/ironside_nmt/checkpoints/', restore_file='checkpoint_last.pt', continue_once=None, finetune_from_model=None, reset_dataloader=False, reset_lr_scheduler=False, reset_meters=False, reset_optimizer=False, optimizer_overrides='{}', save_interval=1, save_interval_updates=0, keep_interval_updates=-1, keep_interval_updates_pattern=-1, keep_last_epochs=-1, keep_best_checkpoints=-1, no_save=False, no_epoch_checkpoints=True, no_last_checkpoints=False, no_save_optimizer_state=False, best_checkpoint_metric='loss', maximize_best_checkpoint_metric=False, patience=-1, checkpoint_suffix='', checkpoint_shard_count=1, load_checkpoint_on_all_dp_ranks=False, write_checkpoints_asynchronously=False, store_ema=False, ema_decay=0.9999, ema_start_update=0, ema_seed_model=None, ema_update_freq=1, ema_fp32=False, data='/content/ar_sw.tokenized.ar-sw', source_lang='ar', target_lang='sw', load_alignments=False, left_pad_source=True, left_pad_target=False, upsample_primary=-1, truncate_source=False, num_batch_buckets=0, eval_bleu=False, eval_bleu_args='{}', eval_bleu_detok='space', eval_bleu_detok_args='{}', eval_tokenized_bleu=False, eval_bleu_remove_bpe=None, eval_bleu_print_samples=False, label_smoothing=0.1, report_accuracy=False, ignore_prefix_size=0, adam_betas=(0.9, 0.999), adam_eps=1e-08, weight_decay=0.0, use_old_adam=False, fp16_adam_stats=False, warmup_updates=4000, warmup_init_lr=-1, pad=1, eos=2, unk=3, dropout=0.1, attention_dropout=0.0, encoder_embed_dim=256, encoder_ffn_embed_dim=1024, encoder_layers=5, encoder_attention_heads=8, encoder_learned_pos=True, decoder_embed_dim=256, decoder_ffn_embed_dim=1024, decoder_layers=5, decoder_attention_heads=8, decoder_learned_pos=True, encoder_layerdrop=0.1, decoder_layerdrop=0.1, activation_dropout=0.1, no_seed_provided=False, encoder_embed_path=None, encoder_normalize_before=False, decoder_embed_path=None, decoder_normalize_before=False, activation_fn='relu', adaptive_softmax_cutoff=None, adaptive_softmax_dropout=0, share_decoder_input_output_embed=False, share_all_embeddings=False, merge_src_tgt_embed=False, no_token_positional_embeddings=False, adaptive_input=False, no_cross_attention=False, cross_self_attention=False, decoder_output_dim=256, decoder_input_dim=256, no_scale_embedding=False, layernorm_embedding=False, tie_adaptive_weights=False, checkpoint_activations=False, offload_activations=False, encoder_layers_to_keep=None, decoder_layers_to_keep=None, quant_noise_pq=0, quant_noise_pq_block_size=8, quant_noise_scalar=0, _name='transformer'), 'task': {'_name': 'translation', 'data': '/content/ar_sw.tokenized.ar-sw', 'source_lang': 'ar', 'target_lang': 'sw', 'load_alignments': False, 'left_pad_source': True, 'left_pad_target': False, 'max_source_positions': 1024, 'max_target_positions': 1024, 'upsample_primary': -1, 'truncate_source': False, 'num_batch_buckets': 0, 'train_subset': 'train', 'dataset_impl': None, 'required_seq_len_multiple': 1, 'eval_bleu': False, 'eval_bleu_args': '{}', 'eval_bleu_detok': 'space', 'eval_bleu_detok_args': '{}', 'eval_tokenized_bleu': False, 'eval_bleu_remove_bpe': None, 'eval_bleu_print_samples': False}, 'criterion': {'_name': 'label_smoothed_cross_entropy', 'label_smoothing': 0.1, 'report_accuracy': False, 'ignore_prefix_size': 0, 'sentence_avg': False}, 'optimizer': {'_name': 'adam', 'adam_betas': [0.9, 0.999], 'adam_eps': 1e-08, 'weight_decay': 0.0, 'use_old_adam': False, 'fp16_adam_stats': False, 'tpu': False, 'lr': [0.0005]}, 'lr_scheduler': {'_name': 'inverse_sqrt', 'warmup_updates': 4000, 'warmup_init_lr': -1.0, 'lr': [0.0005]}, 'scoring': {'_name': 'bleu', 'pad': 1, 'eos': 2, 'unk': 3}, 'bpe': None, 'tokenizer': None, 'ema': {'_name': None, 'store_ema': False, 'ema_decay': 0.9999, 'ema_start_update': 0, 'ema_seed_model': None, 'ema_update_freq': 1, 'ema_fp32': False}}\n",
            "2023-09-04 04:26:21 | INFO | fairseq.tasks.translation | [ar] dictionary: 12001 types\n",
            "2023-09-04 04:26:21 | INFO | fairseq.tasks.translation | [sw] dictionary: 12001 types\n",
            "2023-09-04 04:26:21 | INFO | fairseq_cli.train | TransformerModel(\n",
            "  (encoder): TransformerEncoderBase(\n",
            "    (dropout_module): FairseqDropout()\n",
            "    (embed_tokens): Embedding(12001, 256, padding_idx=1)\n",
            "    (embed_positions): LearnedPositionalEmbedding(1026, 256, padding_idx=1)\n",
            "    (layers): LayerDropModuleList(\n",
            "      (0): TransformerEncoderLayerBase(\n",
            "        (self_attn): MultiheadAttention(\n",
            "          (dropout_module): FairseqDropout()\n",
            "          (k_proj): Linear(in_features=256, out_features=256, bias=True)\n",
            "          (v_proj): Linear(in_features=256, out_features=256, bias=True)\n",
            "          (q_proj): Linear(in_features=256, out_features=256, bias=True)\n",
            "          (out_proj): Linear(in_features=256, out_features=256, bias=True)\n",
            "        )\n",
            "        (self_attn_layer_norm): LayerNorm((256,), eps=1e-05, elementwise_affine=True)\n",
            "        (dropout_module): FairseqDropout()\n",
            "        (activation_dropout_module): FairseqDropout()\n",
            "        (fc1): Linear(in_features=256, out_features=1024, bias=True)\n",
            "        (fc2): Linear(in_features=1024, out_features=256, bias=True)\n",
            "        (final_layer_norm): LayerNorm((256,), eps=1e-05, elementwise_affine=True)\n",
            "      )\n",
            "      (1): TransformerEncoderLayerBase(\n",
            "        (self_attn): MultiheadAttention(\n",
            "          (dropout_module): FairseqDropout()\n",
            "          (k_proj): Linear(in_features=256, out_features=256, bias=True)\n",
            "          (v_proj): Linear(in_features=256, out_features=256, bias=True)\n",
            "          (q_proj): Linear(in_features=256, out_features=256, bias=True)\n",
            "          (out_proj): Linear(in_features=256, out_features=256, bias=True)\n",
            "        )\n",
            "        (self_attn_layer_norm): LayerNorm((256,), eps=1e-05, elementwise_affine=True)\n",
            "        (dropout_module): FairseqDropout()\n",
            "        (activation_dropout_module): FairseqDropout()\n",
            "        (fc1): Linear(in_features=256, out_features=1024, bias=True)\n",
            "        (fc2): Linear(in_features=1024, out_features=256, bias=True)\n",
            "        (final_layer_norm): LayerNorm((256,), eps=1e-05, elementwise_affine=True)\n",
            "      )\n",
            "      (2): TransformerEncoderLayerBase(\n",
            "        (self_attn): MultiheadAttention(\n",
            "          (dropout_module): FairseqDropout()\n",
            "          (k_proj): Linear(in_features=256, out_features=256, bias=True)\n",
            "          (v_proj): Linear(in_features=256, out_features=256, bias=True)\n",
            "          (q_proj): Linear(in_features=256, out_features=256, bias=True)\n",
            "          (out_proj): Linear(in_features=256, out_features=256, bias=True)\n",
            "        )\n",
            "        (self_attn_layer_norm): LayerNorm((256,), eps=1e-05, elementwise_affine=True)\n",
            "        (dropout_module): FairseqDropout()\n",
            "        (activation_dropout_module): FairseqDropout()\n",
            "        (fc1): Linear(in_features=256, out_features=1024, bias=True)\n",
            "        (fc2): Linear(in_features=1024, out_features=256, bias=True)\n",
            "        (final_layer_norm): LayerNorm((256,), eps=1e-05, elementwise_affine=True)\n",
            "      )\n",
            "      (3): TransformerEncoderLayerBase(\n",
            "        (self_attn): MultiheadAttention(\n",
            "          (dropout_module): FairseqDropout()\n",
            "          (k_proj): Linear(in_features=256, out_features=256, bias=True)\n",
            "          (v_proj): Linear(in_features=256, out_features=256, bias=True)\n",
            "          (q_proj): Linear(in_features=256, out_features=256, bias=True)\n",
            "          (out_proj): Linear(in_features=256, out_features=256, bias=True)\n",
            "        )\n",
            "        (self_attn_layer_norm): LayerNorm((256,), eps=1e-05, elementwise_affine=True)\n",
            "        (dropout_module): FairseqDropout()\n",
            "        (activation_dropout_module): FairseqDropout()\n",
            "        (fc1): Linear(in_features=256, out_features=1024, bias=True)\n",
            "        (fc2): Linear(in_features=1024, out_features=256, bias=True)\n",
            "        (final_layer_norm): LayerNorm((256,), eps=1e-05, elementwise_affine=True)\n",
            "      )\n",
            "      (4): TransformerEncoderLayerBase(\n",
            "        (self_attn): MultiheadAttention(\n",
            "          (dropout_module): FairseqDropout()\n",
            "          (k_proj): Linear(in_features=256, out_features=256, bias=True)\n",
            "          (v_proj): Linear(in_features=256, out_features=256, bias=True)\n",
            "          (q_proj): Linear(in_features=256, out_features=256, bias=True)\n",
            "          (out_proj): Linear(in_features=256, out_features=256, bias=True)\n",
            "        )\n",
            "        (self_attn_layer_norm): LayerNorm((256,), eps=1e-05, elementwise_affine=True)\n",
            "        (dropout_module): FairseqDropout()\n",
            "        (activation_dropout_module): FairseqDropout()\n",
            "        (fc1): Linear(in_features=256, out_features=1024, bias=True)\n",
            "        (fc2): Linear(in_features=1024, out_features=256, bias=True)\n",
            "        (final_layer_norm): LayerNorm((256,), eps=1e-05, elementwise_affine=True)\n",
            "      )\n",
            "    )\n",
            "  )\n",
            "  (decoder): TransformerDecoderBase(\n",
            "    (dropout_module): FairseqDropout()\n",
            "    (embed_tokens): Embedding(12001, 256, padding_idx=1)\n",
            "    (embed_positions): LearnedPositionalEmbedding(1026, 256, padding_idx=1)\n",
            "    (layers): LayerDropModuleList(\n",
            "      (0): TransformerDecoderLayerBase(\n",
            "        (dropout_module): FairseqDropout()\n",
            "        (self_attn): MultiheadAttention(\n",
            "          (dropout_module): FairseqDropout()\n",
            "          (k_proj): Linear(in_features=256, out_features=256, bias=True)\n",
            "          (v_proj): Linear(in_features=256, out_features=256, bias=True)\n",
            "          (q_proj): Linear(in_features=256, out_features=256, bias=True)\n",
            "          (out_proj): Linear(in_features=256, out_features=256, bias=True)\n",
            "        )\n",
            "        (activation_dropout_module): FairseqDropout()\n",
            "        (self_attn_layer_norm): LayerNorm((256,), eps=1e-05, elementwise_affine=True)\n",
            "        (encoder_attn): MultiheadAttention(\n",
            "          (dropout_module): FairseqDropout()\n",
            "          (k_proj): Linear(in_features=256, out_features=256, bias=True)\n",
            "          (v_proj): Linear(in_features=256, out_features=256, bias=True)\n",
            "          (q_proj): Linear(in_features=256, out_features=256, bias=True)\n",
            "          (out_proj): Linear(in_features=256, out_features=256, bias=True)\n",
            "        )\n",
            "        (encoder_attn_layer_norm): LayerNorm((256,), eps=1e-05, elementwise_affine=True)\n",
            "        (fc1): Linear(in_features=256, out_features=1024, bias=True)\n",
            "        (fc2): Linear(in_features=1024, out_features=256, bias=True)\n",
            "        (final_layer_norm): LayerNorm((256,), eps=1e-05, elementwise_affine=True)\n",
            "      )\n",
            "      (1): TransformerDecoderLayerBase(\n",
            "        (dropout_module): FairseqDropout()\n",
            "        (self_attn): MultiheadAttention(\n",
            "          (dropout_module): FairseqDropout()\n",
            "          (k_proj): Linear(in_features=256, out_features=256, bias=True)\n",
            "          (v_proj): Linear(in_features=256, out_features=256, bias=True)\n",
            "          (q_proj): Linear(in_features=256, out_features=256, bias=True)\n",
            "          (out_proj): Linear(in_features=256, out_features=256, bias=True)\n",
            "        )\n",
            "        (activation_dropout_module): FairseqDropout()\n",
            "        (self_attn_layer_norm): LayerNorm((256,), eps=1e-05, elementwise_affine=True)\n",
            "        (encoder_attn): MultiheadAttention(\n",
            "          (dropout_module): FairseqDropout()\n",
            "          (k_proj): Linear(in_features=256, out_features=256, bias=True)\n",
            "          (v_proj): Linear(in_features=256, out_features=256, bias=True)\n",
            "          (q_proj): Linear(in_features=256, out_features=256, bias=True)\n",
            "          (out_proj): Linear(in_features=256, out_features=256, bias=True)\n",
            "        )\n",
            "        (encoder_attn_layer_norm): LayerNorm((256,), eps=1e-05, elementwise_affine=True)\n",
            "        (fc1): Linear(in_features=256, out_features=1024, bias=True)\n",
            "        (fc2): Linear(in_features=1024, out_features=256, bias=True)\n",
            "        (final_layer_norm): LayerNorm((256,), eps=1e-05, elementwise_affine=True)\n",
            "      )\n",
            "      (2): TransformerDecoderLayerBase(\n",
            "        (dropout_module): FairseqDropout()\n",
            "        (self_attn): MultiheadAttention(\n",
            "          (dropout_module): FairseqDropout()\n",
            "          (k_proj): Linear(in_features=256, out_features=256, bias=True)\n",
            "          (v_proj): Linear(in_features=256, out_features=256, bias=True)\n",
            "          (q_proj): Linear(in_features=256, out_features=256, bias=True)\n",
            "          (out_proj): Linear(in_features=256, out_features=256, bias=True)\n",
            "        )\n",
            "        (activation_dropout_module): FairseqDropout()\n",
            "        (self_attn_layer_norm): LayerNorm((256,), eps=1e-05, elementwise_affine=True)\n",
            "        (encoder_attn): MultiheadAttention(\n",
            "          (dropout_module): FairseqDropout()\n",
            "          (k_proj): Linear(in_features=256, out_features=256, bias=True)\n",
            "          (v_proj): Linear(in_features=256, out_features=256, bias=True)\n",
            "          (q_proj): Linear(in_features=256, out_features=256, bias=True)\n",
            "          (out_proj): Linear(in_features=256, out_features=256, bias=True)\n",
            "        )\n",
            "        (encoder_attn_layer_norm): LayerNorm((256,), eps=1e-05, elementwise_affine=True)\n",
            "        (fc1): Linear(in_features=256, out_features=1024, bias=True)\n",
            "        (fc2): Linear(in_features=1024, out_features=256, bias=True)\n",
            "        (final_layer_norm): LayerNorm((256,), eps=1e-05, elementwise_affine=True)\n",
            "      )\n",
            "      (3): TransformerDecoderLayerBase(\n",
            "        (dropout_module): FairseqDropout()\n",
            "        (self_attn): MultiheadAttention(\n",
            "          (dropout_module): FairseqDropout()\n",
            "          (k_proj): Linear(in_features=256, out_features=256, bias=True)\n",
            "          (v_proj): Linear(in_features=256, out_features=256, bias=True)\n",
            "          (q_proj): Linear(in_features=256, out_features=256, bias=True)\n",
            "          (out_proj): Linear(in_features=256, out_features=256, bias=True)\n",
            "        )\n",
            "        (activation_dropout_module): FairseqDropout()\n",
            "        (self_attn_layer_norm): LayerNorm((256,), eps=1e-05, elementwise_affine=True)\n",
            "        (encoder_attn): MultiheadAttention(\n",
            "          (dropout_module): FairseqDropout()\n",
            "          (k_proj): Linear(in_features=256, out_features=256, bias=True)\n",
            "          (v_proj): Linear(in_features=256, out_features=256, bias=True)\n",
            "          (q_proj): Linear(in_features=256, out_features=256, bias=True)\n",
            "          (out_proj): Linear(in_features=256, out_features=256, bias=True)\n",
            "        )\n",
            "        (encoder_attn_layer_norm): LayerNorm((256,), eps=1e-05, elementwise_affine=True)\n",
            "        (fc1): Linear(in_features=256, out_features=1024, bias=True)\n",
            "        (fc2): Linear(in_features=1024, out_features=256, bias=True)\n",
            "        (final_layer_norm): LayerNorm((256,), eps=1e-05, elementwise_affine=True)\n",
            "      )\n",
            "      (4): TransformerDecoderLayerBase(\n",
            "        (dropout_module): FairseqDropout()\n",
            "        (self_attn): MultiheadAttention(\n",
            "          (dropout_module): FairseqDropout()\n",
            "          (k_proj): Linear(in_features=256, out_features=256, bias=True)\n",
            "          (v_proj): Linear(in_features=256, out_features=256, bias=True)\n",
            "          (q_proj): Linear(in_features=256, out_features=256, bias=True)\n",
            "          (out_proj): Linear(in_features=256, out_features=256, bias=True)\n",
            "        )\n",
            "        (activation_dropout_module): FairseqDropout()\n",
            "        (self_attn_layer_norm): LayerNorm((256,), eps=1e-05, elementwise_affine=True)\n",
            "        (encoder_attn): MultiheadAttention(\n",
            "          (dropout_module): FairseqDropout()\n",
            "          (k_proj): Linear(in_features=256, out_features=256, bias=True)\n",
            "          (v_proj): Linear(in_features=256, out_features=256, bias=True)\n",
            "          (q_proj): Linear(in_features=256, out_features=256, bias=True)\n",
            "          (out_proj): Linear(in_features=256, out_features=256, bias=True)\n",
            "        )\n",
            "        (encoder_attn_layer_norm): LayerNorm((256,), eps=1e-05, elementwise_affine=True)\n",
            "        (fc1): Linear(in_features=256, out_features=1024, bias=True)\n",
            "        (fc2): Linear(in_features=1024, out_features=256, bias=True)\n",
            "        (final_layer_norm): LayerNorm((256,), eps=1e-05, elementwise_affine=True)\n",
            "      )\n",
            "    )\n",
            "    (output_projection): Linear(in_features=256, out_features=12001, bias=False)\n",
            "  )\n",
            ")\n",
            "2023-09-04 04:26:21 | INFO | fairseq_cli.train | task: TranslationTask\n",
            "2023-09-04 04:26:21 | INFO | fairseq_cli.train | model: TransformerModel\n",
            "2023-09-04 04:26:21 | INFO | fairseq_cli.train | criterion: LabelSmoothedCrossEntropyCriterion\n",
            "2023-09-04 04:26:21 | INFO | fairseq_cli.train | num. shared model params: 18,958,080 (num. trained: 18,958,080)\n",
            "2023-09-04 04:26:21 | INFO | fairseq_cli.train | num. expert model params: 0 (num. trained: 0)\n",
            "2023-09-04 04:26:21 | INFO | fairseq.data.data_utils | loaded 2,000 examples from: /content/ar_sw.tokenized.ar-sw/valid.ar-sw.ar\n",
            "2023-09-04 04:26:21 | INFO | fairseq.data.data_utils | loaded 2,000 examples from: /content/ar_sw.tokenized.ar-sw/valid.ar-sw.sw\n",
            "2023-09-04 04:26:21 | INFO | fairseq.tasks.translation | /content/ar_sw.tokenized.ar-sw valid ar-sw 2000 examples\n",
            "2023-09-04 04:26:23 | INFO | fairseq.utils | ***********************CUDA enviroments for all 1 workers***********************\n",
            "2023-09-04 04:26:23 | INFO | fairseq.utils | rank   0: capabilities =  7.5  ; total memory = 14.748 GB ; name = Tesla T4                                \n",
            "2023-09-04 04:26:23 | INFO | fairseq.utils | ***********************CUDA enviroments for all 1 workers***********************\n",
            "2023-09-04 04:26:23 | INFO | fairseq_cli.train | training on 1 devices (GPUs/TPUs)\n",
            "2023-09-04 04:26:23 | INFO | fairseq_cli.train | max tokens per device = 4096 and max sentences per device = None\n",
            "2023-09-04 04:26:23 | INFO | fairseq.trainer | Preparing to load checkpoint /content/drive/MyDrive/ironside_nmt/checkpoints/checkpoint_last.pt\n",
            "2023-09-04 04:26:23 | INFO | fairseq.trainer | NOTE: your device may support faster training with --fp16 or --amp\n",
            "2023-09-04 04:26:24 | INFO | fairseq.trainer | Loaded checkpoint /content/drive/MyDrive/ironside_nmt/checkpoints/checkpoint_last.pt (epoch 253 @ 54936 updates)\n",
            "2023-09-04 04:26:24 | INFO | fairseq.trainer | loading train data for epoch 253\n",
            "2023-09-04 04:26:24 | INFO | fairseq.data.data_utils | loaded 27,531 examples from: /content/ar_sw.tokenized.ar-sw/train.ar-sw.ar\n",
            "2023-09-04 04:26:24 | INFO | fairseq.data.data_utils | loaded 27,531 examples from: /content/ar_sw.tokenized.ar-sw/train.ar-sw.sw\n",
            "2023-09-04 04:26:24 | INFO | fairseq.tasks.translation | /content/ar_sw.tokenized.ar-sw train ar-sw 27531 examples\n",
            "2023-09-04 04:26:24 | INFO | fairseq.tasks.fairseq_task | can_reuse_epoch_itr = True\n",
            "2023-09-04 04:26:24 | INFO | fairseq.tasks.fairseq_task | reuse_dataloader = True\n",
            "2023-09-04 04:26:24 | INFO | fairseq.tasks.fairseq_task | rebuild_batches = False\n",
            "2023-09-04 04:26:24 | INFO | fairseq.tasks.fairseq_task | creating new batches for epoch 253\n",
            "2023-09-04 04:26:24 | INFO | fairseq_cli.train | begin dry-run validation on \"valid\" subset\n",
            "2023-09-04 04:26:24 | INFO | fairseq.tasks.fairseq_task | can_reuse_epoch_itr = True\n",
            "2023-09-04 04:26:24 | INFO | fairseq.tasks.fairseq_task | reuse_dataloader = True\n",
            "2023-09-04 04:26:24 | INFO | fairseq.tasks.fairseq_task | rebuild_batches = False\n",
            "2023-09-04 04:26:24 | INFO | fairseq.tasks.fairseq_task | creating new batches for epoch 1\n",
            "2023-09-04 04:26:24 | INFO | fairseq.data.iterators | grouped total_num_itrs = 218\n",
            "wandb: Currently logged in as: arabic-swahilimt (arabic-swahili). Use `wandb login --relogin` to force relogin\n",
            "wandb: Tracking run with wandb version 0.15.9\n",
            "wandb: Run data is saved locally in /content/wandb/run-20230904_042624-06nkxh3h\n",
            "wandb: Run `wandb offline` to turn off syncing.\n",
            "wandb: Syncing run pretty-puddle-6\n",
            "wandb: ⭐️ View project at https://wandb.ai/arabic-swahili/LARGE_SCALE_ARSWAHILI_Translation\n",
            "wandb: 🚀 View run at https://wandb.ai/arabic-swahili/LARGE_SCALE_ARSWAHILI_Translation/runs/06nkxh3h\n",
            "2023-09-04 04:26:25 | INFO | fairseq.trainer | begin training epoch 253\n",
            "2023-09-04 04:26:25 | INFO | fairseq_cli.train | Start iterating over samples\n",
            "/content/fairseq/fairseq/utils.py:374: UserWarning: amp_C fused kernels unavailable, disabling multi_tensor_l2norm; you may get better performance by installing NVIDIA's apex library\n",
            "  warnings.warn(\n",
            "2023-09-04 04:26:26 | INFO | train_inner | {\"epoch\": 253, \"update\": 252.018, \"loss\": \"2.19\", \"nll_loss\": \"0.341\", \"ppl\": \"1.27\", \"wps\": \"26537.1\", \"ups\": \"7.03\", \"wpb\": \"3807.8\", \"bsz\": \"206\", \"num_updates\": \"54940\", \"lr\": \"0.000134914\", \"gnorm\": \"0.54\", \"train_wall\": \"2\", \"gb_free\": \"13.2\", \"wall\": \"3\"}\n",
            "2023-09-04 04:26:27 | INFO | train_inner | {\"epoch\": 253, \"update\": 252.064, \"loss\": \"2.271\", \"nll_loss\": \"0.418\", \"ppl\": \"1.34\", \"wps\": \"25679.4\", \"ups\": \"8.37\", \"wpb\": \"3068.3\", \"bsz\": \"111.2\", \"num_updates\": \"54950\", \"lr\": \"0.000134901\", \"gnorm\": \"0.708\", \"train_wall\": \"1\", \"gb_free\": \"13.8\", \"wall\": \"4\"}\n",
            "2023-09-04 04:26:29 | INFO | train_inner | {\"epoch\": 253, \"update\": 252.11, \"loss\": \"2.301\", \"nll_loss\": \"0.464\", \"ppl\": \"1.38\", \"wps\": \"21879.2\", \"ups\": \"7.42\", \"wpb\": \"2948.5\", \"bsz\": \"117.6\", \"num_updates\": \"54960\", \"lr\": \"0.000134889\", \"gnorm\": \"0.679\", \"train_wall\": \"1\", \"gb_free\": \"13.7\", \"wall\": \"6\"}\n",
            "2023-09-04 04:26:30 | INFO | train_inner | {\"epoch\": 253, \"update\": 252.156, \"loss\": \"2.207\", \"nll_loss\": \"0.373\", \"ppl\": \"1.3\", \"wps\": \"17919\", \"ups\": \"7.44\", \"wpb\": \"2408.3\", \"bsz\": \"112\", \"num_updates\": \"54970\", \"lr\": \"0.000134877\", \"gnorm\": \"0.638\", \"train_wall\": \"1\", \"gb_free\": \"13.4\", \"wall\": \"7\"}\n",
            "2023-09-04 04:26:32 | INFO | train_inner | {\"epoch\": 253, \"update\": 252.202, \"loss\": \"2.21\", \"nll_loss\": \"0.37\", \"ppl\": \"1.29\", \"wps\": \"23002.9\", \"ups\": \"6.52\", \"wpb\": \"3529.2\", \"bsz\": \"152.8\", \"num_updates\": \"54980\", \"lr\": \"0.000134864\", \"gnorm\": \"0.615\", \"train_wall\": \"1\", \"gb_free\": \"13.2\", \"wall\": \"9\"}\n",
            "2023-09-04 04:26:33 | INFO | train_inner | {\"epoch\": 253, \"update\": 252.248, \"loss\": \"2.267\", \"nll_loss\": \"0.421\", \"ppl\": \"1.34\", \"wps\": \"23705.9\", \"ups\": \"6.66\", \"wpb\": \"3560.9\", \"bsz\": \"124.8\", \"num_updates\": \"54990\", \"lr\": \"0.000134852\", \"gnorm\": \"0.616\", \"train_wall\": \"1\", \"gb_free\": \"13.2\", \"wall\": \"10\"}\n",
            "2023-09-04 04:26:35 | INFO | train_inner | {\"epoch\": 253, \"update\": 252.294, \"loss\": \"2.2\", \"nll_loss\": \"0.344\", \"ppl\": \"1.27\", \"wps\": \"21233.9\", \"ups\": \"6.58\", \"wpb\": \"3225.1\", \"bsz\": \"121.6\", \"num_updates\": \"55000\", \"lr\": \"0.00013484\", \"gnorm\": \"0.576\", \"train_wall\": \"1\", \"gb_free\": \"13.2\", \"wall\": \"12\"}\n",
            "2023-09-04 04:26:36 | INFO | train_inner | {\"epoch\": 253, \"update\": 252.339, \"loss\": \"2.256\", \"nll_loss\": \"0.414\", \"ppl\": \"1.33\", \"wps\": \"24774.4\", \"ups\": \"7.38\", \"wpb\": \"3356.7\", \"bsz\": \"94.4\", \"num_updates\": \"55010\", \"lr\": \"0.000134828\", \"gnorm\": \"0.653\", \"train_wall\": \"1\", \"gb_free\": \"13.5\", \"wall\": \"13\"}\n",
            "2023-09-04 04:26:37 | INFO | train_inner | {\"epoch\": 253, \"update\": 252.385, \"loss\": \"2.25\", \"nll_loss\": \"0.399\", \"ppl\": \"1.32\", \"wps\": \"27071.4\", \"ups\": \"7.61\", \"wpb\": \"3556.9\", \"bsz\": \"123.2\", \"num_updates\": \"55020\", \"lr\": \"0.000134815\", \"gnorm\": \"0.568\", \"train_wall\": \"1\", \"gb_free\": \"13.1\", \"wall\": \"14\"}\n",
            "2023-09-04 04:26:39 | INFO | train_inner | {\"epoch\": 253, \"update\": 252.431, \"loss\": \"2.242\", \"nll_loss\": \"0.397\", \"ppl\": \"1.32\", \"wps\": \"27830.1\", \"ups\": \"7.76\", \"wpb\": \"3587.4\", \"bsz\": \"128.8\", \"num_updates\": \"55030\", \"lr\": \"0.000134803\", \"gnorm\": \"0.611\", \"train_wall\": \"1\", \"gb_free\": \"13.4\", \"wall\": \"16\"}\n",
            "2023-09-04 04:26:40 | INFO | train_inner | {\"epoch\": 253, \"update\": 252.477, \"loss\": \"2.293\", \"nll_loss\": \"0.449\", \"ppl\": \"1.36\", \"wps\": \"27657.1\", \"ups\": \"8.02\", \"wpb\": \"3450\", \"bsz\": \"159.2\", \"num_updates\": \"55040\", \"lr\": \"0.000134791\", \"gnorm\": \"0.655\", \"train_wall\": \"1\", \"gb_free\": \"13.5\", \"wall\": \"17\"}\n",
            "2023-09-04 04:26:41 | INFO | train_inner | {\"epoch\": 253, \"update\": 252.523, \"loss\": \"2.19\", \"nll_loss\": \"0.346\", \"ppl\": \"1.27\", \"wps\": \"25034.6\", \"ups\": \"7.65\", \"wpb\": \"3272.8\", \"bsz\": \"126.4\", \"num_updates\": \"55050\", \"lr\": \"0.000134779\", \"gnorm\": \"0.587\", \"train_wall\": \"1\", \"gb_free\": \"13.2\", \"wall\": \"18\"}\n",
            "2023-09-04 04:26:42 | INFO | train_inner | {\"epoch\": 253, \"update\": 252.569, \"loss\": \"2.209\", \"nll_loss\": \"0.361\", \"ppl\": \"1.28\", \"wps\": \"24001.6\", \"ups\": \"7.92\", \"wpb\": \"3030.3\", \"bsz\": \"109.6\", \"num_updates\": \"55060\", \"lr\": \"0.000134766\", \"gnorm\": \"0.6\", \"train_wall\": \"1\", \"gb_free\": \"13.2\", \"wall\": \"19\"}\n",
            "2023-09-04 04:26:44 | INFO | train_inner | {\"epoch\": 253, \"update\": 252.615, \"loss\": \"2.207\", \"nll_loss\": \"0.368\", \"ppl\": \"1.29\", \"wps\": \"27344.1\", \"ups\": \"7.7\", \"wpb\": \"3551.8\", \"bsz\": \"127.2\", \"num_updates\": \"55070\", \"lr\": \"0.000134754\", \"gnorm\": \"0.595\", \"train_wall\": \"1\", \"gb_free\": \"13.2\", \"wall\": \"21\"}\n",
            "2023-09-04 04:26:45 | INFO | train_inner | {\"epoch\": 253, \"update\": 252.661, \"loss\": \"2.157\", \"nll_loss\": \"0.306\", \"ppl\": \"1.24\", \"wps\": \"24589.7\", \"ups\": \"7.2\", \"wpb\": \"3416.7\", \"bsz\": \"128\", \"num_updates\": \"55080\", \"lr\": \"0.000134742\", \"gnorm\": \"0.538\", \"train_wall\": \"1\", \"gb_free\": \"13.2\", \"wall\": \"22\"}\n",
            "2023-09-04 04:26:47 | INFO | train_inner | {\"epoch\": 253, \"update\": 252.706, \"loss\": \"2.233\", \"nll_loss\": \"0.398\", \"ppl\": \"1.32\", \"wps\": \"23201.8\", \"ups\": \"7.13\", \"wpb\": \"3255.4\", \"bsz\": \"124\", \"num_updates\": \"55090\", \"lr\": \"0.00013473\", \"gnorm\": \"0.615\", \"train_wall\": \"1\", \"gb_free\": \"13.2\", \"wall\": \"24\"}\n",
            "2023-09-04 04:26:48 | INFO | train_inner | {\"epoch\": 253, \"update\": 252.752, \"loss\": \"2.524\", \"nll_loss\": \"0.729\", \"ppl\": \"1.66\", \"wps\": \"23676.5\", \"ups\": \"6.83\", \"wpb\": \"3467.5\", \"bsz\": \"168\", \"num_updates\": \"55100\", \"lr\": \"0.000134718\", \"gnorm\": \"0.746\", \"train_wall\": \"1\", \"gb_free\": \"13.3\", \"wall\": \"25\"}\n",
            "2023-09-04 04:26:50 | INFO | train_inner | {\"epoch\": 253, \"update\": 252.798, \"loss\": \"2.366\", \"nll_loss\": \"0.522\", \"ppl\": \"1.44\", \"wps\": \"21206.8\", \"ups\": \"6.78\", \"wpb\": \"3129.1\", \"bsz\": \"111.2\", \"num_updates\": \"55110\", \"lr\": \"0.000134705\", \"gnorm\": \"0.674\", \"train_wall\": \"1\", \"gb_free\": \"13.3\", \"wall\": \"27\"}\n",
            "2023-09-04 04:26:51 | INFO | train_inner | {\"epoch\": 253, \"update\": 252.844, \"loss\": \"2.365\", \"nll_loss\": \"0.531\", \"ppl\": \"1.44\", \"wps\": \"21279.3\", \"ups\": \"6.89\", \"wpb\": \"3090.2\", \"bsz\": \"92.8\", \"num_updates\": \"55120\", \"lr\": \"0.000134693\", \"gnorm\": \"0.758\", \"train_wall\": \"1\", \"gb_free\": \"13.4\", \"wall\": \"28\"}\n",
            "2023-09-04 04:26:53 | INFO | train_inner | {\"epoch\": 253, \"update\": 252.89, \"loss\": \"2.216\", \"nll_loss\": \"0.376\", \"ppl\": \"1.3\", \"wps\": \"20577.8\", \"ups\": \"6.39\", \"wpb\": \"3218.6\", \"bsz\": \"144\", \"num_updates\": \"55130\", \"lr\": \"0.000134681\", \"gnorm\": \"0.674\", \"train_wall\": \"1\", \"gb_free\": \"13.6\", \"wall\": \"30\"}\n",
            "2023-09-04 04:26:54 | INFO | train_inner | {\"epoch\": 253, \"update\": 252.936, \"loss\": \"2.289\", \"nll_loss\": \"0.449\", \"ppl\": \"1.36\", \"wps\": \"23074.4\", \"ups\": \"6.92\", \"wpb\": \"3335.3\", \"bsz\": \"110.4\", \"num_updates\": \"55140\", \"lr\": \"0.000134669\", \"gnorm\": \"0.585\", \"train_wall\": \"1\", \"gb_free\": \"13.3\", \"wall\": \"31\"}\n",
            "2023-09-04 04:26:55 | INFO | train_inner | {\"epoch\": 253, \"update\": 252.982, \"loss\": \"2.235\", \"nll_loss\": \"0.4\", \"ppl\": \"1.32\", \"wps\": \"27653.3\", \"ups\": \"7.77\", \"wpb\": \"3560.3\", \"bsz\": \"148.8\", \"num_updates\": \"55150\", \"lr\": \"0.000134656\", \"gnorm\": \"0.621\", \"train_wall\": \"1\", \"gb_free\": \"13.4\", \"wall\": \"32\"}\n",
            "2023-09-04 04:26:56 | INFO | fairseq_cli.train | begin validation on \"valid\" subset\n",
            "2023-09-04 04:26:56 | INFO | fairseq.tasks.fairseq_task | can_reuse_epoch_itr = True\n",
            "2023-09-04 04:26:57 | INFO | valid | {\"epoch\": 253, \"valid_loss\": \"8.533\", \"valid_nll_loss\": \"7.56\", \"valid_ppl\": \"188.7\", \"valid_wps\": \"57556.2\", \"valid_wpb\": \"2371\", \"valid_bsz\": \"90.9\", \"valid_num_updates\": \"55154\", \"valid_best_loss\": \"7.308\"}\n",
            "2023-09-04 04:26:57 | INFO | fairseq.checkpoint_utils | Preparing to save checkpoint for epoch 253 @ 55154 updates\n",
            "2023-09-04 04:26:57 | INFO | fairseq.trainer | Saving checkpoint to /content/drive/MyDrive/ironside_nmt/checkpoints/checkpoint_last.pt\n",
            "2023-09-04 04:26:58 | INFO | fairseq.trainer | Finished saving checkpoint to /content/drive/MyDrive/ironside_nmt/checkpoints/checkpoint_last.pt\n",
            "2023-09-04 04:26:58 | INFO | fairseq.checkpoint_utils | Saved checkpoint /content/drive/MyDrive/ironside_nmt/checkpoints/checkpoint_last.pt (epoch 253 @ 55154 updates, score 8.533) (writing took 1.0583493110007112 seconds)\n",
            "2023-09-04 04:26:58 | INFO | fairseq_cli.train | end of epoch 253 (average epoch stats below)\n",
            "2023-09-04 04:26:58 | INFO | train | {\"epoch\": 253, \"train_loss\": \"2.259\", \"train_nll_loss\": \"0.418\", \"train_ppl\": \"1.34\", \"train_wps\": \"22236.7\", \"train_ups\": \"6.78\", \"train_wpb\": \"3282.2\", \"train_bsz\": \"126.3\", \"train_num_updates\": \"55154\", \"train_lr\": \"0.000134652\", \"train_gnorm\": \"0.632\", \"train_train_wall\": \"30\", \"train_gb_free\": \"13.4\", \"train_wall\": \"35\"}\n",
            "2023-09-04 04:26:58 | INFO | fairseq.tasks.fairseq_task | can_reuse_epoch_itr = True\n",
            "2023-09-04 04:26:58 | INFO | fairseq.data.iterators | grouped total_num_itrs = 218\n",
            "2023-09-04 04:26:58 | INFO | fairseq.trainer | begin training epoch 254\n",
            "2023-09-04 04:26:58 | INFO | fairseq_cli.train | Start iterating over samples\n",
            "2023-09-04 04:26:59 | INFO | train_inner | {\"epoch\": 254, \"update\": 253.028, \"loss\": \"2.216\", \"nll_loss\": \"0.345\", \"ppl\": \"1.27\", \"wps\": \"8073.9\", \"ups\": \"2.92\", \"wpb\": \"2764.4\", \"bsz\": \"123.2\", \"num_updates\": \"55160\", \"lr\": \"0.000134644\", \"gnorm\": \"0.606\", \"train_wall\": \"1\", \"gb_free\": \"13.5\", \"wall\": \"36\"}\n",
            "2023-09-04 04:27:00 | INFO | train_inner | {\"epoch\": 254, \"update\": 253.073, \"loss\": \"2.18\", \"nll_loss\": \"0.331\", \"ppl\": \"1.26\", \"wps\": \"23537\", \"ups\": \"7.5\", \"wpb\": \"3137.8\", \"bsz\": \"107.2\", \"num_updates\": \"55170\", \"lr\": \"0.000134632\", \"gnorm\": \"0.569\", \"train_wall\": \"1\", \"gb_free\": \"13.6\", \"wall\": \"37\"}\n",
            "2023-09-04 04:27:01 | INFO | train_inner | {\"epoch\": 254, \"update\": 253.119, \"loss\": \"2.307\", \"nll_loss\": \"0.478\", \"ppl\": \"1.39\", \"wps\": \"24837.1\", \"ups\": \"7.93\", \"wpb\": \"3131.7\", \"bsz\": \"135.2\", \"num_updates\": \"55180\", \"lr\": \"0.00013462\", \"gnorm\": \"0.706\", \"train_wall\": \"1\", \"gb_free\": \"13.3\", \"wall\": \"38\"}\n",
            "2023-09-04 04:27:03 | INFO | train_inner | {\"epoch\": 254, \"update\": 253.165, \"loss\": \"2.334\", \"nll_loss\": \"0.496\", \"ppl\": \"1.41\", \"wps\": \"25239.8\", \"ups\": \"7.65\", \"wpb\": \"3298.8\", \"bsz\": \"112\", \"num_updates\": \"55190\", \"lr\": \"0.000134608\", \"gnorm\": \"0.727\", \"train_wall\": \"1\", \"gb_free\": \"13.2\", \"wall\": \"40\"}\n",
            "2023-09-04 04:27:04 | INFO | train_inner | {\"epoch\": 254, \"update\": 253.211, \"loss\": \"2.25\", \"nll_loss\": \"0.408\", \"ppl\": \"1.33\", \"wps\": \"25801.3\", \"ups\": \"7.6\", \"wpb\": \"3395.2\", \"bsz\": \"159.2\", \"num_updates\": \"55200\", \"lr\": \"0.000134595\", \"gnorm\": \"0.639\", \"train_wall\": \"1\", \"gb_free\": \"13.3\", \"wall\": \"41\"}\n",
            "2023-09-04 04:27:06 | INFO | train_inner | {\"epoch\": 254, \"update\": 253.257, \"loss\": \"2.268\", \"nll_loss\": \"0.423\", \"ppl\": \"1.34\", \"wps\": \"21875.8\", \"ups\": \"6.55\", \"wpb\": \"3337.4\", \"bsz\": \"107.2\", \"num_updates\": \"55210\", \"lr\": \"0.000134583\", \"gnorm\": \"0.612\", \"train_wall\": \"1\", \"gb_free\": \"13.2\", \"wall\": \"43\"}\n",
            "2023-09-04 04:27:07 | INFO | train_inner | {\"epoch\": 254, \"update\": 253.303, \"loss\": \"2.324\", \"nll_loss\": \"0.485\", \"ppl\": \"1.4\", \"wps\": \"20656.5\", \"ups\": \"6.89\", \"wpb\": \"3000.2\", \"bsz\": \"107.2\", \"num_updates\": \"55220\", \"lr\": \"0.000134571\", \"gnorm\": \"0.728\", \"train_wall\": \"1\", \"gb_free\": \"13.6\", \"wall\": \"44\"}\n",
            "2023-09-04 04:27:09 | INFO | train_inner | {\"epoch\": 254, \"update\": 253.349, \"loss\": \"2.373\", \"nll_loss\": \"0.546\", \"ppl\": \"1.46\", \"wps\": \"20413.5\", \"ups\": \"5.87\", \"wpb\": \"3476.7\", \"bsz\": \"144\", \"num_updates\": \"55230\", \"lr\": \"0.000134559\", \"gnorm\": \"0.689\", \"train_wall\": \"2\", \"gb_free\": \"13.3\", \"wall\": \"46\"}\n",
            "2023-09-04 04:27:11 | INFO | train_inner | {\"epoch\": 254, \"update\": 253.394, \"loss\": \"2.183\", \"nll_loss\": \"0.337\", \"ppl\": \"1.26\", \"wps\": \"15852.4\", \"ups\": \"5.35\", \"wpb\": \"2961.6\", \"bsz\": \"141.6\", \"num_updates\": \"55240\", \"lr\": \"0.000134547\", \"gnorm\": \"0.604\", \"train_wall\": \"2\", \"gb_free\": \"13.5\", \"wall\": \"48\"}\n",
            "2023-09-04 04:27:12 | INFO | train_inner | {\"epoch\": 254, \"update\": 253.44, \"loss\": \"2.249\", \"nll_loss\": \"0.406\", \"ppl\": \"1.32\", \"wps\": \"23679.1\", \"ups\": \"7.07\", \"wpb\": \"3347.2\", \"bsz\": \"107.2\", \"num_updates\": \"55250\", \"lr\": \"0.000134535\", \"gnorm\": \"0.602\", \"train_wall\": \"1\", \"gb_free\": \"13.3\", \"wall\": \"49\"}\n",
            "2023-09-04 04:27:13 | INFO | train_inner | {\"epoch\": 254, \"update\": 253.486, \"loss\": \"2.217\", \"nll_loss\": \"0.374\", \"ppl\": \"1.3\", \"wps\": \"21137.5\", \"ups\": \"8.2\", \"wpb\": \"2578.9\", \"bsz\": \"110.4\", \"num_updates\": \"55260\", \"lr\": \"0.000134522\", \"gnorm\": \"0.673\", \"train_wall\": \"1\", \"gb_free\": \"13.5\", \"wall\": \"50\"}\n",
            "2023-09-04 04:27:15 | INFO | train_inner | {\"epoch\": 254, \"update\": 253.532, \"loss\": \"2.206\", \"nll_loss\": \"0.364\", \"ppl\": \"1.29\", \"wps\": \"23527.6\", \"ups\": \"7.26\", \"wpb\": \"3240.5\", \"bsz\": \"128.8\", \"num_updates\": \"55270\", \"lr\": \"0.00013451\", \"gnorm\": \"0.573\", \"train_wall\": \"1\", \"gb_free\": \"13.1\", \"wall\": \"52\"}\n",
            "2023-09-04 04:27:16 | INFO | train_inner | {\"epoch\": 254, \"update\": 253.578, \"loss\": \"2.215\", \"nll_loss\": \"0.368\", \"ppl\": \"1.29\", \"wps\": \"26698.5\", \"ups\": \"7.52\", \"wpb\": \"3550.9\", \"bsz\": \"117.6\", \"num_updates\": \"55280\", \"lr\": \"0.000134498\", \"gnorm\": \"0.594\", \"train_wall\": \"1\", \"gb_free\": \"13.3\", \"wall\": \"53\"}\n",
            "2023-09-04 04:27:17 | INFO | train_inner | {\"epoch\": 254, \"update\": 253.624, \"loss\": \"2.293\", \"nll_loss\": \"0.447\", \"ppl\": \"1.36\", \"wps\": \"27521.9\", \"ups\": \"7.58\", \"wpb\": \"3632.5\", \"bsz\": \"136.8\", \"num_updates\": \"55290\", \"lr\": \"0.000134486\", \"gnorm\": \"0.658\", \"train_wall\": \"1\", \"gb_free\": \"13.2\", \"wall\": \"54\"}\n",
            "2023-09-04 04:27:19 | INFO | train_inner | {\"epoch\": 254, \"update\": 253.67, \"loss\": \"2.182\", \"nll_loss\": \"0.341\", \"ppl\": \"1.27\", \"wps\": \"25441.4\", \"ups\": \"7.19\", \"wpb\": \"3536.7\", \"bsz\": \"144.8\", \"num_updates\": \"55300\", \"lr\": \"0.000134474\", \"gnorm\": \"0.563\", \"train_wall\": \"1\", \"gb_free\": \"13.3\", \"wall\": \"56\"}\n",
            "2023-09-04 04:27:20 | INFO | train_inner | {\"epoch\": 254, \"update\": 253.716, \"loss\": \"2.34\", \"nll_loss\": \"0.486\", \"ppl\": \"1.4\", \"wps\": \"27712.4\", \"ups\": \"7.66\", \"wpb\": \"3615.5\", \"bsz\": \"139.2\", \"num_updates\": \"55310\", \"lr\": \"0.000134462\", \"gnorm\": \"0.684\", \"train_wall\": \"1\", \"gb_free\": \"13.5\", \"wall\": \"57\"}\n",
            "2023-09-04 04:27:21 | INFO | train_inner | {\"epoch\": 254, \"update\": 253.761, \"loss\": \"2.174\", \"nll_loss\": \"0.325\", \"ppl\": \"1.25\", \"wps\": \"24640.5\", \"ups\": \"7.63\", \"wpb\": \"3227.6\", \"bsz\": \"114.4\", \"num_updates\": \"55320\", \"lr\": \"0.000134449\", \"gnorm\": \"0.56\", \"train_wall\": \"1\", \"gb_free\": \"13.1\", \"wall\": \"58\"}\n",
            "2023-09-04 04:27:23 | INFO | train_inner | {\"epoch\": 254, \"update\": 253.807, \"loss\": \"2.219\", \"nll_loss\": \"0.385\", \"ppl\": \"1.31\", \"wps\": \"23778.7\", \"ups\": \"6.85\", \"wpb\": \"3470.4\", \"bsz\": \"148.8\", \"num_updates\": \"55330\", \"lr\": \"0.000134437\", \"gnorm\": \"0.603\", \"train_wall\": \"1\", \"gb_free\": \"13.3\", \"wall\": \"60\"}\n",
            "2023-09-04 04:27:24 | INFO | train_inner | {\"epoch\": 254, \"update\": 253.853, \"loss\": \"2.226\", \"nll_loss\": \"0.369\", \"ppl\": \"1.29\", \"wps\": \"21757\", \"ups\": \"6.52\", \"wpb\": \"3335.9\", \"bsz\": \"140.8\", \"num_updates\": \"55340\", \"lr\": \"0.000134425\", \"gnorm\": \"0.578\", \"train_wall\": \"1\", \"gb_free\": \"13.2\", \"wall\": \"61\"}\n",
            "2023-09-04 04:27:26 | INFO | train_inner | {\"epoch\": 254, \"update\": 253.899, \"loss\": \"2.406\", \"nll_loss\": \"0.573\", \"ppl\": \"1.49\", \"wps\": \"21668.9\", \"ups\": \"7.13\", \"wpb\": \"3040.7\", \"bsz\": \"91.2\", \"num_updates\": \"55350\", \"lr\": \"0.000134413\", \"gnorm\": \"0.82\", \"train_wall\": \"1\", \"gb_free\": \"13.5\", \"wall\": \"63\"}\n",
            "2023-09-04 04:27:27 | INFO | train_inner | {\"epoch\": 254, \"update\": 253.945, \"loss\": \"2.231\", \"nll_loss\": \"0.389\", \"ppl\": \"1.31\", \"wps\": \"21716.7\", \"ups\": \"6.27\", \"wpb\": \"3463.2\", \"bsz\": \"122.4\", \"num_updates\": \"55360\", \"lr\": \"0.000134401\", \"gnorm\": \"0.607\", \"train_wall\": \"2\", \"gb_free\": \"13.3\", \"wall\": \"64\"}\n",
            "2023-09-04 04:27:29 | INFO | train_inner | {\"epoch\": 254, \"update\": 253.991, \"loss\": \"2.239\", \"nll_loss\": \"0.387\", \"ppl\": \"1.31\", \"wps\": \"22527.1\", \"ups\": \"6.89\", \"wpb\": \"3268.3\", \"bsz\": \"119.2\", \"num_updates\": \"55370\", \"lr\": \"0.000134389\", \"gnorm\": \"0.651\", \"train_wall\": \"1\", \"gb_free\": \"13.3\", \"wall\": \"66\"}\n",
            "2023-09-04 04:27:29 | INFO | fairseq_cli.train | begin validation on \"valid\" subset\n",
            "2023-09-04 04:27:29 | INFO | fairseq.tasks.fairseq_task | can_reuse_epoch_itr = True\n",
            "2023-09-04 04:27:30 | INFO | valid | {\"epoch\": 254, \"valid_loss\": \"8.519\", \"valid_nll_loss\": \"7.541\", \"valid_ppl\": \"186.24\", \"valid_wps\": \"51235.6\", \"valid_wpb\": \"2371\", \"valid_bsz\": \"90.9\", \"valid_num_updates\": \"55372\", \"valid_best_loss\": \"7.308\"}\n",
            "2023-09-04 04:27:30 | INFO | fairseq.checkpoint_utils | Preparing to save checkpoint for epoch 254 @ 55372 updates\n",
            "2023-09-04 04:27:30 | INFO | fairseq.trainer | Saving checkpoint to /content/drive/MyDrive/ironside_nmt/checkpoints/checkpoint_last.pt\n",
            "2023-09-04 04:27:31 | INFO | fairseq.trainer | Finished saving checkpoint to /content/drive/MyDrive/ironside_nmt/checkpoints/checkpoint_last.pt\n",
            "2023-09-04 04:27:31 | INFO | fairseq.checkpoint_utils | Saved checkpoint /content/drive/MyDrive/ironside_nmt/checkpoints/checkpoint_last.pt (epoch 254 @ 55372 updates, score 8.519) (writing took 0.935559153000213 seconds)\n",
            "2023-09-04 04:27:31 | INFO | fairseq_cli.train | end of epoch 254 (average epoch stats below)\n",
            "2023-09-04 04:27:31 | INFO | train | {\"epoch\": 254, \"train_loss\": \"2.256\", \"train_nll_loss\": \"0.413\", \"train_ppl\": \"1.33\", \"train_wps\": \"21481.4\", \"train_ups\": \"6.54\", \"train_wpb\": \"3282.2\", \"train_bsz\": \"126.3\", \"train_num_updates\": \"55372\", \"train_lr\": \"0.000134386\", \"train_gnorm\": \"0.638\", \"train_train_wall\": \"30\", \"train_gb_free\": \"13.2\", \"train_wall\": \"68\"}\n",
            "2023-09-04 04:27:31 | INFO | fairseq.tasks.fairseq_task | can_reuse_epoch_itr = True\n",
            "2023-09-04 04:27:31 | INFO | fairseq.data.iterators | grouped total_num_itrs = 218\n",
            "2023-09-04 04:27:31 | INFO | fairseq.trainer | begin training epoch 255\n",
            "2023-09-04 04:27:31 | INFO | fairseq_cli.train | Start iterating over samples\n",
            "2023-09-04 04:27:32 | INFO | train_inner | {\"epoch\": 255, \"update\": 254.037, \"loss\": \"2.184\", \"nll_loss\": \"0.33\", \"ppl\": \"1.26\", \"wps\": \"9652.9\", \"ups\": \"2.75\", \"wpb\": \"3512.4\", \"bsz\": \"146.4\", \"num_updates\": \"55380\", \"lr\": \"0.000134377\", \"gnorm\": \"0.557\", \"train_wall\": \"1\", \"gb_free\": \"13.2\", \"wall\": \"69\"}\n",
            "2023-09-04 04:27:34 | INFO | train_inner | {\"epoch\": 255, \"update\": 254.083, \"loss\": \"2.21\", \"nll_loss\": \"0.375\", \"ppl\": \"1.3\", \"wps\": \"26071.4\", \"ups\": \"7.8\", \"wpb\": \"3344.5\", \"bsz\": \"121.6\", \"num_updates\": \"55390\", \"lr\": \"0.000134364\", \"gnorm\": \"0.586\", \"train_wall\": \"1\", \"gb_free\": \"13.4\", \"wall\": \"71\"}\n",
            "2023-09-04 04:27:35 | INFO | train_inner | {\"epoch\": 255, \"update\": 254.128, \"loss\": \"2.236\", \"nll_loss\": \"0.394\", \"ppl\": \"1.31\", \"wps\": \"26605.2\", \"ups\": \"7.49\", \"wpb\": \"3551.1\", \"bsz\": \"122.4\", \"num_updates\": \"55400\", \"lr\": \"0.000134352\", \"gnorm\": \"0.591\", \"train_wall\": \"1\", \"gb_free\": \"13.2\", \"wall\": \"72\"}\n",
            "2023-09-04 04:27:36 | INFO | train_inner | {\"epoch\": 255, \"update\": 254.174, \"loss\": \"2.166\", \"nll_loss\": \"0.32\", \"ppl\": \"1.25\", \"wps\": \"23308.5\", \"ups\": \"7.66\", \"wpb\": \"3041.6\", \"bsz\": \"150.4\", \"num_updates\": \"55410\", \"lr\": \"0.00013434\", \"gnorm\": \"0.558\", \"train_wall\": \"1\", \"gb_free\": \"13.3\", \"wall\": \"73\"}\n",
            "2023-09-04 04:27:38 | INFO | train_inner | {\"epoch\": 255, \"update\": 254.22, \"loss\": \"2.222\", \"nll_loss\": \"0.383\", \"ppl\": \"1.3\", \"wps\": \"26386.9\", \"ups\": \"7.46\", \"wpb\": \"3536\", \"bsz\": \"135.2\", \"num_updates\": \"55420\", \"lr\": \"0.000134328\", \"gnorm\": \"0.625\", \"train_wall\": \"1\", \"gb_free\": \"13.5\", \"wall\": \"75\"}\n",
            "2023-09-04 04:27:39 | INFO | train_inner | {\"epoch\": 255, \"update\": 254.266, \"loss\": \"2.145\", \"nll_loss\": \"0.297\", \"ppl\": \"1.23\", \"wps\": \"21232.3\", \"ups\": \"7.08\", \"wpb\": \"2999.2\", \"bsz\": \"111.2\", \"num_updates\": \"55430\", \"lr\": \"0.000134316\", \"gnorm\": \"0.528\", \"train_wall\": \"1\", \"gb_free\": \"13.1\", \"wall\": \"76\"}\n",
            "2023-09-04 04:27:41 | INFO | train_inner | {\"epoch\": 255, \"update\": 254.312, \"loss\": \"2.226\", \"nll_loss\": \"0.379\", \"ppl\": \"1.3\", \"wps\": \"20841.4\", \"ups\": \"6.16\", \"wpb\": \"3382.7\", \"bsz\": \"144\", \"num_updates\": \"55440\", \"lr\": \"0.000134304\", \"gnorm\": \"0.604\", \"train_wall\": \"2\", \"gb_free\": \"13.3\", \"wall\": \"78\"}\n",
            "2023-09-04 04:27:42 | INFO | train_inner | {\"epoch\": 255, \"update\": 254.358, \"loss\": \"2.203\", \"nll_loss\": \"0.344\", \"ppl\": \"1.27\", \"wps\": \"20091.2\", \"ups\": \"5.83\", \"wpb\": \"3445.4\", \"bsz\": \"134.4\", \"num_updates\": \"55450\", \"lr\": \"0.000134292\", \"gnorm\": \"0.546\", \"train_wall\": \"2\", \"gb_free\": \"13.2\", \"wall\": \"79\"}\n",
            "2023-09-04 04:27:44 | INFO | train_inner | {\"epoch\": 255, \"update\": 254.404, \"loss\": \"2.216\", \"nll_loss\": \"0.376\", \"ppl\": \"1.3\", \"wps\": \"21184.1\", \"ups\": \"6.28\", \"wpb\": \"3372.7\", \"bsz\": \"116\", \"num_updates\": \"55460\", \"lr\": \"0.00013428\", \"gnorm\": \"0.585\", \"train_wall\": \"1\", \"gb_free\": \"13.3\", \"wall\": \"81\"}\n",
            "2023-09-04 04:27:46 | INFO | train_inner | {\"epoch\": 255, \"update\": 254.45, \"loss\": \"2.151\", \"nll_loss\": \"0.303\", \"ppl\": \"1.23\", \"wps\": \"18061\", \"ups\": \"6.64\", \"wpb\": \"2721.7\", \"bsz\": \"107.2\", \"num_updates\": \"55470\", \"lr\": \"0.000134268\", \"gnorm\": \"0.553\", \"train_wall\": \"1\", \"gb_free\": \"13.1\", \"wall\": \"83\"}\n",
            "2023-09-04 04:27:47 | INFO | train_inner | {\"epoch\": 255, \"update\": 254.495, \"loss\": \"2.279\", \"nll_loss\": \"0.449\", \"ppl\": \"1.37\", \"wps\": \"23214\", \"ups\": \"6.72\", \"wpb\": \"3454.9\", \"bsz\": \"111.2\", \"num_updates\": \"55480\", \"lr\": \"0.000134255\", \"gnorm\": \"0.629\", \"train_wall\": \"1\", \"gb_free\": \"13.3\", \"wall\": \"84\"}\n",
            "2023-09-04 04:27:48 | INFO | train_inner | {\"epoch\": 255, \"update\": 254.541, \"loss\": \"2.328\", \"nll_loss\": \"0.49\", \"ppl\": \"1.4\", \"wps\": \"24862.5\", \"ups\": \"8\", \"wpb\": \"3108.1\", \"bsz\": \"100.8\", \"num_updates\": \"55490\", \"lr\": \"0.000134243\", \"gnorm\": \"0.704\", \"train_wall\": \"1\", \"gb_free\": \"13.4\", \"wall\": \"85\"}\n",
            "2023-09-04 04:27:50 | INFO | train_inner | {\"epoch\": 255, \"update\": 254.587, \"loss\": \"2.19\", \"nll_loss\": \"0.341\", \"ppl\": \"1.27\", \"wps\": \"25228.9\", \"ups\": \"7.47\", \"wpb\": \"3375.6\", \"bsz\": \"132.8\", \"num_updates\": \"55500\", \"lr\": \"0.000134231\", \"gnorm\": \"0.6\", \"train_wall\": \"1\", \"gb_free\": \"13.2\", \"wall\": \"87\"}\n",
            "2023-09-04 04:27:51 | INFO | train_inner | {\"epoch\": 255, \"update\": 254.633, \"loss\": \"2.233\", \"nll_loss\": \"0.385\", \"ppl\": \"1.31\", \"wps\": \"25027.5\", \"ups\": \"8.35\", \"wpb\": \"2998\", \"bsz\": \"108.8\", \"num_updates\": \"55510\", \"lr\": \"0.000134219\", \"gnorm\": \"0.687\", \"train_wall\": \"1\", \"gb_free\": \"13.4\", \"wall\": \"88\"}\n",
            "2023-09-04 04:27:52 | INFO | train_inner | {\"epoch\": 255, \"update\": 254.679, \"loss\": \"2.215\", \"nll_loss\": \"0.369\", \"ppl\": \"1.29\", \"wps\": \"25367.7\", \"ups\": \"7.52\", \"wpb\": \"3372.5\", \"bsz\": \"133.6\", \"num_updates\": \"55520\", \"lr\": \"0.000134207\", \"gnorm\": \"0.587\", \"train_wall\": \"1\", \"gb_free\": \"13.3\", \"wall\": \"89\"}\n",
            "2023-09-04 04:27:54 | INFO | train_inner | {\"epoch\": 255, \"update\": 254.725, \"loss\": \"2.249\", \"nll_loss\": \"0.391\", \"ppl\": \"1.31\", \"wps\": \"24220.2\", \"ups\": \"7.65\", \"wpb\": \"3165.8\", \"bsz\": \"120\", \"num_updates\": \"55530\", \"lr\": \"0.000134195\", \"gnorm\": \"0.613\", \"train_wall\": \"1\", \"gb_free\": \"13.3\", \"wall\": \"91\"}\n",
            "2023-09-04 04:27:55 | INFO | train_inner | {\"epoch\": 255, \"update\": 254.771, \"loss\": \"2.187\", \"nll_loss\": \"0.351\", \"ppl\": \"1.28\", \"wps\": \"25878.2\", \"ups\": \"7.51\", \"wpb\": \"3444.6\", \"bsz\": \"129.6\", \"num_updates\": \"55540\", \"lr\": \"0.000134183\", \"gnorm\": \"0.599\", \"train_wall\": \"1\", \"gb_free\": \"13.4\", \"wall\": \"92\"}\n",
            "2023-09-04 04:27:56 | INFO | train_inner | {\"epoch\": 255, \"update\": 254.817, \"loss\": \"2.279\", \"nll_loss\": \"0.441\", \"ppl\": \"1.36\", \"wps\": \"26632.5\", \"ups\": \"8.06\", \"wpb\": \"3304.2\", \"bsz\": \"132\", \"num_updates\": \"55550\", \"lr\": \"0.000134171\", \"gnorm\": \"0.711\", \"train_wall\": \"1\", \"gb_free\": \"13.6\", \"wall\": \"93\"}\n",
            "2023-09-04 04:27:57 | INFO | train_inner | {\"epoch\": 255, \"update\": 254.862, \"loss\": \"2.269\", \"nll_loss\": \"0.418\", \"ppl\": \"1.34\", \"wps\": \"24580.3\", \"ups\": \"7.76\", \"wpb\": \"3166.9\", \"bsz\": \"116.8\", \"num_updates\": \"55560\", \"lr\": \"0.000134159\", \"gnorm\": \"0.613\", \"train_wall\": \"1\", \"gb_free\": \"13.3\", \"wall\": \"94\"}\n",
            "2023-09-04 04:27:59 | INFO | train_inner | {\"epoch\": 255, \"update\": 254.908, \"loss\": \"2.163\", \"nll_loss\": \"0.328\", \"ppl\": \"1.25\", \"wps\": \"21037.7\", \"ups\": \"7.16\", \"wpb\": \"2937.2\", \"bsz\": \"112\", \"num_updates\": \"55570\", \"lr\": \"0.000134147\", \"gnorm\": \"0.567\", \"train_wall\": \"1\", \"gb_free\": \"13.2\", \"wall\": \"96\"}\n",
            "2023-09-04 04:28:00 | INFO | train_inner | {\"epoch\": 255, \"update\": 254.954, \"loss\": \"2.236\", \"nll_loss\": \"0.391\", \"ppl\": \"1.31\", \"wps\": \"22195.6\", \"ups\": \"6.66\", \"wpb\": \"3330.5\", \"bsz\": \"159.2\", \"num_updates\": \"55580\", \"lr\": \"0.000134135\", \"gnorm\": \"0.654\", \"train_wall\": \"1\", \"gb_free\": \"13.2\", \"wall\": \"97\"}\n",
            "2023-09-04 04:28:02 | INFO | train_inner | {\"epoch\": 255, \"update\": 255.0, \"loss\": \"2.287\", \"nll_loss\": \"0.445\", \"ppl\": \"1.36\", \"wps\": \"25335\", \"ups\": \"6.78\", \"wpb\": \"3738.3\", \"bsz\": \"136\", \"num_updates\": \"55590\", \"lr\": \"0.000134123\", \"gnorm\": \"0.619\", \"train_wall\": \"1\", \"gb_free\": \"13.4\", \"wall\": \"99\"}\n",
            "2023-09-04 04:28:02 | INFO | fairseq_cli.train | begin validation on \"valid\" subset\n",
            "2023-09-04 04:28:02 | INFO | fairseq.tasks.fairseq_task | can_reuse_epoch_itr = True\n",
            "2023-09-04 04:28:03 | INFO | valid | {\"epoch\": 255, \"valid_loss\": \"8.554\", \"valid_nll_loss\": \"7.58\", \"valid_ppl\": \"191.33\", \"valid_wps\": \"49201.1\", \"valid_wpb\": \"2371\", \"valid_bsz\": \"90.9\", \"valid_num_updates\": \"55590\", \"valid_best_loss\": \"7.308\"}\n",
            "2023-09-04 04:28:03 | INFO | fairseq.checkpoint_utils | Preparing to save checkpoint for epoch 255 @ 55590 updates\n",
            "2023-09-04 04:28:03 | INFO | fairseq.trainer | Saving checkpoint to /content/drive/MyDrive/ironside_nmt/checkpoints/checkpoint_last.pt\n",
            "2023-09-04 04:28:04 | INFO | fairseq.trainer | Finished saving checkpoint to /content/drive/MyDrive/ironside_nmt/checkpoints/checkpoint_last.pt\n",
            "2023-09-04 04:28:04 | INFO | fairseq.checkpoint_utils | Saved checkpoint /content/drive/MyDrive/ironside_nmt/checkpoints/checkpoint_last.pt (epoch 255 @ 55590 updates, score 8.554) (writing took 1.1971909090007102 seconds)\n",
            "2023-09-04 04:28:04 | INFO | fairseq_cli.train | end of epoch 255 (average epoch stats below)\n",
            "2023-09-04 04:28:04 | INFO | train | {\"epoch\": 255, \"train_loss\": \"2.224\", \"train_nll_loss\": \"0.379\", \"train_ppl\": \"1.3\", \"train_wps\": \"21660.6\", \"train_ups\": \"6.6\", \"train_wpb\": \"3282.2\", \"train_bsz\": \"126.3\", \"train_num_updates\": \"55590\", \"train_lr\": \"0.000134123\", \"train_gnorm\": \"0.606\", \"train_train_wall\": \"29\", \"train_gb_free\": \"13.4\", \"train_wall\": \"101\"}\n",
            "2023-09-04 04:28:04 | INFO | fairseq.tasks.fairseq_task | can_reuse_epoch_itr = True\n",
            "2023-09-04 04:28:04 | INFO | fairseq.data.iterators | grouped total_num_itrs = 218\n",
            "2023-09-04 04:28:04 | INFO | fairseq.trainer | begin training epoch 256\n",
            "2023-09-04 04:28:04 | INFO | fairseq_cli.train | Start iterating over samples\n",
            "2023-09-04 04:28:06 | INFO | train_inner | {\"epoch\": 256, \"update\": 255.046, \"loss\": \"2.228\", \"nll_loss\": \"0.374\", \"ppl\": \"1.3\", \"wps\": \"7632.1\", \"ups\": \"2.45\", \"wpb\": \"3114.2\", \"bsz\": \"93.6\", \"num_updates\": \"55600\", \"lr\": \"0.00013411\", \"gnorm\": \"0.636\", \"train_wall\": \"2\", \"gb_free\": \"13.2\", \"wall\": \"103\"}\n",
            "2023-09-04 04:28:07 | INFO | train_inner | {\"epoch\": 256, \"update\": 255.092, \"loss\": \"2.143\", \"nll_loss\": \"0.302\", \"ppl\": \"1.23\", \"wps\": \"22608.1\", \"ups\": \"7.29\", \"wpb\": \"3102.9\", \"bsz\": \"94.4\", \"num_updates\": \"55610\", \"lr\": \"0.000134098\", \"gnorm\": \"0.508\", \"train_wall\": \"1\", \"gb_free\": \"13.2\", \"wall\": \"104\"}\n",
            "2023-09-04 04:28:09 | INFO | train_inner | {\"epoch\": 256, \"update\": 255.138, \"loss\": \"2.19\", \"nll_loss\": \"0.348\", \"ppl\": \"1.27\", \"wps\": \"24860.9\", \"ups\": \"7.62\", \"wpb\": \"3264.2\", \"bsz\": \"119.2\", \"num_updates\": \"55620\", \"lr\": \"0.000134086\", \"gnorm\": \"0.578\", \"train_wall\": \"1\", \"gb_free\": \"13.4\", \"wall\": \"106\"}\n",
            "2023-09-04 04:28:10 | INFO | train_inner | {\"epoch\": 256, \"update\": 255.183, \"loss\": \"2.232\", \"nll_loss\": \"0.391\", \"ppl\": \"1.31\", \"wps\": \"23272.8\", \"ups\": \"8.07\", \"wpb\": \"2884.4\", \"bsz\": \"118.4\", \"num_updates\": \"55630\", \"lr\": \"0.000134074\", \"gnorm\": \"0.622\", \"train_wall\": \"1\", \"gb_free\": \"13.2\", \"wall\": \"107\"}\n",
            "2023-09-04 04:28:11 | INFO | train_inner | {\"epoch\": 256, \"update\": 255.229, \"loss\": \"2.235\", \"nll_loss\": \"0.405\", \"ppl\": \"1.32\", \"wps\": \"26332.2\", \"ups\": \"7.62\", \"wpb\": \"3457.3\", \"bsz\": \"124\", \"num_updates\": \"55640\", \"lr\": \"0.000134062\", \"gnorm\": \"0.613\", \"train_wall\": \"1\", \"gb_free\": \"13.3\", \"wall\": \"108\"}\n",
            "2023-09-04 04:28:12 | INFO | train_inner | {\"epoch\": 256, \"update\": 255.275, \"loss\": \"2.157\", \"nll_loss\": \"0.31\", \"ppl\": \"1.24\", \"wps\": \"23318.9\", \"ups\": \"7.38\", \"wpb\": \"3158.5\", \"bsz\": \"136\", \"num_updates\": \"55650\", \"lr\": \"0.00013405\", \"gnorm\": \"0.524\", \"train_wall\": \"1\", \"gb_free\": \"13.2\", \"wall\": \"110\"}\n",
            "2023-09-04 04:28:14 | INFO | train_inner | {\"epoch\": 256, \"update\": 255.321, \"loss\": \"2.179\", \"nll_loss\": \"0.335\", \"ppl\": \"1.26\", \"wps\": \"21593.5\", \"ups\": \"6.71\", \"wpb\": \"3218.7\", \"bsz\": \"119.2\", \"num_updates\": \"55660\", \"lr\": \"0.000134038\", \"gnorm\": \"0.518\", \"train_wall\": \"1\", \"gb_free\": \"13.4\", \"wall\": \"111\"}\n",
            "2023-09-04 04:28:15 | INFO | train_inner | {\"epoch\": 256, \"update\": 255.367, \"loss\": \"2.267\", \"nll_loss\": \"0.432\", \"ppl\": \"1.35\", \"wps\": \"24578.7\", \"ups\": \"6.93\", \"wpb\": \"3548.4\", \"bsz\": \"151.2\", \"num_updates\": \"55670\", \"lr\": \"0.000134026\", \"gnorm\": \"0.643\", \"train_wall\": \"1\", \"gb_free\": \"13.3\", \"wall\": \"112\"}\n",
            "2023-09-04 04:28:17 | INFO | train_inner | {\"epoch\": 256, \"update\": 255.413, \"loss\": \"2.25\", \"nll_loss\": \"0.395\", \"ppl\": \"1.32\", \"wps\": \"23012.7\", \"ups\": \"6.77\", \"wpb\": \"3399.2\", \"bsz\": \"132\", \"num_updates\": \"55680\", \"lr\": \"0.000134014\", \"gnorm\": \"0.617\", \"train_wall\": \"1\", \"gb_free\": \"13.4\", \"wall\": \"114\"}\n",
            "2023-09-04 04:28:18 | INFO | train_inner | {\"epoch\": 256, \"update\": 255.459, \"loss\": \"2.16\", \"nll_loss\": \"0.325\", \"ppl\": \"1.25\", \"wps\": \"21782.3\", \"ups\": \"6.83\", \"wpb\": \"3187.3\", \"bsz\": \"138.4\", \"num_updates\": \"55690\", \"lr\": \"0.000134002\", \"gnorm\": \"0.604\", \"train_wall\": \"1\", \"gb_free\": \"13.2\", \"wall\": \"115\"}\n",
            "2023-09-04 04:28:20 | INFO | train_inner | {\"epoch\": 256, \"update\": 255.505, \"loss\": \"2.236\", \"nll_loss\": \"0.404\", \"ppl\": \"1.32\", \"wps\": \"21421.7\", \"ups\": \"6.49\", \"wpb\": \"3298.9\", \"bsz\": \"113.6\", \"num_updates\": \"55700\", \"lr\": \"0.00013399\", \"gnorm\": \"0.583\", \"train_wall\": \"1\", \"gb_free\": \"13.2\", \"wall\": \"117\"}\n",
            "2023-09-04 04:28:21 | INFO | train_inner | {\"epoch\": 256, \"update\": 255.55, \"loss\": \"2.258\", \"nll_loss\": \"0.415\", \"ppl\": \"1.33\", \"wps\": \"22127.1\", \"ups\": \"6.55\", \"wpb\": \"3377.4\", \"bsz\": \"112.8\", \"num_updates\": \"55710\", \"lr\": \"0.000133978\", \"gnorm\": \"0.623\", \"train_wall\": \"1\", \"gb_free\": \"13.3\", \"wall\": \"118\"}\n",
            "2023-09-04 04:28:23 | INFO | train_inner | {\"epoch\": 256, \"update\": 255.596, \"loss\": \"2.227\", \"nll_loss\": \"0.386\", \"ppl\": \"1.31\", \"wps\": \"20665.6\", \"ups\": \"6.7\", \"wpb\": \"3083.1\", \"bsz\": \"115.2\", \"num_updates\": \"55720\", \"lr\": \"0.000133966\", \"gnorm\": \"0.611\", \"train_wall\": \"1\", \"gb_free\": \"13.4\", \"wall\": \"120\"}\n",
            "2023-09-04 04:28:24 | INFO | train_inner | {\"epoch\": 256, \"update\": 255.642, \"loss\": \"2.198\", \"nll_loss\": \"0.355\", \"ppl\": \"1.28\", \"wps\": \"20670.1\", \"ups\": \"6.94\", \"wpb\": \"2979.5\", \"bsz\": \"132\", \"num_updates\": \"55730\", \"lr\": \"0.000133954\", \"gnorm\": \"0.573\", \"train_wall\": \"1\", \"gb_free\": \"13.3\", \"wall\": \"121\"}\n",
            "2023-09-04 04:28:26 | INFO | train_inner | {\"epoch\": 256, \"update\": 255.688, \"loss\": \"2.216\", \"nll_loss\": \"0.385\", \"ppl\": \"1.31\", \"wps\": \"25655.1\", \"ups\": \"7.45\", \"wpb\": \"3445.9\", \"bsz\": \"114.4\", \"num_updates\": \"55740\", \"lr\": \"0.000133942\", \"gnorm\": \"0.585\", \"train_wall\": \"1\", \"gb_free\": \"13.2\", \"wall\": \"123\"}\n",
            "2023-09-04 04:28:27 | INFO | train_inner | {\"epoch\": 256, \"update\": 255.734, \"loss\": \"2.177\", \"nll_loss\": \"0.336\", \"ppl\": \"1.26\", \"wps\": \"25661.2\", \"ups\": \"7.51\", \"wpb\": \"3415.8\", \"bsz\": \"113.6\", \"num_updates\": \"55750\", \"lr\": \"0.00013393\", \"gnorm\": \"0.571\", \"train_wall\": \"1\", \"gb_free\": \"13.3\", \"wall\": \"124\"}\n",
            "2023-09-04 04:28:28 | INFO | train_inner | {\"epoch\": 256, \"update\": 255.78, \"loss\": \"2.207\", \"nll_loss\": \"0.364\", \"ppl\": \"1.29\", \"wps\": \"26394.8\", \"ups\": \"7.59\", \"wpb\": \"3476.6\", \"bsz\": \"148\", \"num_updates\": \"55760\", \"lr\": \"0.000133918\", \"gnorm\": \"0.583\", \"train_wall\": \"1\", \"gb_free\": \"13.3\", \"wall\": \"125\"}\n",
            "2023-09-04 04:28:30 | INFO | train_inner | {\"epoch\": 256, \"update\": 255.826, \"loss\": \"2.286\", \"nll_loss\": \"0.449\", \"ppl\": \"1.36\", \"wps\": \"26080.9\", \"ups\": \"7.59\", \"wpb\": \"3438.3\", \"bsz\": \"150.4\", \"num_updates\": \"55770\", \"lr\": \"0.000133906\", \"gnorm\": \"0.692\", \"train_wall\": \"1\", \"gb_free\": \"13.3\", \"wall\": \"127\"}\n",
            "2023-09-04 04:28:31 | INFO | train_inner | {\"epoch\": 256, \"update\": 255.872, \"loss\": \"2.188\", \"nll_loss\": \"0.336\", \"ppl\": \"1.26\", \"wps\": \"25560.4\", \"ups\": \"7.22\", \"wpb\": \"3538.9\", \"bsz\": \"146.4\", \"num_updates\": \"55780\", \"lr\": \"0.000133894\", \"gnorm\": \"0.534\", \"train_wall\": \"1\", \"gb_free\": \"13.3\", \"wall\": \"128\"}\n",
            "2023-09-04 04:28:32 | INFO | train_inner | {\"epoch\": 256, \"update\": 255.917, \"loss\": \"2.291\", \"nll_loss\": \"0.456\", \"ppl\": \"1.37\", \"wps\": \"26073.4\", \"ups\": \"7.68\", \"wpb\": \"3394.2\", \"bsz\": \"135.2\", \"num_updates\": \"55790\", \"lr\": \"0.000133882\", \"gnorm\": \"0.686\", \"train_wall\": \"1\", \"gb_free\": \"13.4\", \"wall\": \"129\"}\n",
            "2023-09-04 04:28:34 | INFO | train_inner | {\"epoch\": 256, \"update\": 255.963, \"loss\": \"2.181\", \"nll_loss\": \"0.342\", \"ppl\": \"1.27\", \"wps\": \"24067.2\", \"ups\": \"7.47\", \"wpb\": \"3219.7\", \"bsz\": \"149.6\", \"num_updates\": \"55800\", \"lr\": \"0.00013387\", \"gnorm\": \"0.559\", \"train_wall\": \"1\", \"gb_free\": \"13.3\", \"wall\": \"131\"}\n",
            "2023-09-04 04:28:35 | INFO | fairseq_cli.train | begin validation on \"valid\" subset\n",
            "2023-09-04 04:28:35 | INFO | fairseq.tasks.fairseq_task | can_reuse_epoch_itr = True\n",
            "2023-09-04 04:28:36 | INFO | valid | {\"epoch\": 256, \"valid_loss\": \"8.54\", \"valid_nll_loss\": \"7.565\", \"valid_ppl\": \"189.4\", \"valid_wps\": \"51154.5\", \"valid_wpb\": \"2371\", \"valid_bsz\": \"90.9\", \"valid_num_updates\": \"55808\", \"valid_best_loss\": \"7.308\"}\n",
            "2023-09-04 04:28:36 | INFO | fairseq.checkpoint_utils | Preparing to save checkpoint for epoch 256 @ 55808 updates\n",
            "2023-09-04 04:28:36 | INFO | fairseq.trainer | Saving checkpoint to /content/drive/MyDrive/ironside_nmt/checkpoints/checkpoint_last.pt\n",
            "2023-09-04 04:28:37 | INFO | fairseq.trainer | Finished saving checkpoint to /content/drive/MyDrive/ironside_nmt/checkpoints/checkpoint_last.pt\n",
            "2023-09-04 04:28:37 | INFO | fairseq.checkpoint_utils | Saved checkpoint /content/drive/MyDrive/ironside_nmt/checkpoints/checkpoint_last.pt (epoch 256 @ 55808 updates, score 8.54) (writing took 1.231371621001017 seconds)\n",
            "2023-09-04 04:28:37 | INFO | fairseq_cli.train | end of epoch 256 (average epoch stats below)\n",
            "2023-09-04 04:28:37 | INFO | train | {\"epoch\": 256, \"train_loss\": \"2.219\", \"train_nll_loss\": \"0.378\", \"train_ppl\": \"1.3\", \"train_wps\": \"21628.2\", \"train_ups\": \"6.59\", \"train_wpb\": \"3282.2\", \"train_bsz\": \"126.3\", \"train_num_updates\": \"55808\", \"train_lr\": \"0.00013386\", \"train_gnorm\": \"0.597\", \"train_train_wall\": \"29\", \"train_gb_free\": \"13.3\", \"train_wall\": \"134\"}\n",
            "2023-09-04 04:28:37 | INFO | fairseq.tasks.fairseq_task | can_reuse_epoch_itr = True\n",
            "2023-09-04 04:28:37 | INFO | fairseq.data.iterators | grouped total_num_itrs = 218\n",
            "2023-09-04 04:28:37 | INFO | fairseq.trainer | begin training epoch 257\n",
            "2023-09-04 04:28:37 | INFO | fairseq_cli.train | Start iterating over samples\n",
            "2023-09-04 04:28:38 | INFO | train_inner | {\"epoch\": 257, \"update\": 256.009, \"loss\": \"2.269\", \"nll_loss\": \"0.433\", \"ppl\": \"1.35\", \"wps\": \"7706.4\", \"ups\": \"2.47\", \"wpb\": \"3117.5\", \"bsz\": \"118.4\", \"num_updates\": \"55810\", \"lr\": \"0.000133858\", \"gnorm\": \"0.676\", \"train_wall\": \"2\", \"gb_free\": \"13.3\", \"wall\": \"135\"}\n",
            "2023-09-04 04:28:39 | INFO | train_inner | {\"epoch\": 257, \"update\": 256.055, \"loss\": \"2.19\", \"nll_loss\": \"0.345\", \"ppl\": \"1.27\", \"wps\": \"20300\", \"ups\": \"6.06\", \"wpb\": \"3348.1\", \"bsz\": \"109.6\", \"num_updates\": \"55820\", \"lr\": \"0.000133846\", \"gnorm\": \"0.547\", \"train_wall\": \"2\", \"gb_free\": \"13.3\", \"wall\": \"137\"}\n",
            "2023-09-04 04:28:41 | INFO | train_inner | {\"epoch\": 257, \"update\": 256.101, \"loss\": \"2.215\", \"nll_loss\": \"0.381\", \"ppl\": \"1.3\", \"wps\": \"22487.6\", \"ups\": \"6.61\", \"wpb\": \"3404.4\", \"bsz\": \"164.8\", \"num_updates\": \"55830\", \"lr\": \"0.000133834\", \"gnorm\": \"0.602\", \"train_wall\": \"1\", \"gb_free\": \"13.2\", \"wall\": \"138\"}\n",
            "2023-09-04 04:28:42 | INFO | train_inner | {\"epoch\": 257, \"update\": 256.147, \"loss\": \"2.191\", \"nll_loss\": \"0.353\", \"ppl\": \"1.28\", \"wps\": \"20792.5\", \"ups\": \"6.98\", \"wpb\": \"2978.8\", \"bsz\": \"96.8\", \"num_updates\": \"55840\", \"lr\": \"0.000133822\", \"gnorm\": \"0.605\", \"train_wall\": \"1\", \"gb_free\": \"13.4\", \"wall\": \"139\"}\n",
            "2023-09-04 04:28:44 | INFO | train_inner | {\"epoch\": 257, \"update\": 256.193, \"loss\": \"2.304\", \"nll_loss\": \"0.466\", \"ppl\": \"1.38\", \"wps\": \"27300.6\", \"ups\": \"7.34\", \"wpb\": \"3721.2\", \"bsz\": \"147.2\", \"num_updates\": \"55850\", \"lr\": \"0.00013381\", \"gnorm\": \"0.598\", \"train_wall\": \"1\", \"gb_free\": \"13.2\", \"wall\": \"141\"}\n",
            "2023-09-04 04:28:45 | INFO | train_inner | {\"epoch\": 257, \"update\": 256.239, \"loss\": \"2.266\", \"nll_loss\": \"0.418\", \"ppl\": \"1.34\", \"wps\": \"26587.8\", \"ups\": \"7.87\", \"wpb\": \"3378.8\", \"bsz\": \"144.8\", \"num_updates\": \"55860\", \"lr\": \"0.000133798\", \"gnorm\": \"0.675\", \"train_wall\": \"1\", \"gb_free\": \"13.5\", \"wall\": \"142\"}\n",
            "2023-09-04 04:28:46 | INFO | train_inner | {\"epoch\": 257, \"update\": 256.284, \"loss\": \"2.225\", \"nll_loss\": \"0.381\", \"ppl\": \"1.3\", \"wps\": \"25512.7\", \"ups\": \"7.48\", \"wpb\": \"3409.2\", \"bsz\": \"147.2\", \"num_updates\": \"55870\", \"lr\": \"0.000133786\", \"gnorm\": \"0.568\", \"train_wall\": \"1\", \"gb_free\": \"13.4\", \"wall\": \"143\"}\n",
            "2023-09-04 04:28:48 | INFO | train_inner | {\"epoch\": 257, \"update\": 256.33, \"loss\": \"2.179\", \"nll_loss\": \"0.346\", \"ppl\": \"1.27\", \"wps\": \"26468.5\", \"ups\": \"7.43\", \"wpb\": \"3561.3\", \"bsz\": \"136.8\", \"num_updates\": \"55880\", \"lr\": \"0.000133774\", \"gnorm\": \"0.564\", \"train_wall\": \"1\", \"gb_free\": \"13.2\", \"wall\": \"145\"}\n",
            "2023-09-04 04:28:49 | INFO | train_inner | {\"epoch\": 257, \"update\": 256.376, \"loss\": \"2.269\", \"nll_loss\": \"0.42\", \"ppl\": \"1.34\", \"wps\": \"23333.1\", \"ups\": \"6.54\", \"wpb\": \"3568.4\", \"bsz\": \"133.6\", \"num_updates\": \"55890\", \"lr\": \"0.000133762\", \"gnorm\": \"0.646\", \"train_wall\": \"2\", \"gb_free\": \"13.3\", \"wall\": \"146\"}\n",
            "2023-09-04 04:28:51 | INFO | train_inner | {\"epoch\": 257, \"update\": 256.422, \"loss\": \"2.181\", \"nll_loss\": \"0.342\", \"ppl\": \"1.27\", \"wps\": \"23278\", \"ups\": \"6.67\", \"wpb\": \"3490.8\", \"bsz\": \"142.4\", \"num_updates\": \"55900\", \"lr\": \"0.00013375\", \"gnorm\": \"0.541\", \"train_wall\": \"1\", \"gb_free\": \"13.2\", \"wall\": \"148\"}\n",
            "2023-09-04 04:28:52 | INFO | train_inner | {\"epoch\": 257, \"update\": 256.468, \"loss\": \"2.269\", \"nll_loss\": \"0.43\", \"ppl\": \"1.35\", \"wps\": \"21522.6\", \"ups\": \"7.33\", \"wpb\": \"2936.9\", \"bsz\": \"112\", \"num_updates\": \"55910\", \"lr\": \"0.000133738\", \"gnorm\": \"0.637\", \"train_wall\": \"1\", \"gb_free\": \"13.3\", \"wall\": \"149\"}\n",
            "2023-09-04 04:28:54 | INFO | train_inner | {\"epoch\": 257, \"update\": 256.514, \"loss\": \"2.204\", \"nll_loss\": \"0.362\", \"ppl\": \"1.28\", \"wps\": \"23078\", \"ups\": \"6.66\", \"wpb\": \"3467.4\", \"bsz\": \"116.8\", \"num_updates\": \"55920\", \"lr\": \"0.000133726\", \"gnorm\": \"0.571\", \"train_wall\": \"1\", \"gb_free\": \"13.3\", \"wall\": \"151\"}\n",
            "2023-09-04 04:28:55 | INFO | train_inner | {\"epoch\": 257, \"update\": 256.56, \"loss\": \"2.35\", \"nll_loss\": \"0.519\", \"ppl\": \"1.43\", \"wps\": \"21993.5\", \"ups\": \"6.4\", \"wpb\": \"3433.9\", \"bsz\": \"133.6\", \"num_updates\": \"55930\", \"lr\": \"0.000133714\", \"gnorm\": \"0.668\", \"train_wall\": \"1\", \"gb_free\": \"13.3\", \"wall\": \"152\"}\n",
            "2023-09-04 04:28:57 | INFO | train_inner | {\"epoch\": 257, \"update\": 256.606, \"loss\": \"2.176\", \"nll_loss\": \"0.338\", \"ppl\": \"1.26\", \"wps\": \"21172.2\", \"ups\": \"7.05\", \"wpb\": \"3002.1\", \"bsz\": \"134.4\", \"num_updates\": \"55940\", \"lr\": \"0.000133702\", \"gnorm\": \"0.575\", \"train_wall\": \"1\", \"gb_free\": \"13.6\", \"wall\": \"154\"}\n",
            "2023-09-04 04:28:58 | INFO | train_inner | {\"epoch\": 257, \"update\": 256.651, \"loss\": \"2.193\", \"nll_loss\": \"0.344\", \"ppl\": \"1.27\", \"wps\": \"21256.6\", \"ups\": \"6.37\", \"wpb\": \"3339.1\", \"bsz\": \"105.6\", \"num_updates\": \"55950\", \"lr\": \"0.00013369\", \"gnorm\": \"0.575\", \"train_wall\": \"1\", \"gb_free\": \"13.4\", \"wall\": \"155\"}\n",
            "2023-09-04 04:29:00 | INFO | train_inner | {\"epoch\": 257, \"update\": 256.697, \"loss\": \"2.198\", \"nll_loss\": \"0.339\", \"ppl\": \"1.26\", \"wps\": \"20037.3\", \"ups\": \"6.65\", \"wpb\": \"3014.5\", \"bsz\": \"107.2\", \"num_updates\": \"55960\", \"lr\": \"0.000133678\", \"gnorm\": \"0.568\", \"train_wall\": \"1\", \"gb_free\": \"13.2\", \"wall\": \"157\"}\n",
            "2023-09-04 04:29:01 | INFO | train_inner | {\"epoch\": 257, \"update\": 256.743, \"loss\": \"2.238\", \"nll_loss\": \"0.403\", \"ppl\": \"1.32\", \"wps\": \"24573.3\", \"ups\": \"7.31\", \"wpb\": \"3361.3\", \"bsz\": \"136.8\", \"num_updates\": \"55970\", \"lr\": \"0.000133666\", \"gnorm\": \"0.621\", \"train_wall\": \"1\", \"gb_free\": \"13.2\", \"wall\": \"158\"}\n",
            "2023-09-04 04:29:03 | INFO | train_inner | {\"epoch\": 257, \"update\": 256.789, \"loss\": \"2.18\", \"nll_loss\": \"0.334\", \"ppl\": \"1.26\", \"wps\": \"23332.5\", \"ups\": \"7.42\", \"wpb\": \"3145.1\", \"bsz\": \"112.8\", \"num_updates\": \"55980\", \"lr\": \"0.000133654\", \"gnorm\": \"0.586\", \"train_wall\": \"1\", \"gb_free\": \"13.3\", \"wall\": \"160\"}\n",
            "2023-09-04 04:29:04 | INFO | train_inner | {\"epoch\": 257, \"update\": 256.835, \"loss\": \"2.189\", \"nll_loss\": \"0.338\", \"ppl\": \"1.26\", \"wps\": \"24178.3\", \"ups\": \"7.5\", \"wpb\": \"3224.5\", \"bsz\": \"122.4\", \"num_updates\": \"55990\", \"lr\": \"0.000133643\", \"gnorm\": \"0.574\", \"train_wall\": \"1\", \"gb_free\": \"13.3\", \"wall\": \"161\"}\n",
            "2023-09-04 04:29:05 | INFO | train_inner | {\"epoch\": 257, \"update\": 256.881, \"loss\": \"2.143\", \"nll_loss\": \"0.303\", \"ppl\": \"1.23\", \"wps\": \"21915.5\", \"ups\": \"7.73\", \"wpb\": \"2836.2\", \"bsz\": \"109.6\", \"num_updates\": \"56000\", \"lr\": \"0.000133631\", \"gnorm\": \"0.517\", \"train_wall\": \"1\", \"gb_free\": \"13.3\", \"wall\": \"162\"}\n",
            "2023-09-04 04:29:07 | INFO | train_inner | {\"epoch\": 257, \"update\": 256.927, \"loss\": \"2.161\", \"nll_loss\": \"0.318\", \"ppl\": \"1.25\", \"wps\": \"24163.4\", \"ups\": \"7.05\", \"wpb\": \"3425.8\", \"bsz\": \"123.2\", \"num_updates\": \"56010\", \"lr\": \"0.000133619\", \"gnorm\": \"0.539\", \"train_wall\": \"1\", \"gb_free\": \"13.4\", \"wall\": \"164\"}\n",
            "2023-09-04 04:29:08 | INFO | train_inner | {\"epoch\": 257, \"update\": 256.972, \"loss\": \"2.33\", \"nll_loss\": \"0.493\", \"ppl\": \"1.41\", \"wps\": \"25954.5\", \"ups\": \"8.55\", \"wpb\": \"3037\", \"bsz\": \"120\", \"num_updates\": \"56020\", \"lr\": \"0.000133607\", \"gnorm\": \"0.778\", \"train_wall\": \"1\", \"gb_free\": \"13.3\", \"wall\": \"165\"}\n",
            "2023-09-04 04:29:08 | INFO | fairseq_cli.train | begin validation on \"valid\" subset\n",
            "2023-09-04 04:29:08 | INFO | fairseq.tasks.fairseq_task | can_reuse_epoch_itr = True\n",
            "2023-09-04 04:29:09 | INFO | valid | {\"epoch\": 257, \"valid_loss\": \"8.518\", \"valid_nll_loss\": \"7.539\", \"valid_ppl\": \"186\", \"valid_wps\": \"57642.7\", \"valid_wpb\": \"2371\", \"valid_bsz\": \"90.9\", \"valid_num_updates\": \"56026\", \"valid_best_loss\": \"7.308\"}\n",
            "2023-09-04 04:29:09 | INFO | fairseq.checkpoint_utils | Preparing to save checkpoint for epoch 257 @ 56026 updates\n",
            "2023-09-04 04:29:09 | INFO | fairseq.trainer | Saving checkpoint to /content/drive/MyDrive/ironside_nmt/checkpoints/checkpoint_last.pt\n",
            "2023-09-04 04:29:10 | INFO | fairseq.trainer | Finished saving checkpoint to /content/drive/MyDrive/ironside_nmt/checkpoints/checkpoint_last.pt\n",
            "2023-09-04 04:29:10 | INFO | fairseq.checkpoint_utils | Saved checkpoint /content/drive/MyDrive/ironside_nmt/checkpoints/checkpoint_last.pt (epoch 257 @ 56026 updates, score 8.518) (writing took 0.9699448150004173 seconds)\n",
            "2023-09-04 04:29:10 | INFO | fairseq_cli.train | end of epoch 257 (average epoch stats below)\n",
            "2023-09-04 04:29:10 | INFO | train | {\"epoch\": 257, \"train_loss\": \"2.223\", \"train_nll_loss\": \"0.381\", \"train_ppl\": \"1.3\", \"train_wps\": \"21572.6\", \"train_ups\": \"6.57\", \"train_wpb\": \"3282.2\", \"train_bsz\": \"126.3\", \"train_num_updates\": \"56026\", \"train_lr\": \"0.0001336\", \"train_gnorm\": \"0.601\", \"train_train_wall\": \"30\", \"train_gb_free\": \"13.2\", \"train_wall\": \"167\"}\n",
            "2023-09-04 04:29:10 | INFO | fairseq.tasks.fairseq_task | can_reuse_epoch_itr = True\n",
            "2023-09-04 04:29:10 | INFO | fairseq.data.iterators | grouped total_num_itrs = 218\n",
            "2023-09-04 04:29:10 | INFO | fairseq.trainer | begin training epoch 258\n",
            "2023-09-04 04:29:10 | INFO | fairseq_cli.train | Start iterating over samples\n",
            "2023-09-04 04:29:11 | INFO | train_inner | {\"epoch\": 258, \"update\": 257.018, \"loss\": \"2.238\", \"nll_loss\": \"0.394\", \"ppl\": \"1.31\", \"wps\": \"8715.4\", \"ups\": \"2.79\", \"wpb\": \"3124.7\", \"bsz\": \"148\", \"num_updates\": \"56030\", \"lr\": \"0.000133595\", \"gnorm\": \"0.647\", \"train_wall\": \"1\", \"gb_free\": \"13.4\", \"wall\": \"168\"}\n",
            "2023-09-04 04:29:13 | INFO | train_inner | {\"epoch\": 258, \"update\": 257.064, \"loss\": \"2.245\", \"nll_loss\": \"0.402\", \"ppl\": \"1.32\", \"wps\": \"22788.9\", \"ups\": \"6.49\", \"wpb\": \"3512.8\", \"bsz\": \"136\", \"num_updates\": \"56040\", \"lr\": \"0.000133583\", \"gnorm\": \"0.626\", \"train_wall\": \"1\", \"gb_free\": \"13.3\", \"wall\": \"170\"}\n",
            "2023-09-04 04:29:14 | INFO | train_inner | {\"epoch\": 258, \"update\": 257.11, \"loss\": \"2.143\", \"nll_loss\": \"0.302\", \"ppl\": \"1.23\", \"wps\": \"19002.9\", \"ups\": \"6.51\", \"wpb\": \"2919.4\", \"bsz\": \"106.4\", \"num_updates\": \"56050\", \"lr\": \"0.000133571\", \"gnorm\": \"0.542\", \"train_wall\": \"1\", \"gb_free\": \"13.2\", \"wall\": \"171\"}\n",
            "2023-09-04 04:29:16 | INFO | train_inner | {\"epoch\": 258, \"update\": 257.156, \"loss\": \"2.242\", \"nll_loss\": \"0.388\", \"ppl\": \"1.31\", \"wps\": \"21995.6\", \"ups\": \"6.2\", \"wpb\": \"3547.9\", \"bsz\": \"124\", \"num_updates\": \"56060\", \"lr\": \"0.000133559\", \"gnorm\": \"0.601\", \"train_wall\": \"2\", \"gb_free\": \"13.2\", \"wall\": \"173\"}\n",
            "2023-09-04 04:29:18 | INFO | train_inner | {\"epoch\": 258, \"update\": 257.202, \"loss\": \"2.195\", \"nll_loss\": \"0.348\", \"ppl\": \"1.27\", \"wps\": \"20027.3\", \"ups\": \"6.05\", \"wpb\": \"3309.1\", \"bsz\": \"119.2\", \"num_updates\": \"56070\", \"lr\": \"0.000133547\", \"gnorm\": \"0.595\", \"train_wall\": \"2\", \"gb_free\": \"13.4\", \"wall\": \"175\"}\n",
            "2023-09-04 04:29:20 | INFO | train_inner | {\"epoch\": 258, \"update\": 257.248, \"loss\": \"2.321\", \"nll_loss\": \"0.492\", \"ppl\": \"1.41\", \"wps\": \"20203.7\", \"ups\": \"5.6\", \"wpb\": \"3608.7\", \"bsz\": \"133.6\", \"num_updates\": \"56080\", \"lr\": \"0.000133535\", \"gnorm\": \"0.678\", \"train_wall\": \"2\", \"gb_free\": \"13.4\", \"wall\": \"177\"}\n",
            "2023-09-04 04:29:21 | INFO | train_inner | {\"epoch\": 258, \"update\": 257.294, \"loss\": \"2.169\", \"nll_loss\": \"0.322\", \"ppl\": \"1.25\", \"wps\": \"23707.9\", \"ups\": \"7.01\", \"wpb\": \"3380.4\", \"bsz\": \"138.4\", \"num_updates\": \"56090\", \"lr\": \"0.000133523\", \"gnorm\": \"0.555\", \"train_wall\": \"1\", \"gb_free\": \"13.1\", \"wall\": \"178\"}\n",
            "2023-09-04 04:29:22 | INFO | train_inner | {\"epoch\": 258, \"update\": 257.339, \"loss\": \"2.169\", \"nll_loss\": \"0.318\", \"ppl\": \"1.25\", \"wps\": \"24979.2\", \"ups\": \"7.17\", \"wpb\": \"3481.6\", \"bsz\": \"122.4\", \"num_updates\": \"56100\", \"lr\": \"0.000133511\", \"gnorm\": \"0.519\", \"train_wall\": \"1\", \"gb_free\": \"13.2\", \"wall\": \"179\"}\n",
            "2023-09-04 04:29:24 | INFO | train_inner | {\"epoch\": 258, \"update\": 257.385, \"loss\": \"2.192\", \"nll_loss\": \"0.35\", \"ppl\": \"1.27\", \"wps\": \"23749\", \"ups\": \"7.88\", \"wpb\": \"3012.5\", \"bsz\": \"100\", \"num_updates\": \"56110\", \"lr\": \"0.0001335\", \"gnorm\": \"0.605\", \"train_wall\": \"1\", \"gb_free\": \"13.3\", \"wall\": \"181\"}\n",
            "2023-09-04 04:29:25 | INFO | train_inner | {\"epoch\": 258, \"update\": 257.431, \"loss\": \"2.357\", \"nll_loss\": \"0.539\", \"ppl\": \"1.45\", \"wps\": \"25095.6\", \"ups\": \"7.59\", \"wpb\": \"3307.9\", \"bsz\": \"132.8\", \"num_updates\": \"56120\", \"lr\": \"0.000133488\", \"gnorm\": \"0.701\", \"train_wall\": \"1\", \"gb_free\": \"13.1\", \"wall\": \"182\"}\n",
            "2023-09-04 04:29:26 | INFO | train_inner | {\"epoch\": 258, \"update\": 257.477, \"loss\": \"2.209\", \"nll_loss\": \"0.362\", \"ppl\": \"1.28\", \"wps\": \"22800.7\", \"ups\": \"7.74\", \"wpb\": \"2947.4\", \"bsz\": \"113.6\", \"num_updates\": \"56130\", \"lr\": \"0.000133476\", \"gnorm\": \"0.629\", \"train_wall\": \"1\", \"gb_free\": \"13.3\", \"wall\": \"183\"}\n",
            "2023-09-04 04:29:28 | INFO | train_inner | {\"epoch\": 258, \"update\": 257.523, \"loss\": \"2.208\", \"nll_loss\": \"0.375\", \"ppl\": \"1.3\", \"wps\": \"24569.2\", \"ups\": \"7.39\", \"wpb\": \"3325.3\", \"bsz\": \"117.6\", \"num_updates\": \"56140\", \"lr\": \"0.000133464\", \"gnorm\": \"0.581\", \"train_wall\": \"1\", \"gb_free\": \"13.3\", \"wall\": \"185\"}\n",
            "2023-09-04 04:29:29 | INFO | train_inner | {\"epoch\": 258, \"update\": 257.569, \"loss\": \"2.202\", \"nll_loss\": \"0.365\", \"ppl\": \"1.29\", \"wps\": \"24723.1\", \"ups\": \"7.7\", \"wpb\": \"3212.7\", \"bsz\": \"133.6\", \"num_updates\": \"56150\", \"lr\": \"0.000133452\", \"gnorm\": \"0.708\", \"train_wall\": \"1\", \"gb_free\": \"13.4\", \"wall\": \"186\"}\n",
            "2023-09-04 04:29:30 | INFO | train_inner | {\"epoch\": 258, \"update\": 257.615, \"loss\": \"2.202\", \"nll_loss\": \"0.358\", \"ppl\": \"1.28\", \"wps\": \"20736.8\", \"ups\": \"6.32\", \"wpb\": \"3281.2\", \"bsz\": \"132.8\", \"num_updates\": \"56160\", \"lr\": \"0.00013344\", \"gnorm\": \"0.58\", \"train_wall\": \"1\", \"gb_free\": \"13.3\", \"wall\": \"188\"}\n",
            "2023-09-04 04:29:32 | INFO | train_inner | {\"epoch\": 258, \"update\": 257.661, \"loss\": \"2.284\", \"nll_loss\": \"0.444\", \"ppl\": \"1.36\", \"wps\": \"22647.2\", \"ups\": \"6.83\", \"wpb\": \"3316.1\", \"bsz\": \"162.4\", \"num_updates\": \"56170\", \"lr\": \"0.000133428\", \"gnorm\": \"0.738\", \"train_wall\": \"1\", \"gb_free\": \"13.6\", \"wall\": \"189\"}\n",
            "2023-09-04 04:29:33 | INFO | train_inner | {\"epoch\": 258, \"update\": 257.706, \"loss\": \"2.415\", \"nll_loss\": \"0.601\", \"ppl\": \"1.52\", \"wps\": \"21059.9\", \"ups\": \"6.73\", \"wpb\": \"3128.8\", \"bsz\": \"125.6\", \"num_updates\": \"56180\", \"lr\": \"0.000133416\", \"gnorm\": \"0.726\", \"train_wall\": \"1\", \"gb_free\": \"13.3\", \"wall\": \"190\"}\n",
            "2023-09-04 04:29:35 | INFO | train_inner | {\"epoch\": 258, \"update\": 257.752, \"loss\": \"2.27\", \"nll_loss\": \"0.422\", \"ppl\": \"1.34\", \"wps\": \"23272.1\", \"ups\": \"6.64\", \"wpb\": \"3507.2\", \"bsz\": \"116.8\", \"num_updates\": \"56190\", \"lr\": \"0.000133405\", \"gnorm\": \"0.705\", \"train_wall\": \"1\", \"gb_free\": \"13.3\", \"wall\": \"192\"}\n",
            "2023-09-04 04:29:36 | INFO | train_inner | {\"epoch\": 258, \"update\": 257.798, \"loss\": \"2.286\", \"nll_loss\": \"0.44\", \"ppl\": \"1.36\", \"wps\": \"23751.1\", \"ups\": \"6.65\", \"wpb\": \"3573.7\", \"bsz\": \"153.6\", \"num_updates\": \"56200\", \"lr\": \"0.000133393\", \"gnorm\": \"0.681\", \"train_wall\": \"1\", \"gb_free\": \"13.2\", \"wall\": \"194\"}\n",
            "2023-09-04 04:29:38 | INFO | train_inner | {\"epoch\": 258, \"update\": 257.844, \"loss\": \"2.199\", \"nll_loss\": \"0.359\", \"ppl\": \"1.28\", \"wps\": \"23969.2\", \"ups\": \"7.45\", \"wpb\": \"3218.9\", \"bsz\": \"120\", \"num_updates\": \"56210\", \"lr\": \"0.000133381\", \"gnorm\": \"0.601\", \"train_wall\": \"1\", \"gb_free\": \"13.4\", \"wall\": \"195\"}\n",
            "2023-09-04 04:29:39 | INFO | train_inner | {\"epoch\": 258, \"update\": 257.89, \"loss\": \"2.27\", \"nll_loss\": \"0.437\", \"ppl\": \"1.35\", \"wps\": \"22794.4\", \"ups\": \"7.81\", \"wpb\": \"2918.1\", \"bsz\": \"103.2\", \"num_updates\": \"56220\", \"lr\": \"0.000133369\", \"gnorm\": \"0.674\", \"train_wall\": \"1\", \"gb_free\": \"13.5\", \"wall\": \"196\"}\n",
            "2023-09-04 04:29:40 | INFO | train_inner | {\"epoch\": 258, \"update\": 257.936, \"loss\": \"2.383\", \"nll_loss\": \"0.556\", \"ppl\": \"1.47\", \"wps\": \"24200.4\", \"ups\": \"7.74\", \"wpb\": \"3127.2\", \"bsz\": \"107.2\", \"num_updates\": \"56230\", \"lr\": \"0.000133357\", \"gnorm\": \"0.67\", \"train_wall\": \"1\", \"gb_free\": \"13.2\", \"wall\": \"197\"}\n",
            "2023-09-04 04:29:42 | INFO | train_inner | {\"epoch\": 258, \"update\": 257.982, \"loss\": \"2.373\", \"nll_loss\": \"0.566\", \"ppl\": \"1.48\", \"wps\": \"26474.2\", \"ups\": \"8.3\", \"wpb\": \"3188.3\", \"bsz\": \"113.6\", \"num_updates\": \"56240\", \"lr\": \"0.000133345\", \"gnorm\": \"0.678\", \"train_wall\": \"1\", \"gb_free\": \"13.4\", \"wall\": \"199\"}\n",
            "2023-09-04 04:29:42 | INFO | fairseq_cli.train | begin validation on \"valid\" subset\n",
            "2023-09-04 04:29:42 | INFO | fairseq.tasks.fairseq_task | can_reuse_epoch_itr = True\n",
            "2023-09-04 04:29:43 | INFO | valid | {\"epoch\": 258, \"valid_loss\": \"8.532\", \"valid_nll_loss\": \"7.551\", \"valid_ppl\": \"187.52\", \"valid_wps\": \"57030.3\", \"valid_wpb\": \"2371\", \"valid_bsz\": \"90.9\", \"valid_num_updates\": \"56244\", \"valid_best_loss\": \"7.308\"}\n",
            "2023-09-04 04:29:43 | INFO | fairseq.checkpoint_utils | Preparing to save checkpoint for epoch 258 @ 56244 updates\n",
            "2023-09-04 04:29:43 | INFO | fairseq.trainer | Saving checkpoint to /content/drive/MyDrive/ironside_nmt/checkpoints/checkpoint_last.pt\n",
            "2023-09-04 04:29:44 | INFO | fairseq.trainer | Finished saving checkpoint to /content/drive/MyDrive/ironside_nmt/checkpoints/checkpoint_last.pt\n",
            "2023-09-04 04:29:44 | INFO | fairseq.checkpoint_utils | Saved checkpoint /content/drive/MyDrive/ironside_nmt/checkpoints/checkpoint_last.pt (epoch 258 @ 56244 updates, score 8.532) (writing took 1.0571990169992205 seconds)\n",
            "2023-09-04 04:29:44 | INFO | fairseq_cli.train | end of epoch 258 (average epoch stats below)\n",
            "2023-09-04 04:29:44 | INFO | train | {\"epoch\": 258, \"train_loss\": \"2.251\", \"train_nll_loss\": \"0.414\", \"train_ppl\": \"1.33\", \"train_wps\": \"21194.8\", \"train_ups\": \"6.46\", \"train_wpb\": \"3282.2\", \"train_bsz\": \"126.3\", \"train_num_updates\": \"56244\", \"train_lr\": \"0.00013334\", \"train_gnorm\": \"0.635\", \"train_train_wall\": \"30\", \"train_gb_free\": \"13.3\", \"train_wall\": \"201\"}\n",
            "2023-09-04 04:29:44 | INFO | fairseq.tasks.fairseq_task | can_reuse_epoch_itr = True\n",
            "2023-09-04 04:29:44 | INFO | fairseq.data.iterators | grouped total_num_itrs = 218\n",
            "2023-09-04 04:29:44 | INFO | fairseq.trainer | begin training epoch 259\n",
            "2023-09-04 04:29:44 | INFO | fairseq_cli.train | Start iterating over samples\n",
            "2023-09-04 04:29:45 | INFO | train_inner | {\"epoch\": 259, \"update\": 258.028, \"loss\": \"2.139\", \"nll_loss\": \"0.299\", \"ppl\": \"1.23\", \"wps\": \"10155\", \"ups\": \"2.85\", \"wpb\": \"3564.4\", \"bsz\": \"172\", \"num_updates\": \"56250\", \"lr\": \"0.000133333\", \"gnorm\": \"0.489\", \"train_wall\": \"1\", \"gb_free\": \"13.2\", \"wall\": \"202\"}\n",
            "2023-09-04 04:29:46 | INFO | train_inner | {\"epoch\": 259, \"update\": 258.073, \"loss\": \"2.18\", \"nll_loss\": \"0.333\", \"ppl\": \"1.26\", \"wps\": \"25169.3\", \"ups\": \"7.41\", \"wpb\": \"3395\", \"bsz\": \"130.4\", \"num_updates\": \"56260\", \"lr\": \"0.000133321\", \"gnorm\": \"0.546\", \"train_wall\": \"1\", \"gb_free\": \"13.3\", \"wall\": \"204\"}\n",
            "2023-09-04 04:29:48 | INFO | train_inner | {\"epoch\": 259, \"update\": 258.119, \"loss\": \"2.159\", \"nll_loss\": \"0.313\", \"ppl\": \"1.24\", \"wps\": \"22553.4\", \"ups\": \"6.78\", \"wpb\": \"3326.3\", \"bsz\": \"117.6\", \"num_updates\": \"56270\", \"lr\": \"0.00013331\", \"gnorm\": \"0.541\", \"train_wall\": \"1\", \"gb_free\": \"13.2\", \"wall\": \"205\"}\n",
            "2023-09-04 04:29:49 | INFO | train_inner | {\"epoch\": 259, \"update\": 258.165, \"loss\": \"2.222\", \"nll_loss\": \"0.38\", \"ppl\": \"1.3\", \"wps\": \"18785\", \"ups\": \"6.66\", \"wpb\": \"2820.6\", \"bsz\": \"108\", \"num_updates\": \"56280\", \"lr\": \"0.000133298\", \"gnorm\": \"0.594\", \"train_wall\": \"1\", \"gb_free\": \"13.5\", \"wall\": \"206\"}\n",
            "2023-09-04 04:29:51 | INFO | train_inner | {\"epoch\": 259, \"update\": 258.211, \"loss\": \"2.22\", \"nll_loss\": \"0.389\", \"ppl\": \"1.31\", \"wps\": \"24580.2\", \"ups\": \"6.67\", \"wpb\": \"3686.7\", \"bsz\": \"120\", \"num_updates\": \"56290\", \"lr\": \"0.000133286\", \"gnorm\": \"0.606\", \"train_wall\": \"1\", \"gb_free\": \"13.3\", \"wall\": \"208\"}\n",
            "2023-09-04 04:29:52 | INFO | train_inner | {\"epoch\": 259, \"update\": 258.257, \"loss\": \"2.214\", \"nll_loss\": \"0.35\", \"ppl\": \"1.27\", \"wps\": \"21848.7\", \"ups\": \"6.77\", \"wpb\": \"3225.3\", \"bsz\": \"105.6\", \"num_updates\": \"56300\", \"lr\": \"0.000133274\", \"gnorm\": \"0.598\", \"train_wall\": \"1\", \"gb_free\": \"13.2\", \"wall\": \"209\"}\n",
            "2023-09-04 04:29:54 | INFO | train_inner | {\"epoch\": 259, \"update\": 258.303, \"loss\": \"2.24\", \"nll_loss\": \"0.4\", \"ppl\": \"1.32\", \"wps\": \"17215.6\", \"ups\": \"4.97\", \"wpb\": \"3464.4\", \"bsz\": \"111.2\", \"num_updates\": \"56310\", \"lr\": \"0.000133262\", \"gnorm\": \"0.619\", \"train_wall\": \"2\", \"gb_free\": \"13.2\", \"wall\": \"212\"}\n",
            "2023-09-04 04:29:56 | INFO | train_inner | {\"epoch\": 259, \"update\": 258.349, \"loss\": \"2.228\", \"nll_loss\": \"0.39\", \"ppl\": \"1.31\", \"wps\": \"17748.6\", \"ups\": \"6.4\", \"wpb\": \"2774.4\", \"bsz\": \"156\", \"num_updates\": \"56320\", \"lr\": \"0.00013325\", \"gnorm\": \"0.662\", \"train_wall\": \"2\", \"gb_free\": \"13.6\", \"wall\": \"213\"}\n",
            "2023-09-04 04:29:57 | INFO | train_inner | {\"epoch\": 259, \"update\": 258.394, \"loss\": \"2.183\", \"nll_loss\": \"0.346\", \"ppl\": \"1.27\", \"wps\": \"25919.4\", \"ups\": \"7.3\", \"wpb\": \"3552.7\", \"bsz\": \"139.2\", \"num_updates\": \"56330\", \"lr\": \"0.000133239\", \"gnorm\": \"0.57\", \"train_wall\": \"1\", \"gb_free\": \"13.2\", \"wall\": \"214\"}\n",
            "2023-09-04 04:29:59 | INFO | train_inner | {\"epoch\": 259, \"update\": 258.44, \"loss\": \"2.324\", \"nll_loss\": \"0.493\", \"ppl\": \"1.41\", \"wps\": \"26786.2\", \"ups\": \"7.77\", \"wpb\": \"3449.5\", \"bsz\": \"128\", \"num_updates\": \"56340\", \"lr\": \"0.000133227\", \"gnorm\": \"0.676\", \"train_wall\": \"1\", \"gb_free\": \"13.5\", \"wall\": \"216\"}\n",
            "2023-09-04 04:30:00 | INFO | train_inner | {\"epoch\": 259, \"update\": 258.486, \"loss\": \"2.241\", \"nll_loss\": \"0.409\", \"ppl\": \"1.33\", \"wps\": \"24677.7\", \"ups\": \"7.66\", \"wpb\": \"3222.9\", \"bsz\": \"127.2\", \"num_updates\": \"56350\", \"lr\": \"0.000133215\", \"gnorm\": \"0.648\", \"train_wall\": \"1\", \"gb_free\": \"13.4\", \"wall\": \"217\"}\n",
            "2023-09-04 04:30:01 | INFO | train_inner | {\"epoch\": 259, \"update\": 258.532, \"loss\": \"2.276\", \"nll_loss\": \"0.443\", \"ppl\": \"1.36\", \"wps\": \"26508.9\", \"ups\": \"7.62\", \"wpb\": \"3481.1\", \"bsz\": \"140.8\", \"num_updates\": \"56360\", \"lr\": \"0.000133203\", \"gnorm\": \"0.602\", \"train_wall\": \"1\", \"gb_free\": \"13.2\", \"wall\": \"218\"}\n",
            "2023-09-04 04:30:03 | INFO | train_inner | {\"epoch\": 259, \"update\": 258.578, \"loss\": \"2.251\", \"nll_loss\": \"0.419\", \"ppl\": \"1.34\", \"wps\": \"25311.9\", \"ups\": \"7.43\", \"wpb\": \"3407.2\", \"bsz\": \"172\", \"num_updates\": \"56370\", \"lr\": \"0.000133191\", \"gnorm\": \"0.643\", \"train_wall\": \"1\", \"gb_free\": \"13.3\", \"wall\": \"220\"}\n",
            "2023-09-04 04:30:04 | INFO | train_inner | {\"epoch\": 259, \"update\": 258.624, \"loss\": \"2.256\", \"nll_loss\": \"0.41\", \"ppl\": \"1.33\", \"wps\": \"26075.6\", \"ups\": \"7.6\", \"wpb\": \"3430.9\", \"bsz\": \"121.6\", \"num_updates\": \"56380\", \"lr\": \"0.00013318\", \"gnorm\": \"0.621\", \"train_wall\": \"1\", \"gb_free\": \"13.3\", \"wall\": \"221\"}\n",
            "2023-09-04 04:30:05 | INFO | train_inner | {\"epoch\": 259, \"update\": 258.67, \"loss\": \"2.238\", \"nll_loss\": \"0.394\", \"ppl\": \"1.31\", \"wps\": \"26671.9\", \"ups\": \"7.71\", \"wpb\": \"3458.6\", \"bsz\": \"120\", \"num_updates\": \"56390\", \"lr\": \"0.000133168\", \"gnorm\": \"0.638\", \"train_wall\": \"1\", \"gb_free\": \"13.4\", \"wall\": \"222\"}\n",
            "2023-09-04 04:30:07 | INFO | train_inner | {\"epoch\": 259, \"update\": 258.716, \"loss\": \"2.267\", \"nll_loss\": \"0.419\", \"ppl\": \"1.34\", \"wps\": \"20121.8\", \"ups\": \"6.74\", \"wpb\": \"2986.8\", \"bsz\": \"113.6\", \"num_updates\": \"56400\", \"lr\": \"0.000133156\", \"gnorm\": \"0.678\", \"train_wall\": \"1\", \"gb_free\": \"13.5\", \"wall\": \"224\"}\n",
            "2023-09-04 04:30:08 | INFO | train_inner | {\"epoch\": 259, \"update\": 258.761, \"loss\": \"2.162\", \"nll_loss\": \"0.336\", \"ppl\": \"1.26\", \"wps\": \"21845.1\", \"ups\": \"6.41\", \"wpb\": \"3409.6\", \"bsz\": \"152\", \"num_updates\": \"56410\", \"lr\": \"0.000133144\", \"gnorm\": \"0.555\", \"train_wall\": \"1\", \"gb_free\": \"13.3\", \"wall\": \"225\"}\n",
            "2023-09-04 04:30:10 | INFO | train_inner | {\"epoch\": 259, \"update\": 258.807, \"loss\": \"2.144\", \"nll_loss\": \"0.298\", \"ppl\": \"1.23\", \"wps\": \"19757.4\", \"ups\": \"6.43\", \"wpb\": \"3074.8\", \"bsz\": \"118.4\", \"num_updates\": \"56420\", \"lr\": \"0.000133132\", \"gnorm\": \"0.565\", \"train_wall\": \"1\", \"gb_free\": \"13.2\", \"wall\": \"227\"}\n",
            "2023-09-04 04:30:11 | INFO | train_inner | {\"epoch\": 259, \"update\": 258.853, \"loss\": \"2.244\", \"nll_loss\": \"0.404\", \"ppl\": \"1.32\", \"wps\": \"20103.8\", \"ups\": \"6.59\", \"wpb\": \"3050.3\", \"bsz\": \"88\", \"num_updates\": \"56430\", \"lr\": \"0.000133121\", \"gnorm\": \"0.628\", \"train_wall\": \"1\", \"gb_free\": \"13.4\", \"wall\": \"228\"}\n",
            "2023-09-04 04:30:13 | INFO | train_inner | {\"epoch\": 259, \"update\": 258.899, \"loss\": \"2.216\", \"nll_loss\": \"0.374\", \"ppl\": \"1.3\", \"wps\": \"22171\", \"ups\": \"6.29\", \"wpb\": \"3524.8\", \"bsz\": \"112.8\", \"num_updates\": \"56440\", \"lr\": \"0.000133109\", \"gnorm\": \"0.571\", \"train_wall\": \"1\", \"gb_free\": \"13.2\", \"wall\": \"230\"}\n",
            "2023-09-04 04:30:14 | INFO | train_inner | {\"epoch\": 259, \"update\": 258.945, \"loss\": \"2.301\", \"nll_loss\": \"0.444\", \"ppl\": \"1.36\", \"wps\": \"22390.2\", \"ups\": \"7.5\", \"wpb\": \"2984.1\", \"bsz\": \"104.8\", \"num_updates\": \"56450\", \"lr\": \"0.000133097\", \"gnorm\": \"0.733\", \"train_wall\": \"1\", \"gb_free\": \"13.2\", \"wall\": \"231\"}\n",
            "2023-09-04 04:30:16 | INFO | train_inner | {\"epoch\": 259, \"update\": 258.991, \"loss\": \"2.421\", \"nll_loss\": \"0.588\", \"ppl\": \"1.5\", \"wps\": \"26033.6\", \"ups\": \"8.59\", \"wpb\": \"3030.9\", \"bsz\": \"120\", \"num_updates\": \"56460\", \"lr\": \"0.000133085\", \"gnorm\": \"0.746\", \"train_wall\": \"1\", \"gb_free\": \"13.3\", \"wall\": \"233\"}\n",
            "2023-09-04 04:30:16 | INFO | fairseq_cli.train | begin validation on \"valid\" subset\n",
            "2023-09-04 04:30:16 | INFO | fairseq.tasks.fairseq_task | can_reuse_epoch_itr = True\n",
            "2023-09-04 04:30:17 | INFO | valid | {\"epoch\": 259, \"valid_loss\": \"8.523\", \"valid_nll_loss\": \"7.556\", \"valid_ppl\": \"188.19\", \"valid_wps\": \"57436\", \"valid_wpb\": \"2371\", \"valid_bsz\": \"90.9\", \"valid_num_updates\": \"56462\", \"valid_best_loss\": \"7.308\"}\n",
            "2023-09-04 04:30:17 | INFO | fairseq.checkpoint_utils | Preparing to save checkpoint for epoch 259 @ 56462 updates\n",
            "2023-09-04 04:30:17 | INFO | fairseq.trainer | Saving checkpoint to /content/drive/MyDrive/ironside_nmt/checkpoints/checkpoint_last.pt\n",
            "2023-09-04 04:30:18 | INFO | fairseq.trainer | Finished saving checkpoint to /content/drive/MyDrive/ironside_nmt/checkpoints/checkpoint_last.pt\n",
            "2023-09-04 04:30:18 | INFO | fairseq.checkpoint_utils | Saved checkpoint /content/drive/MyDrive/ironside_nmt/checkpoints/checkpoint_last.pt (epoch 259 @ 56462 updates, score 8.523) (writing took 1.0067126149988326 seconds)\n",
            "2023-09-04 04:30:18 | INFO | fairseq_cli.train | end of epoch 259 (average epoch stats below)\n",
            "2023-09-04 04:30:18 | INFO | train | {\"epoch\": 259, \"train_loss\": \"2.233\", \"train_nll_loss\": \"0.392\", \"train_ppl\": \"1.31\", \"train_wps\": \"21265.5\", \"train_ups\": \"6.48\", \"train_wpb\": \"3282.2\", \"train_bsz\": \"126.3\", \"train_num_updates\": \"56462\", \"train_lr\": \"0.000133083\", \"train_gnorm\": \"0.617\", \"train_train_wall\": \"30\", \"train_gb_free\": \"13.4\", \"train_wall\": \"235\"}\n",
            "2023-09-04 04:30:18 | INFO | fairseq.tasks.fairseq_task | can_reuse_epoch_itr = True\n",
            "2023-09-04 04:30:18 | INFO | fairseq.data.iterators | grouped total_num_itrs = 218\n",
            "2023-09-04 04:30:18 | INFO | fairseq.trainer | begin training epoch 260\n",
            "2023-09-04 04:30:18 | INFO | fairseq_cli.train | Start iterating over samples\n",
            "2023-09-04 04:30:19 | INFO | train_inner | {\"epoch\": 260, \"update\": 259.037, \"loss\": \"2.219\", \"nll_loss\": \"0.364\", \"ppl\": \"1.29\", \"wps\": \"9192.3\", \"ups\": \"2.89\", \"wpb\": \"3177.5\", \"bsz\": \"141.6\", \"num_updates\": \"56470\", \"lr\": \"0.000133073\", \"gnorm\": \"0.589\", \"train_wall\": \"1\", \"gb_free\": \"13.3\", \"wall\": \"236\"}\n",
            "2023-09-04 04:30:20 | INFO | train_inner | {\"epoch\": 260, \"update\": 259.083, \"loss\": \"2.203\", \"nll_loss\": \"0.36\", \"ppl\": \"1.28\", \"wps\": \"24534.9\", \"ups\": \"7.28\", \"wpb\": \"3370.5\", \"bsz\": \"128\", \"num_updates\": \"56480\", \"lr\": \"0.000133062\", \"gnorm\": \"0.609\", \"train_wall\": \"1\", \"gb_free\": \"13.2\", \"wall\": \"237\"}\n",
            "2023-09-04 04:30:22 | INFO | train_inner | {\"epoch\": 260, \"update\": 259.128, \"loss\": \"2.321\", \"nll_loss\": \"0.481\", \"ppl\": \"1.4\", \"wps\": \"25585.4\", \"ups\": \"8.16\", \"wpb\": \"3134.8\", \"bsz\": \"104\", \"num_updates\": \"56490\", \"lr\": \"0.00013305\", \"gnorm\": \"0.696\", \"train_wall\": \"1\", \"gb_free\": \"13.5\", \"wall\": \"239\"}\n",
            "2023-09-04 04:30:23 | INFO | train_inner | {\"epoch\": 260, \"update\": 259.174, \"loss\": \"2.243\", \"nll_loss\": \"0.399\", \"ppl\": \"1.32\", \"wps\": \"23477.2\", \"ups\": \"7.57\", \"wpb\": \"3100\", \"bsz\": \"97.6\", \"num_updates\": \"56500\", \"lr\": \"0.000133038\", \"gnorm\": \"0.665\", \"train_wall\": \"1\", \"gb_free\": \"13.3\", \"wall\": \"240\"}\n",
            "2023-09-04 04:30:24 | INFO | train_inner | {\"epoch\": 260, \"update\": 259.22, \"loss\": \"2.238\", \"nll_loss\": \"0.389\", \"ppl\": \"1.31\", \"wps\": \"21662.6\", \"ups\": \"7.48\", \"wpb\": \"2894.3\", \"bsz\": \"80\", \"num_updates\": \"56510\", \"lr\": \"0.000133026\", \"gnorm\": \"0.605\", \"train_wall\": \"1\", \"gb_free\": \"13.4\", \"wall\": \"241\"}\n",
            "2023-09-04 04:30:26 | INFO | train_inner | {\"epoch\": 260, \"update\": 259.266, \"loss\": \"2.202\", \"nll_loss\": \"0.359\", \"ppl\": \"1.28\", \"wps\": \"20687.2\", \"ups\": \"6.23\", \"wpb\": \"3321.5\", \"bsz\": \"137.6\", \"num_updates\": \"56520\", \"lr\": \"0.000133014\", \"gnorm\": \"0.578\", \"train_wall\": \"2\", \"gb_free\": \"13.2\", \"wall\": \"243\"}\n",
            "2023-09-04 04:30:27 | INFO | train_inner | {\"epoch\": 260, \"update\": 259.312, \"loss\": \"2.254\", \"nll_loss\": \"0.405\", \"ppl\": \"1.32\", \"wps\": \"22158.5\", \"ups\": \"6.4\", \"wpb\": \"3462.2\", \"bsz\": \"139.2\", \"num_updates\": \"56530\", \"lr\": \"0.000133003\", \"gnorm\": \"0.612\", \"train_wall\": \"1\", \"gb_free\": \"13.3\", \"wall\": \"245\"}\n",
            "2023-09-04 04:30:29 | INFO | train_inner | {\"epoch\": 260, \"update\": 259.358, \"loss\": \"2.251\", \"nll_loss\": \"0.413\", \"ppl\": \"1.33\", \"wps\": \"20008.3\", \"ups\": \"6.02\", \"wpb\": \"3325.5\", \"bsz\": \"123.2\", \"num_updates\": \"56540\", \"lr\": \"0.000132991\", \"gnorm\": \"0.722\", \"train_wall\": \"2\", \"gb_free\": \"13.3\", \"wall\": \"246\"}\n",
            "2023-09-04 04:30:31 | INFO | train_inner | {\"epoch\": 260, \"update\": 259.404, \"loss\": \"2.211\", \"nll_loss\": \"0.366\", \"ppl\": \"1.29\", \"wps\": \"18257.4\", \"ups\": \"5.16\", \"wpb\": \"3541.6\", \"bsz\": \"147.2\", \"num_updates\": \"56550\", \"lr\": \"0.000132979\", \"gnorm\": \"0.574\", \"train_wall\": \"2\", \"gb_free\": \"13.3\", \"wall\": \"248\"}\n",
            "2023-09-04 04:30:33 | INFO | train_inner | {\"epoch\": 260, \"update\": 259.45, \"loss\": \"2.281\", \"nll_loss\": \"0.454\", \"ppl\": \"1.37\", \"wps\": \"23708.3\", \"ups\": \"6.77\", \"wpb\": \"3503.6\", \"bsz\": \"126.4\", \"num_updates\": \"56560\", \"lr\": \"0.000132967\", \"gnorm\": \"0.634\", \"train_wall\": \"1\", \"gb_free\": \"13.4\", \"wall\": \"250\"}\n",
            "2023-09-04 04:30:34 | INFO | train_inner | {\"epoch\": 260, \"update\": 259.495, \"loss\": \"2.228\", \"nll_loss\": \"0.38\", \"ppl\": \"1.3\", \"wps\": \"26712.4\", \"ups\": \"7.61\", \"wpb\": \"3509.1\", \"bsz\": \"150.4\", \"num_updates\": \"56570\", \"lr\": \"0.000132956\", \"gnorm\": \"0.621\", \"train_wall\": \"1\", \"gb_free\": \"13.5\", \"wall\": \"251\"}\n",
            "2023-09-04 04:30:35 | INFO | train_inner | {\"epoch\": 260, \"update\": 259.541, \"loss\": \"2.347\", \"nll_loss\": \"0.499\", \"ppl\": \"1.41\", \"wps\": \"27937.2\", \"ups\": \"8.06\", \"wpb\": \"3466.1\", \"bsz\": \"138.4\", \"num_updates\": \"56580\", \"lr\": \"0.000132944\", \"gnorm\": \"0.713\", \"train_wall\": \"1\", \"gb_free\": \"13.3\", \"wall\": \"252\"}\n",
            "2023-09-04 04:30:37 | INFO | train_inner | {\"epoch\": 260, \"update\": 259.587, \"loss\": \"2.179\", \"nll_loss\": \"0.34\", \"ppl\": \"1.27\", \"wps\": \"24244.9\", \"ups\": \"7.21\", \"wpb\": \"3362.3\", \"bsz\": \"139.2\", \"num_updates\": \"56590\", \"lr\": \"0.000132932\", \"gnorm\": \"0.533\", \"train_wall\": \"1\", \"gb_free\": \"13.4\", \"wall\": \"254\"}\n",
            "2023-09-04 04:30:38 | INFO | train_inner | {\"epoch\": 260, \"update\": 259.633, \"loss\": \"2.207\", \"nll_loss\": \"0.36\", \"ppl\": \"1.28\", \"wps\": \"24724.6\", \"ups\": \"7.3\", \"wpb\": \"3385.2\", \"bsz\": \"115.2\", \"num_updates\": \"56600\", \"lr\": \"0.00013292\", \"gnorm\": \"0.634\", \"train_wall\": \"1\", \"gb_free\": \"13.3\", \"wall\": \"255\"}\n",
            "2023-09-04 04:30:39 | INFO | train_inner | {\"epoch\": 260, \"update\": 259.679, \"loss\": \"2.221\", \"nll_loss\": \"0.376\", \"ppl\": \"1.3\", \"wps\": \"23035.9\", \"ups\": \"7.14\", \"wpb\": \"3224.5\", \"bsz\": \"104.8\", \"num_updates\": \"56610\", \"lr\": \"0.000132909\", \"gnorm\": \"0.569\", \"train_wall\": \"1\", \"gb_free\": \"13.4\", \"wall\": \"256\"}\n",
            "2023-09-04 04:30:41 | INFO | train_inner | {\"epoch\": 260, \"update\": 259.725, \"loss\": \"2.199\", \"nll_loss\": \"0.367\", \"ppl\": \"1.29\", \"wps\": \"22998.8\", \"ups\": \"7.1\", \"wpb\": \"3239\", \"bsz\": \"156\", \"num_updates\": \"56620\", \"lr\": \"0.000132897\", \"gnorm\": \"0.571\", \"train_wall\": \"1\", \"gb_free\": \"13.3\", \"wall\": \"258\"}\n",
            "2023-09-04 04:30:42 | INFO | train_inner | {\"epoch\": 260, \"update\": 259.771, \"loss\": \"2.263\", \"nll_loss\": \"0.416\", \"ppl\": \"1.33\", \"wps\": \"23522.8\", \"ups\": \"7.86\", \"wpb\": \"2992.7\", \"bsz\": \"132.8\", \"num_updates\": \"56630\", \"lr\": \"0.000132885\", \"gnorm\": \"0.668\", \"train_wall\": \"1\", \"gb_free\": \"13.4\", \"wall\": \"259\"}\n",
            "2023-09-04 04:30:44 | INFO | train_inner | {\"epoch\": 260, \"update\": 259.817, \"loss\": \"2.213\", \"nll_loss\": \"0.367\", \"ppl\": \"1.29\", \"wps\": \"21072.6\", \"ups\": \"6.38\", \"wpb\": \"3300.9\", \"bsz\": \"100.8\", \"num_updates\": \"56640\", \"lr\": \"0.000132874\", \"gnorm\": \"0.599\", \"train_wall\": \"1\", \"gb_free\": \"13.2\", \"wall\": \"261\"}\n",
            "2023-09-04 04:30:45 | INFO | train_inner | {\"epoch\": 260, \"update\": 259.862, \"loss\": \"2.177\", \"nll_loss\": \"0.341\", \"ppl\": \"1.27\", \"wps\": \"18876.2\", \"ups\": \"6.31\", \"wpb\": \"2992.1\", \"bsz\": \"133.6\", \"num_updates\": \"56650\", \"lr\": \"0.000132862\", \"gnorm\": \"0.568\", \"train_wall\": \"1\", \"gb_free\": \"13.2\", \"wall\": \"262\"}\n",
            "2023-09-04 04:30:47 | INFO | train_inner | {\"epoch\": 260, \"update\": 259.908, \"loss\": \"2.199\", \"nll_loss\": \"0.372\", \"ppl\": \"1.29\", \"wps\": \"22387.9\", \"ups\": \"6.38\", \"wpb\": \"3511.6\", \"bsz\": \"154.4\", \"num_updates\": \"56660\", \"lr\": \"0.00013285\", \"gnorm\": \"0.615\", \"train_wall\": \"1\", \"gb_free\": \"13.4\", \"wall\": \"264\"}\n",
            "2023-09-04 04:30:48 | INFO | train_inner | {\"epoch\": 260, \"update\": 259.954, \"loss\": \"2.406\", \"nll_loss\": \"0.585\", \"ppl\": \"1.5\", \"wps\": \"22747.5\", \"ups\": \"7.11\", \"wpb\": \"3200.8\", \"bsz\": \"130.4\", \"num_updates\": \"56670\", \"lr\": \"0.000132838\", \"gnorm\": \"0.743\", \"train_wall\": \"1\", \"gb_free\": \"13.3\", \"wall\": \"265\"}\n",
            "2023-09-04 04:30:50 | INFO | train_inner | {\"epoch\": 260, \"update\": 260.0, \"loss\": \"2.195\", \"nll_loss\": \"0.352\", \"ppl\": \"1.28\", \"wps\": \"22134.1\", \"ups\": \"6.77\", \"wpb\": \"3271.3\", \"bsz\": \"109.6\", \"num_updates\": \"56680\", \"lr\": \"0.000132827\", \"gnorm\": \"0.6\", \"train_wall\": \"1\", \"gb_free\": \"13.3\", \"wall\": \"267\"}\n",
            "2023-09-04 04:30:50 | INFO | fairseq_cli.train | begin validation on \"valid\" subset\n",
            "2023-09-04 04:30:50 | INFO | fairseq.tasks.fairseq_task | can_reuse_epoch_itr = True\n",
            "2023-09-04 04:30:51 | INFO | valid | {\"epoch\": 260, \"valid_loss\": \"8.535\", \"valid_nll_loss\": \"7.567\", \"valid_ppl\": \"189.62\", \"valid_wps\": \"49084.7\", \"valid_wpb\": \"2371\", \"valid_bsz\": \"90.9\", \"valid_num_updates\": \"56680\", \"valid_best_loss\": \"7.308\"}\n",
            "2023-09-04 04:30:51 | INFO | fairseq.checkpoint_utils | Preparing to save checkpoint for epoch 260 @ 56680 updates\n",
            "2023-09-04 04:30:51 | INFO | fairseq.trainer | Saving checkpoint to /content/drive/MyDrive/ironside_nmt/checkpoints/checkpoint_last.pt\n",
            "2023-09-04 04:30:52 | INFO | fairseq.trainer | Finished saving checkpoint to /content/drive/MyDrive/ironside_nmt/checkpoints/checkpoint_last.pt\n",
            "2023-09-04 04:30:52 | INFO | fairseq.checkpoint_utils | Saved checkpoint /content/drive/MyDrive/ironside_nmt/checkpoints/checkpoint_last.pt (epoch 260 @ 56680 updates, score 8.535) (writing took 0.9619820309999341 seconds)\n",
            "2023-09-04 04:30:52 | INFO | fairseq_cli.train | end of epoch 260 (average epoch stats below)\n",
            "2023-09-04 04:30:52 | INFO | train | {\"epoch\": 260, \"train_loss\": \"2.239\", \"train_nll_loss\": \"0.398\", \"train_ppl\": \"1.32\", \"train_wps\": \"21078.1\", \"train_ups\": \"6.42\", \"train_wpb\": \"3282.2\", \"train_bsz\": \"126.3\", \"train_num_updates\": \"56680\", \"train_lr\": \"0.000132827\", \"train_gnorm\": \"0.624\", \"train_train_wall\": \"31\", \"train_gb_free\": \"13.3\", \"train_wall\": \"269\"}\n",
            "2023-09-04 04:30:52 | INFO | fairseq.tasks.fairseq_task | can_reuse_epoch_itr = True\n",
            "2023-09-04 04:30:52 | INFO | fairseq.data.iterators | grouped total_num_itrs = 218\n",
            "2023-09-04 04:30:52 | INFO | fairseq.trainer | begin training epoch 261\n",
            "2023-09-04 04:30:52 | INFO | fairseq_cli.train | Start iterating over samples\n",
            "2023-09-04 04:30:53 | INFO | train_inner | {\"epoch\": 261, \"update\": 260.046, \"loss\": \"2.188\", \"nll_loss\": \"0.34\", \"ppl\": \"1.27\", \"wps\": \"9183.4\", \"ups\": \"2.77\", \"wpb\": \"3314.5\", \"bsz\": \"111.2\", \"num_updates\": \"56690\", \"lr\": \"0.000132815\", \"gnorm\": \"0.577\", \"train_wall\": \"1\", \"gb_free\": \"13.5\", \"wall\": \"270\"}\n",
            "2023-09-04 04:30:55 | INFO | train_inner | {\"epoch\": 261, \"update\": 260.092, \"loss\": \"2.338\", \"nll_loss\": \"0.508\", \"ppl\": \"1.42\", \"wps\": \"24538.1\", \"ups\": \"7.37\", \"wpb\": \"3330.2\", \"bsz\": \"109.6\", \"num_updates\": \"56700\", \"lr\": \"0.000132803\", \"gnorm\": \"0.683\", \"train_wall\": \"1\", \"gb_free\": \"13.3\", \"wall\": \"272\"}\n",
            "2023-09-04 04:30:56 | INFO | train_inner | {\"epoch\": 261, \"update\": 260.138, \"loss\": \"2.133\", \"nll_loss\": \"0.294\", \"ppl\": \"1.23\", \"wps\": \"22591.3\", \"ups\": \"7.6\", \"wpb\": \"2972.9\", \"bsz\": \"137.6\", \"num_updates\": \"56710\", \"lr\": \"0.000132791\", \"gnorm\": \"0.527\", \"train_wall\": \"1\", \"gb_free\": \"13.3\", \"wall\": \"273\"}\n",
            "2023-09-04 04:30:57 | INFO | train_inner | {\"epoch\": 261, \"update\": 260.183, \"loss\": \"2.246\", \"nll_loss\": \"0.401\", \"ppl\": \"1.32\", \"wps\": \"25802.2\", \"ups\": \"7.4\", \"wpb\": \"3487.1\", \"bsz\": \"136\", \"num_updates\": \"56720\", \"lr\": \"0.00013278\", \"gnorm\": \"0.573\", \"train_wall\": \"1\", \"gb_free\": \"13.3\", \"wall\": \"274\"}\n",
            "2023-09-04 04:30:59 | INFO | train_inner | {\"epoch\": 261, \"update\": 260.229, \"loss\": \"2.175\", \"nll_loss\": \"0.342\", \"ppl\": \"1.27\", \"wps\": \"23447.1\", \"ups\": \"6.89\", \"wpb\": \"3404.3\", \"bsz\": \"127.2\", \"num_updates\": \"56730\", \"lr\": \"0.000132768\", \"gnorm\": \"0.604\", \"train_wall\": \"1\", \"gb_free\": \"13.2\", \"wall\": \"276\"}\n",
            "2023-09-04 04:31:00 | INFO | train_inner | {\"epoch\": 261, \"update\": 260.275, \"loss\": \"2.664\", \"nll_loss\": \"0.885\", \"ppl\": \"1.85\", \"wps\": \"25105\", \"ups\": \"7.03\", \"wpb\": \"3571.9\", \"bsz\": \"140\", \"num_updates\": \"56740\", \"lr\": \"0.000132756\", \"gnorm\": \"0.764\", \"train_wall\": \"1\", \"gb_free\": \"13.3\", \"wall\": \"277\"}\n",
            "2023-09-04 04:31:02 | INFO | train_inner | {\"epoch\": 261, \"update\": 260.321, \"loss\": \"2.39\", \"nll_loss\": \"0.557\", \"ppl\": \"1.47\", \"wps\": \"21808.5\", \"ups\": \"6.93\", \"wpb\": \"3149.2\", \"bsz\": \"117.6\", \"num_updates\": \"56750\", \"lr\": \"0.000132745\", \"gnorm\": \"0.746\", \"train_wall\": \"1\", \"gb_free\": \"13.5\", \"wall\": \"279\"}\n",
            "2023-09-04 04:31:03 | INFO | train_inner | {\"epoch\": 261, \"update\": 260.367, \"loss\": \"2.22\", \"nll_loss\": \"0.393\", \"ppl\": \"1.31\", \"wps\": \"21093\", \"ups\": \"6.61\", \"wpb\": \"3188.9\", \"bsz\": \"167.2\", \"num_updates\": \"56760\", \"lr\": \"0.000132733\", \"gnorm\": \"0.734\", \"train_wall\": \"1\", \"gb_free\": \"13.3\", \"wall\": \"280\"}\n",
            "2023-09-04 04:31:05 | INFO | train_inner | {\"epoch\": 261, \"update\": 260.413, \"loss\": \"2.255\", \"nll_loss\": \"0.41\", \"ppl\": \"1.33\", \"wps\": \"22060\", \"ups\": \"6.32\", \"wpb\": \"3488.9\", \"bsz\": \"135.2\", \"num_updates\": \"56770\", \"lr\": \"0.000132721\", \"gnorm\": \"0.664\", \"train_wall\": \"2\", \"gb_free\": \"13.5\", \"wall\": \"282\"}\n",
            "2023-09-04 04:31:06 | INFO | train_inner | {\"epoch\": 261, \"update\": 260.459, \"loss\": \"2.4\", \"nll_loss\": \"0.571\", \"ppl\": \"1.49\", \"wps\": \"22644.8\", \"ups\": \"6.66\", \"wpb\": \"3399.5\", \"bsz\": \"135.2\", \"num_updates\": \"56780\", \"lr\": \"0.00013271\", \"gnorm\": \"0.762\", \"train_wall\": \"1\", \"gb_free\": \"13.3\", \"wall\": \"283\"}\n",
            "2023-09-04 04:31:08 | INFO | train_inner | {\"epoch\": 261, \"update\": 260.505, \"loss\": \"2.292\", \"nll_loss\": \"0.427\", \"ppl\": \"1.34\", \"wps\": \"23271\", \"ups\": \"6.75\", \"wpb\": \"3450\", \"bsz\": \"132\", \"num_updates\": \"56790\", \"lr\": \"0.000132698\", \"gnorm\": \"0.657\", \"train_wall\": \"1\", \"gb_free\": \"13.4\", \"wall\": \"285\"}\n",
            "2023-09-04 04:31:09 | INFO | train_inner | {\"epoch\": 261, \"update\": 260.55, \"loss\": \"2.22\", \"nll_loss\": \"0.377\", \"ppl\": \"1.3\", \"wps\": \"20936.6\", \"ups\": \"6.55\", \"wpb\": \"3194.1\", \"bsz\": \"95.2\", \"num_updates\": \"56800\", \"lr\": \"0.000132686\", \"gnorm\": \"0.604\", \"train_wall\": \"1\", \"gb_free\": \"13.3\", \"wall\": \"286\"}\n",
            "2023-09-04 04:31:11 | INFO | train_inner | {\"epoch\": 261, \"update\": 260.596, \"loss\": \"2.195\", \"nll_loss\": \"0.345\", \"ppl\": \"1.27\", \"wps\": \"22335.1\", \"ups\": \"7.72\", \"wpb\": \"2894.4\", \"bsz\": \"90.4\", \"num_updates\": \"56810\", \"lr\": \"0.000132675\", \"gnorm\": \"0.578\", \"train_wall\": \"1\", \"gb_free\": \"13.4\", \"wall\": \"288\"}\n",
            "2023-09-04 04:31:12 | INFO | train_inner | {\"epoch\": 261, \"update\": 260.642, \"loss\": \"2.282\", \"nll_loss\": \"0.445\", \"ppl\": \"1.36\", \"wps\": \"23430.3\", \"ups\": \"7.64\", \"wpb\": \"3066.8\", \"bsz\": \"114.4\", \"num_updates\": \"56820\", \"lr\": \"0.000132663\", \"gnorm\": \"0.628\", \"train_wall\": \"1\", \"gb_free\": \"13.5\", \"wall\": \"289\"}\n",
            "2023-09-04 04:31:13 | INFO | train_inner | {\"epoch\": 261, \"update\": 260.688, \"loss\": \"2.248\", \"nll_loss\": \"0.42\", \"ppl\": \"1.34\", \"wps\": \"22884.8\", \"ups\": \"7.61\", \"wpb\": \"3007.1\", \"bsz\": \"139.2\", \"num_updates\": \"56830\", \"lr\": \"0.000132651\", \"gnorm\": \"0.697\", \"train_wall\": \"1\", \"gb_free\": \"13.4\", \"wall\": \"290\"}\n",
            "2023-09-04 04:31:15 | INFO | train_inner | {\"epoch\": 261, \"update\": 260.734, \"loss\": \"2.242\", \"nll_loss\": \"0.402\", \"ppl\": \"1.32\", \"wps\": \"26276.1\", \"ups\": \"7.29\", \"wpb\": \"3606.2\", \"bsz\": \"143.2\", \"num_updates\": \"56840\", \"lr\": \"0.00013264\", \"gnorm\": \"0.673\", \"train_wall\": \"1\", \"gb_free\": \"13.3\", \"wall\": \"292\"}\n",
            "2023-09-04 04:31:16 | INFO | train_inner | {\"epoch\": 261, \"update\": 260.78, \"loss\": \"2.256\", \"nll_loss\": \"0.409\", \"ppl\": \"1.33\", \"wps\": \"26947.1\", \"ups\": \"7.28\", \"wpb\": \"3702.1\", \"bsz\": \"124.8\", \"num_updates\": \"56850\", \"lr\": \"0.000132628\", \"gnorm\": \"0.601\", \"train_wall\": \"1\", \"gb_free\": \"13.2\", \"wall\": \"293\"}\n",
            "2023-09-04 04:31:17 | INFO | train_inner | {\"epoch\": 261, \"update\": 260.826, \"loss\": \"2.149\", \"nll_loss\": \"0.313\", \"ppl\": \"1.24\", \"wps\": \"22523.6\", \"ups\": \"8.02\", \"wpb\": \"2808.4\", \"bsz\": \"116.8\", \"num_updates\": \"56860\", \"lr\": \"0.000132616\", \"gnorm\": \"0.602\", \"train_wall\": \"1\", \"gb_free\": \"13.3\", \"wall\": \"294\"}\n",
            "2023-09-04 04:31:18 | INFO | train_inner | {\"epoch\": 261, \"update\": 260.872, \"loss\": \"2.266\", \"nll_loss\": \"0.416\", \"ppl\": \"1.33\", \"wps\": \"23422\", \"ups\": \"8.02\", \"wpb\": \"2918.8\", \"bsz\": \"97.6\", \"num_updates\": \"56870\", \"lr\": \"0.000132605\", \"gnorm\": \"0.689\", \"train_wall\": \"1\", \"gb_free\": \"13.4\", \"wall\": \"295\"}\n",
            "2023-09-04 04:31:20 | INFO | train_inner | {\"epoch\": 261, \"update\": 260.917, \"loss\": \"2.278\", \"nll_loss\": \"0.426\", \"ppl\": \"1.34\", \"wps\": \"22453.1\", \"ups\": \"6.97\", \"wpb\": \"3221.4\", \"bsz\": \"140.8\", \"num_updates\": \"56880\", \"lr\": \"0.000132593\", \"gnorm\": \"0.625\", \"train_wall\": \"1\", \"gb_free\": \"13.4\", \"wall\": \"297\"}\n",
            "2023-09-04 04:31:21 | INFO | train_inner | {\"epoch\": 261, \"update\": 260.963, \"loss\": \"2.219\", \"nll_loss\": \"0.388\", \"ppl\": \"1.31\", \"wps\": \"24103.2\", \"ups\": \"6.83\", \"wpb\": \"3527.7\", \"bsz\": \"127.2\", \"num_updates\": \"56890\", \"lr\": \"0.000132581\", \"gnorm\": \"0.662\", \"train_wall\": \"1\", \"gb_free\": \"13.2\", \"wall\": \"298\"}\n",
            "2023-09-04 04:31:23 | INFO | fairseq_cli.train | begin validation on \"valid\" subset\n",
            "2023-09-04 04:31:23 | INFO | fairseq.tasks.fairseq_task | can_reuse_epoch_itr = True\n",
            "2023-09-04 04:31:24 | INFO | valid | {\"epoch\": 261, \"valid_loss\": \"8.577\", \"valid_nll_loss\": \"7.602\", \"valid_ppl\": \"194.27\", \"valid_wps\": \"48488.8\", \"valid_wpb\": \"2371\", \"valid_bsz\": \"90.9\", \"valid_num_updates\": \"56898\", \"valid_best_loss\": \"7.308\"}\n",
            "2023-09-04 04:31:24 | INFO | fairseq.checkpoint_utils | Preparing to save checkpoint for epoch 261 @ 56898 updates\n",
            "2023-09-04 04:31:24 | INFO | fairseq.trainer | Saving checkpoint to /content/drive/MyDrive/ironside_nmt/checkpoints/checkpoint_last.pt\n",
            "2023-09-04 04:31:25 | INFO | fairseq.trainer | Finished saving checkpoint to /content/drive/MyDrive/ironside_nmt/checkpoints/checkpoint_last.pt\n",
            "2023-09-04 04:31:25 | INFO | fairseq.checkpoint_utils | Saved checkpoint /content/drive/MyDrive/ironside_nmt/checkpoints/checkpoint_last.pt (epoch 261 @ 56898 updates, score 8.577) (writing took 1.1548670370011678 seconds)\n",
            "2023-09-04 04:31:25 | INFO | fairseq_cli.train | end of epoch 261 (average epoch stats below)\n",
            "2023-09-04 04:31:25 | INFO | train | {\"epoch\": 261, \"train_loss\": \"2.275\", \"train_nll_loss\": \"0.437\", \"train_ppl\": \"1.35\", \"train_wps\": \"21646.6\", \"train_ups\": \"6.6\", \"train_wpb\": \"3282.2\", \"train_bsz\": \"126.3\", \"train_num_updates\": \"56898\", \"train_lr\": \"0.000132572\", \"train_gnorm\": \"0.651\", \"train_train_wall\": \"30\", \"train_gb_free\": \"13.6\", \"train_wall\": \"302\"}\n",
            "2023-09-04 04:31:25 | INFO | fairseq.tasks.fairseq_task | can_reuse_epoch_itr = True\n",
            "2023-09-04 04:31:25 | INFO | fairseq.data.iterators | grouped total_num_itrs = 218\n",
            "2023-09-04 04:31:25 | INFO | fairseq.trainer | begin training epoch 262\n",
            "2023-09-04 04:31:25 | INFO | fairseq_cli.train | Start iterating over samples\n",
            "2023-09-04 04:31:25 | INFO | train_inner | {\"epoch\": 262, \"update\": 261.009, \"loss\": \"2.291\", \"nll_loss\": \"0.451\", \"ppl\": \"1.37\", \"wps\": \"8831.7\", \"ups\": \"2.47\", \"wpb\": \"3577\", \"bsz\": \"132\", \"num_updates\": \"56900\", \"lr\": \"0.00013257\", \"gnorm\": \"0.64\", \"train_wall\": \"2\", \"gb_free\": \"13.3\", \"wall\": \"302\"}\n",
            "2023-09-04 04:31:27 | INFO | train_inner | {\"epoch\": 262, \"update\": 261.055, \"loss\": \"2.222\", \"nll_loss\": \"0.371\", \"ppl\": \"1.29\", \"wps\": \"21576.8\", \"ups\": \"5.94\", \"wpb\": \"3631.4\", \"bsz\": \"124.8\", \"num_updates\": \"56910\", \"lr\": \"0.000132558\", \"gnorm\": \"0.556\", \"train_wall\": \"2\", \"gb_free\": \"13.2\", \"wall\": \"304\"}\n",
            "2023-09-04 04:31:28 | INFO | train_inner | {\"epoch\": 262, \"update\": 261.101, \"loss\": \"2.222\", \"nll_loss\": \"0.385\", \"ppl\": \"1.31\", \"wps\": \"25812.8\", \"ups\": \"7.29\", \"wpb\": \"3540.8\", \"bsz\": \"121.6\", \"num_updates\": \"56920\", \"lr\": \"0.000132546\", \"gnorm\": \"0.605\", \"train_wall\": \"1\", \"gb_free\": \"13.4\", \"wall\": \"305\"}\n",
            "2023-09-04 04:31:30 | INFO | train_inner | {\"epoch\": 262, \"update\": 261.147, \"loss\": \"2.157\", \"nll_loss\": \"0.314\", \"ppl\": \"1.24\", \"wps\": \"25679.5\", \"ups\": \"7.43\", \"wpb\": \"3458\", \"bsz\": \"124.8\", \"num_updates\": \"56930\", \"lr\": \"0.000132535\", \"gnorm\": \"0.514\", \"train_wall\": \"1\", \"gb_free\": \"13.2\", \"wall\": \"307\"}\n",
            "2023-09-04 04:31:31 | INFO | train_inner | {\"epoch\": 262, \"update\": 261.193, \"loss\": \"2.159\", \"nll_loss\": \"0.323\", \"ppl\": \"1.25\", \"wps\": \"24486.6\", \"ups\": \"7.63\", \"wpb\": \"3211.3\", \"bsz\": \"125.6\", \"num_updates\": \"56940\", \"lr\": \"0.000132523\", \"gnorm\": \"0.574\", \"train_wall\": \"1\", \"gb_free\": \"13.3\", \"wall\": \"308\"}\n",
            "2023-09-04 04:31:33 | INFO | train_inner | {\"epoch\": 262, \"update\": 261.239, \"loss\": \"2.205\", \"nll_loss\": \"0.365\", \"ppl\": \"1.29\", \"wps\": \"24159\", \"ups\": \"7.14\", \"wpb\": \"3384.1\", \"bsz\": \"105.6\", \"num_updates\": \"56950\", \"lr\": \"0.000132511\", \"gnorm\": \"0.562\", \"train_wall\": \"1\", \"gb_free\": \"13.2\", \"wall\": \"310\"}\n",
            "2023-09-04 04:31:34 | INFO | train_inner | {\"epoch\": 262, \"update\": 261.284, \"loss\": \"2.151\", \"nll_loss\": \"0.319\", \"ppl\": \"1.25\", \"wps\": \"18327.9\", \"ups\": \"5.97\", \"wpb\": \"3070.4\", \"bsz\": \"137.6\", \"num_updates\": \"56960\", \"lr\": \"0.0001325\", \"gnorm\": \"0.568\", \"train_wall\": \"2\", \"gb_free\": \"13.2\", \"wall\": \"311\"}\n",
            "2023-09-04 04:31:36 | INFO | train_inner | {\"epoch\": 262, \"update\": 261.33, \"loss\": \"2.29\", \"nll_loss\": \"0.445\", \"ppl\": \"1.36\", \"wps\": \"25136.8\", \"ups\": \"7.28\", \"wpb\": \"3453.6\", \"bsz\": \"148.8\", \"num_updates\": \"56970\", \"lr\": \"0.000132488\", \"gnorm\": \"0.649\", \"train_wall\": \"1\", \"gb_free\": \"13.2\", \"wall\": \"313\"}\n",
            "2023-09-04 04:31:37 | INFO | train_inner | {\"epoch\": 262, \"update\": 261.376, \"loss\": \"2.258\", \"nll_loss\": \"0.423\", \"ppl\": \"1.34\", \"wps\": \"26283.1\", \"ups\": \"8.25\", \"wpb\": \"3183.9\", \"bsz\": \"126.4\", \"num_updates\": \"56980\", \"lr\": \"0.000132476\", \"gnorm\": \"0.653\", \"train_wall\": \"1\", \"gb_free\": \"13.4\", \"wall\": \"314\"}\n",
            "2023-09-04 04:31:38 | INFO | train_inner | {\"epoch\": 262, \"update\": 261.422, \"loss\": \"2.177\", \"nll_loss\": \"0.334\", \"ppl\": \"1.26\", \"wps\": \"20697.8\", \"ups\": \"6.9\", \"wpb\": \"3001.7\", \"bsz\": \"90.4\", \"num_updates\": \"56990\", \"lr\": \"0.000132465\", \"gnorm\": \"0.58\", \"train_wall\": \"1\", \"gb_free\": \"13.3\", \"wall\": \"315\"}\n",
            "2023-09-04 04:31:40 | INFO | train_inner | {\"epoch\": 262, \"update\": 261.468, \"loss\": \"2.241\", \"nll_loss\": \"0.393\", \"ppl\": \"1.31\", \"wps\": \"22508.6\", \"ups\": \"6.47\", \"wpb\": \"3476.4\", \"bsz\": \"143.2\", \"num_updates\": \"57000\", \"lr\": \"0.000132453\", \"gnorm\": \"0.599\", \"train_wall\": \"1\", \"gb_free\": \"13.4\", \"wall\": \"317\"}\n",
            "2023-09-04 04:31:41 | INFO | train_inner | {\"epoch\": 262, \"update\": 261.514, \"loss\": \"2.285\", \"nll_loss\": \"0.452\", \"ppl\": \"1.37\", \"wps\": \"21222.5\", \"ups\": \"6.65\", \"wpb\": \"3191.2\", \"bsz\": \"134.4\", \"num_updates\": \"57010\", \"lr\": \"0.000132442\", \"gnorm\": \"0.687\", \"train_wall\": \"1\", \"gb_free\": \"13.3\", \"wall\": \"318\"}\n",
            "2023-09-04 04:31:43 | INFO | train_inner | {\"epoch\": 262, \"update\": 261.56, \"loss\": \"2.213\", \"nll_loss\": \"0.376\", \"ppl\": \"1.3\", \"wps\": \"22835.1\", \"ups\": \"6.71\", \"wpb\": \"3402.7\", \"bsz\": \"165.6\", \"num_updates\": \"57020\", \"lr\": \"0.00013243\", \"gnorm\": \"0.599\", \"train_wall\": \"1\", \"gb_free\": \"13.2\", \"wall\": \"320\"}\n",
            "2023-09-04 04:31:44 | INFO | train_inner | {\"epoch\": 262, \"update\": 261.606, \"loss\": \"2.234\", \"nll_loss\": \"0.39\", \"ppl\": \"1.31\", \"wps\": \"22030.3\", \"ups\": \"6.4\", \"wpb\": \"3441.5\", \"bsz\": \"118.4\", \"num_updates\": \"57030\", \"lr\": \"0.000132418\", \"gnorm\": \"0.626\", \"train_wall\": \"1\", \"gb_free\": \"13.4\", \"wall\": \"321\"}\n",
            "2023-09-04 04:31:46 | INFO | train_inner | {\"epoch\": 262, \"update\": 261.651, \"loss\": \"2.227\", \"nll_loss\": \"0.374\", \"ppl\": \"1.3\", \"wps\": \"20634.5\", \"ups\": \"6.97\", \"wpb\": \"2960.1\", \"bsz\": \"97.6\", \"num_updates\": \"57040\", \"lr\": \"0.000132407\", \"gnorm\": \"0.645\", \"train_wall\": \"1\", \"gb_free\": \"13.2\", \"wall\": \"323\"}\n",
            "2023-09-04 04:31:47 | INFO | train_inner | {\"epoch\": 262, \"update\": 261.697, \"loss\": \"2.164\", \"nll_loss\": \"0.334\", \"ppl\": \"1.26\", \"wps\": \"25330.6\", \"ups\": \"7.79\", \"wpb\": \"3253.1\", \"bsz\": \"135.2\", \"num_updates\": \"57050\", \"lr\": \"0.000132395\", \"gnorm\": \"0.552\", \"train_wall\": \"1\", \"gb_free\": \"13.3\", \"wall\": \"324\"}\n",
            "2023-09-04 04:31:48 | INFO | train_inner | {\"epoch\": 262, \"update\": 261.743, \"loss\": \"2.267\", \"nll_loss\": \"0.436\", \"ppl\": \"1.35\", \"wps\": \"26956.5\", \"ups\": \"7.43\", \"wpb\": \"3628.7\", \"bsz\": \"139.2\", \"num_updates\": \"57060\", \"lr\": \"0.000132384\", \"gnorm\": \"0.632\", \"train_wall\": \"1\", \"gb_free\": \"13.3\", \"wall\": \"326\"}\n",
            "2023-09-04 04:31:50 | INFO | train_inner | {\"epoch\": 262, \"update\": 261.789, \"loss\": \"2.227\", \"nll_loss\": \"0.372\", \"ppl\": \"1.29\", \"wps\": \"24309.2\", \"ups\": \"7.55\", \"wpb\": \"3220.1\", \"bsz\": \"127.2\", \"num_updates\": \"57070\", \"lr\": \"0.000132372\", \"gnorm\": \"0.596\", \"train_wall\": \"1\", \"gb_free\": \"13.4\", \"wall\": \"327\"}\n",
            "2023-09-04 04:31:51 | INFO | train_inner | {\"epoch\": 262, \"update\": 261.835, \"loss\": \"2.197\", \"nll_loss\": \"0.354\", \"ppl\": \"1.28\", \"wps\": \"19621.8\", \"ups\": \"7.85\", \"wpb\": \"2499.5\", \"bsz\": \"83.2\", \"num_updates\": \"57080\", \"lr\": \"0.00013236\", \"gnorm\": \"0.559\", \"train_wall\": \"1\", \"gb_free\": \"13.1\", \"wall\": \"328\"}\n",
            "2023-09-04 04:31:52 | INFO | train_inner | {\"epoch\": 262, \"update\": 261.881, \"loss\": \"2.244\", \"nll_loss\": \"0.422\", \"ppl\": \"1.34\", \"wps\": \"25735.1\", \"ups\": \"7.63\", \"wpb\": \"3373.5\", \"bsz\": \"132.8\", \"num_updates\": \"57090\", \"lr\": \"0.000132349\", \"gnorm\": \"0.641\", \"train_wall\": \"1\", \"gb_free\": \"13.1\", \"wall\": \"329\"}\n",
            "2023-09-04 04:31:54 | INFO | train_inner | {\"epoch\": 262, \"update\": 261.927, \"loss\": \"2.264\", \"nll_loss\": \"0.424\", \"ppl\": \"1.34\", \"wps\": \"23779.4\", \"ups\": \"7.49\", \"wpb\": \"3173.1\", \"bsz\": \"174.4\", \"num_updates\": \"57100\", \"lr\": \"0.000132337\", \"gnorm\": \"0.664\", \"train_wall\": \"1\", \"gb_free\": \"13.3\", \"wall\": \"331\"}\n",
            "2023-09-04 04:31:55 | INFO | train_inner | {\"epoch\": 262, \"update\": 261.972, \"loss\": \"2.367\", \"nll_loss\": \"0.532\", \"ppl\": \"1.45\", \"wps\": \"24768\", \"ups\": \"8.1\", \"wpb\": \"3056.6\", \"bsz\": \"103.2\", \"num_updates\": \"57110\", \"lr\": \"0.000132326\", \"gnorm\": \"0.746\", \"train_wall\": \"1\", \"gb_free\": \"13.3\", \"wall\": \"332\"}\n",
            "2023-09-04 04:31:56 | INFO | fairseq_cli.train | begin validation on \"valid\" subset\n",
            "2023-09-04 04:31:56 | INFO | fairseq.tasks.fairseq_task | can_reuse_epoch_itr = True\n",
            "2023-09-04 04:31:57 | INFO | valid | {\"epoch\": 262, \"valid_loss\": \"8.492\", \"valid_nll_loss\": \"7.521\", \"valid_ppl\": \"183.7\", \"valid_wps\": \"50195.2\", \"valid_wpb\": \"2371\", \"valid_bsz\": \"90.9\", \"valid_num_updates\": \"57116\", \"valid_best_loss\": \"7.308\"}\n",
            "2023-09-04 04:31:57 | INFO | fairseq.checkpoint_utils | Preparing to save checkpoint for epoch 262 @ 57116 updates\n",
            "2023-09-04 04:31:57 | INFO | fairseq.trainer | Saving checkpoint to /content/drive/MyDrive/ironside_nmt/checkpoints/checkpoint_last.pt\n",
            "2023-09-04 04:31:58 | INFO | fairseq.trainer | Finished saving checkpoint to /content/drive/MyDrive/ironside_nmt/checkpoints/checkpoint_last.pt\n",
            "2023-09-04 04:31:58 | INFO | fairseq.checkpoint_utils | Saved checkpoint /content/drive/MyDrive/ironside_nmt/checkpoints/checkpoint_last.pt (epoch 262 @ 57116 updates, score 8.492) (writing took 1.2475457290001941 seconds)\n",
            "2023-09-04 04:31:58 | INFO | fairseq_cli.train | end of epoch 262 (average epoch stats below)\n",
            "2023-09-04 04:31:58 | INFO | train | {\"epoch\": 262, \"train_loss\": \"2.226\", \"train_nll_loss\": \"0.386\", \"train_ppl\": \"1.31\", \"train_wps\": \"21490.5\", \"train_ups\": \"6.55\", \"train_wpb\": \"3282.2\", \"train_bsz\": \"126.3\", \"train_num_updates\": \"57116\", \"train_lr\": \"0.000132319\", \"train_gnorm\": \"0.609\", \"train_train_wall\": \"30\", \"train_gb_free\": \"13.3\", \"train_wall\": \"335\"}\n",
            "2023-09-04 04:31:58 | INFO | fairseq.tasks.fairseq_task | can_reuse_epoch_itr = True\n",
            "2023-09-04 04:31:58 | INFO | fairseq.data.iterators | grouped total_num_itrs = 218\n",
            "2023-09-04 04:31:58 | INFO | fairseq.trainer | begin training epoch 263\n",
            "2023-09-04 04:31:58 | INFO | fairseq_cli.train | Start iterating over samples\n",
            "2023-09-04 04:31:59 | INFO | train_inner | {\"epoch\": 263, \"update\": 262.018, \"loss\": \"2.209\", \"nll_loss\": \"0.362\", \"ppl\": \"1.29\", \"wps\": \"8336\", \"ups\": \"2.47\", \"wpb\": \"3374\", \"bsz\": \"123.2\", \"num_updates\": \"57120\", \"lr\": \"0.000132314\", \"gnorm\": \"0.599\", \"train_wall\": \"1\", \"gb_free\": \"13.3\", \"wall\": \"336\"}\n",
            "2023-09-04 04:32:00 | INFO | train_inner | {\"epoch\": 263, \"update\": 262.064, \"loss\": \"2.198\", \"nll_loss\": \"0.361\", \"ppl\": \"1.28\", \"wps\": \"20768.5\", \"ups\": \"6.85\", \"wpb\": \"3032.9\", \"bsz\": \"133.6\", \"num_updates\": \"57130\", \"lr\": \"0.000132302\", \"gnorm\": \"0.638\", \"train_wall\": \"1\", \"gb_free\": \"13.7\", \"wall\": \"338\"}\n",
            "2023-09-04 04:32:02 | INFO | train_inner | {\"epoch\": 263, \"update\": 262.11, \"loss\": \"2.192\", \"nll_loss\": \"0.338\", \"ppl\": \"1.26\", \"wps\": \"19083.9\", \"ups\": \"6.17\", \"wpb\": \"3093.7\", \"bsz\": \"133.6\", \"num_updates\": \"57140\", \"lr\": \"0.000132291\", \"gnorm\": \"0.534\", \"train_wall\": \"2\", \"gb_free\": \"13.2\", \"wall\": \"339\"}\n",
            "2023-09-04 04:32:04 | INFO | train_inner | {\"epoch\": 263, \"update\": 262.156, \"loss\": \"2.173\", \"nll_loss\": \"0.341\", \"ppl\": \"1.27\", \"wps\": \"22553\", \"ups\": \"6.89\", \"wpb\": \"3272.9\", \"bsz\": \"145.6\", \"num_updates\": \"57150\", \"lr\": \"0.000132279\", \"gnorm\": \"0.58\", \"train_wall\": \"1\", \"gb_free\": \"13.4\", \"wall\": \"341\"}\n",
            "2023-09-04 04:32:05 | INFO | train_inner | {\"epoch\": 263, \"update\": 262.202, \"loss\": \"2.231\", \"nll_loss\": \"0.399\", \"ppl\": \"1.32\", \"wps\": \"25751.3\", \"ups\": \"7.66\", \"wpb\": \"3360.7\", \"bsz\": \"137.6\", \"num_updates\": \"57160\", \"lr\": \"0.000132268\", \"gnorm\": \"0.584\", \"train_wall\": \"1\", \"gb_free\": \"13.2\", \"wall\": \"342\"}\n",
            "2023-09-04 04:32:06 | INFO | train_inner | {\"epoch\": 263, \"update\": 262.248, \"loss\": \"2.268\", \"nll_loss\": \"0.429\", \"ppl\": \"1.35\", \"wps\": \"24262.4\", \"ups\": \"7.5\", \"wpb\": \"3235.2\", \"bsz\": \"104.8\", \"num_updates\": \"57170\", \"lr\": \"0.000132256\", \"gnorm\": \"0.673\", \"train_wall\": \"1\", \"gb_free\": \"13.3\", \"wall\": \"343\"}\n",
            "2023-09-04 04:32:08 | INFO | train_inner | {\"epoch\": 263, \"update\": 262.294, \"loss\": \"2.197\", \"nll_loss\": \"0.358\", \"ppl\": \"1.28\", \"wps\": \"25265.3\", \"ups\": \"7.35\", \"wpb\": \"3437.2\", \"bsz\": \"143.2\", \"num_updates\": \"57180\", \"lr\": \"0.000132245\", \"gnorm\": \"0.587\", \"train_wall\": \"1\", \"gb_free\": \"13.1\", \"wall\": \"345\"}\n",
            "2023-09-04 04:32:09 | INFO | train_inner | {\"epoch\": 263, \"update\": 262.339, \"loss\": \"2.31\", \"nll_loss\": \"0.455\", \"ppl\": \"1.37\", \"wps\": \"22914.8\", \"ups\": \"6.81\", \"wpb\": \"3364.2\", \"bsz\": \"104\", \"num_updates\": \"57190\", \"lr\": \"0.000132233\", \"gnorm\": \"0.699\", \"train_wall\": \"1\", \"gb_free\": \"13.2\", \"wall\": \"346\"}\n",
            "2023-09-04 04:32:11 | INFO | train_inner | {\"epoch\": 263, \"update\": 262.385, \"loss\": \"2.332\", \"nll_loss\": \"0.494\", \"ppl\": \"1.41\", \"wps\": \"21937.3\", \"ups\": \"6.91\", \"wpb\": \"3175.1\", \"bsz\": \"102.4\", \"num_updates\": \"57200\", \"lr\": \"0.000132221\", \"gnorm\": \"0.666\", \"train_wall\": \"1\", \"gb_free\": \"13.3\", \"wall\": \"348\"}\n",
            "2023-09-04 04:32:12 | INFO | train_inner | {\"epoch\": 263, \"update\": 262.431, \"loss\": \"2.265\", \"nll_loss\": \"0.424\", \"ppl\": \"1.34\", \"wps\": \"23173.4\", \"ups\": \"7.78\", \"wpb\": \"2977.2\", \"bsz\": \"91.2\", \"num_updates\": \"57210\", \"lr\": \"0.00013221\", \"gnorm\": \"0.644\", \"train_wall\": \"1\", \"gb_free\": \"13.3\", \"wall\": \"349\"}\n",
            "2023-09-04 04:32:13 | INFO | train_inner | {\"epoch\": 263, \"update\": 262.477, \"loss\": \"2.218\", \"nll_loss\": \"0.374\", \"ppl\": \"1.3\", \"wps\": \"27585.1\", \"ups\": \"7.5\", \"wpb\": \"3677.2\", \"bsz\": \"139.2\", \"num_updates\": \"57220\", \"lr\": \"0.000132198\", \"gnorm\": \"0.571\", \"train_wall\": \"1\", \"gb_free\": \"13.2\", \"wall\": \"350\"}\n",
            "2023-09-04 04:32:15 | INFO | train_inner | {\"epoch\": 263, \"update\": 262.523, \"loss\": \"2.207\", \"nll_loss\": \"0.37\", \"ppl\": \"1.29\", \"wps\": \"22009.3\", \"ups\": \"6.54\", \"wpb\": \"3366.2\", \"bsz\": \"120\", \"num_updates\": \"57230\", \"lr\": \"0.000132187\", \"gnorm\": \"0.639\", \"train_wall\": \"1\", \"gb_free\": \"13.3\", \"wall\": \"352\"}\n",
            "2023-09-04 04:32:16 | INFO | train_inner | {\"epoch\": 263, \"update\": 262.569, \"loss\": \"2.315\", \"nll_loss\": \"0.487\", \"ppl\": \"1.4\", \"wps\": \"21144\", \"ups\": \"6.16\", \"wpb\": \"3430.6\", \"bsz\": \"133.6\", \"num_updates\": \"57240\", \"lr\": \"0.000132175\", \"gnorm\": \"0.637\", \"train_wall\": \"1\", \"gb_free\": \"13.4\", \"wall\": \"353\"}\n",
            "2023-09-04 04:32:18 | INFO | train_inner | {\"epoch\": 263, \"update\": 262.615, \"loss\": \"2.216\", \"nll_loss\": \"0.369\", \"ppl\": \"1.29\", \"wps\": \"21091.3\", \"ups\": \"6.33\", \"wpb\": \"3331.7\", \"bsz\": \"140\", \"num_updates\": \"57250\", \"lr\": \"0.000132164\", \"gnorm\": \"0.617\", \"train_wall\": \"1\", \"gb_free\": \"13.3\", \"wall\": \"355\"}\n",
            "2023-09-04 04:32:19 | INFO | train_inner | {\"epoch\": 263, \"update\": 262.661, \"loss\": \"2.185\", \"nll_loss\": \"0.334\", \"ppl\": \"1.26\", \"wps\": \"21650.5\", \"ups\": \"6.5\", \"wpb\": \"3329.7\", \"bsz\": \"111.2\", \"num_updates\": \"57260\", \"lr\": \"0.000132152\", \"gnorm\": \"0.562\", \"train_wall\": \"1\", \"gb_free\": \"13.2\", \"wall\": \"356\"}\n",
            "2023-09-04 04:32:21 | INFO | train_inner | {\"epoch\": 263, \"update\": 262.706, \"loss\": \"2.174\", \"nll_loss\": \"0.338\", \"ppl\": \"1.26\", \"wps\": \"19901.7\", \"ups\": \"6.08\", \"wpb\": \"3274.9\", \"bsz\": \"127.2\", \"num_updates\": \"57270\", \"lr\": \"0.000132141\", \"gnorm\": \"0.592\", \"train_wall\": \"2\", \"gb_free\": \"13.4\", \"wall\": \"358\"}\n",
            "2023-09-04 04:32:23 | INFO | train_inner | {\"epoch\": 263, \"update\": 262.752, \"loss\": \"2.192\", \"nll_loss\": \"0.348\", \"ppl\": \"1.27\", \"wps\": \"20431.1\", \"ups\": \"6.92\", \"wpb\": \"2950.4\", \"bsz\": \"124\", \"num_updates\": \"57280\", \"lr\": \"0.000132129\", \"gnorm\": \"0.582\", \"train_wall\": \"1\", \"gb_free\": \"13.4\", \"wall\": \"360\"}\n",
            "2023-09-04 04:32:24 | INFO | train_inner | {\"epoch\": 263, \"update\": 262.798, \"loss\": \"2.288\", \"nll_loss\": \"0.45\", \"ppl\": \"1.37\", \"wps\": \"25850.1\", \"ups\": \"7.84\", \"wpb\": \"3298.8\", \"bsz\": \"127.2\", \"num_updates\": \"57290\", \"lr\": \"0.000132118\", \"gnorm\": \"0.667\", \"train_wall\": \"1\", \"gb_free\": \"13.4\", \"wall\": \"361\"}\n",
            "2023-09-04 04:32:25 | INFO | train_inner | {\"epoch\": 263, \"update\": 262.844, \"loss\": \"2.159\", \"nll_loss\": \"0.317\", \"ppl\": \"1.25\", \"wps\": \"23037.7\", \"ups\": \"7.25\", \"wpb\": \"3176.2\", \"bsz\": \"124.8\", \"num_updates\": \"57300\", \"lr\": \"0.000132106\", \"gnorm\": \"0.551\", \"train_wall\": \"1\", \"gb_free\": \"13.1\", \"wall\": \"362\"}\n",
            "2023-09-04 04:32:27 | INFO | train_inner | {\"epoch\": 263, \"update\": 262.89, \"loss\": \"2.255\", \"nll_loss\": \"0.416\", \"ppl\": \"1.33\", \"wps\": \"25466.7\", \"ups\": \"7.68\", \"wpb\": \"3314.4\", \"bsz\": \"140.8\", \"num_updates\": \"57310\", \"lr\": \"0.000132095\", \"gnorm\": \"0.691\", \"train_wall\": \"1\", \"gb_free\": \"13.4\", \"wall\": \"364\"}\n",
            "2023-09-04 04:32:28 | INFO | train_inner | {\"epoch\": 263, \"update\": 262.936, \"loss\": \"2.181\", \"nll_loss\": \"0.327\", \"ppl\": \"1.25\", \"wps\": \"24555.5\", \"ups\": \"7.24\", \"wpb\": \"3390.3\", \"bsz\": \"139.2\", \"num_updates\": \"57320\", \"lr\": \"0.000132083\", \"gnorm\": \"0.56\", \"train_wall\": \"1\", \"gb_free\": \"13.3\", \"wall\": \"365\"}\n",
            "2023-09-04 04:32:29 | INFO | train_inner | {\"epoch\": 263, \"update\": 262.982, \"loss\": \"2.255\", \"nll_loss\": \"0.417\", \"ppl\": \"1.34\", \"wps\": \"26483.4\", \"ups\": \"7.64\", \"wpb\": \"3465.3\", \"bsz\": \"136\", \"num_updates\": \"57330\", \"lr\": \"0.000132071\", \"gnorm\": \"0.634\", \"train_wall\": \"1\", \"gb_free\": \"13.5\", \"wall\": \"366\"}\n",
            "2023-09-04 04:32:30 | INFO | fairseq_cli.train | begin validation on \"valid\" subset\n",
            "2023-09-04 04:32:30 | INFO | fairseq.tasks.fairseq_task | can_reuse_epoch_itr = True\n",
            "2023-09-04 04:32:31 | INFO | valid | {\"epoch\": 263, \"valid_loss\": \"8.539\", \"valid_nll_loss\": \"7.567\", \"valid_ppl\": \"189.65\", \"valid_wps\": \"56886\", \"valid_wpb\": \"2371\", \"valid_bsz\": \"90.9\", \"valid_num_updates\": \"57334\", \"valid_best_loss\": \"7.308\"}\n",
            "2023-09-04 04:32:31 | INFO | fairseq.checkpoint_utils | Preparing to save checkpoint for epoch 263 @ 57334 updates\n",
            "2023-09-04 04:32:31 | INFO | fairseq.trainer | Saving checkpoint to /content/drive/MyDrive/ironside_nmt/checkpoints/checkpoint_last.pt\n",
            "2023-09-04 04:32:32 | INFO | fairseq.trainer | Finished saving checkpoint to /content/drive/MyDrive/ironside_nmt/checkpoints/checkpoint_last.pt\n",
            "2023-09-04 04:32:32 | INFO | fairseq.checkpoint_utils | Saved checkpoint /content/drive/MyDrive/ironside_nmt/checkpoints/checkpoint_last.pt (epoch 263 @ 57334 updates, score 8.539) (writing took 0.9675380799999402 seconds)\n",
            "2023-09-04 04:32:32 | INFO | fairseq_cli.train | end of epoch 263 (average epoch stats below)\n",
            "2023-09-04 04:32:32 | INFO | train | {\"epoch\": 263, \"train_loss\": \"2.228\", \"train_nll_loss\": \"0.387\", \"train_ppl\": \"1.31\", \"train_wps\": \"21352.8\", \"train_ups\": \"6.51\", \"train_wpb\": \"3282.2\", \"train_bsz\": \"126.3\", \"train_num_updates\": \"57334\", \"train_lr\": \"0.000132067\", \"train_gnorm\": \"0.614\", \"train_train_wall\": \"30\", \"train_gb_free\": \"13.5\", \"train_wall\": \"369\"}\n",
            "2023-09-04 04:32:32 | INFO | fairseq.tasks.fairseq_task | can_reuse_epoch_itr = True\n",
            "2023-09-04 04:32:32 | INFO | fairseq.data.iterators | grouped total_num_itrs = 218\n",
            "2023-09-04 04:32:32 | INFO | fairseq.trainer | begin training epoch 264\n",
            "2023-09-04 04:32:32 | INFO | fairseq_cli.train | Start iterating over samples\n",
            "2023-09-04 04:32:33 | INFO | train_inner | {\"epoch\": 264, \"update\": 263.028, \"loss\": \"2.167\", \"nll_loss\": \"0.317\", \"ppl\": \"1.25\", \"wps\": \"8828.9\", \"ups\": \"2.76\", \"wpb\": \"3196.5\", \"bsz\": \"94.4\", \"num_updates\": \"57340\", \"lr\": \"0.00013206\", \"gnorm\": \"0.533\", \"train_wall\": \"2\", \"gb_free\": \"13.2\", \"wall\": \"370\"}\n",
            "2023-09-04 04:32:34 | INFO | train_inner | {\"epoch\": 264, \"update\": 263.073, \"loss\": \"2.223\", \"nll_loss\": \"0.393\", \"ppl\": \"1.31\", \"wps\": \"22490.9\", \"ups\": \"6.29\", \"wpb\": \"3576.2\", \"bsz\": \"120.8\", \"num_updates\": \"57350\", \"lr\": \"0.000132048\", \"gnorm\": \"0.592\", \"train_wall\": \"2\", \"gb_free\": \"13.4\", \"wall\": \"371\"}\n",
            "2023-09-04 04:32:36 | INFO | train_inner | {\"epoch\": 264, \"update\": 263.119, \"loss\": \"2.276\", \"nll_loss\": \"0.438\", \"ppl\": \"1.35\", \"wps\": \"22104.3\", \"ups\": \"6.31\", \"wpb\": \"3503\", \"bsz\": \"144\", \"num_updates\": \"57360\", \"lr\": \"0.000132037\", \"gnorm\": \"0.666\", \"train_wall\": \"1\", \"gb_free\": \"13.3\", \"wall\": \"373\"}\n",
            "2023-09-04 04:32:38 | INFO | train_inner | {\"epoch\": 264, \"update\": 263.165, \"loss\": \"2.34\", \"nll_loss\": \"0.526\", \"ppl\": \"1.44\", \"wps\": \"22625.8\", \"ups\": \"6.5\", \"wpb\": \"3482.8\", \"bsz\": \"142.4\", \"num_updates\": \"57370\", \"lr\": \"0.000132025\", \"gnorm\": \"0.635\", \"train_wall\": \"1\", \"gb_free\": \"13.2\", \"wall\": \"375\"}\n",
            "2023-09-04 04:32:40 | INFO | train_inner | {\"epoch\": 264, \"update\": 263.211, \"loss\": \"2.153\", \"nll_loss\": \"0.315\", \"ppl\": \"1.24\", \"wps\": \"14116\", \"ups\": \"4.38\", \"wpb\": \"3222.4\", \"bsz\": \"113.6\", \"num_updates\": \"57380\", \"lr\": \"0.000132014\", \"gnorm\": \"0.579\", \"train_wall\": \"2\", \"gb_free\": \"13.2\", \"wall\": \"377\"}\n",
            "2023-09-04 04:32:42 | INFO | train_inner | {\"epoch\": 264, \"update\": 263.257, \"loss\": \"2.206\", \"nll_loss\": \"0.362\", \"ppl\": \"1.29\", \"wps\": \"20638.7\", \"ups\": \"6.07\", \"wpb\": \"3402.5\", \"bsz\": \"96.8\", \"num_updates\": \"57390\", \"lr\": \"0.000132002\", \"gnorm\": \"0.566\", \"train_wall\": \"2\", \"gb_free\": \"13.3\", \"wall\": \"379\"}\n",
            "2023-09-04 04:32:43 | INFO | train_inner | {\"epoch\": 264, \"update\": 263.303, \"loss\": \"2.232\", \"nll_loss\": \"0.387\", \"ppl\": \"1.31\", \"wps\": \"23571.4\", \"ups\": \"7.58\", \"wpb\": \"3109.3\", \"bsz\": \"116.8\", \"num_updates\": \"57400\", \"lr\": \"0.000131991\", \"gnorm\": \"0.655\", \"train_wall\": \"1\", \"gb_free\": \"13.3\", \"wall\": \"380\"}\n",
            "2023-09-04 04:32:44 | INFO | train_inner | {\"epoch\": 264, \"update\": 263.349, \"loss\": \"2.208\", \"nll_loss\": \"0.362\", \"ppl\": \"1.28\", \"wps\": \"24864.8\", \"ups\": \"7.13\", \"wpb\": \"3485.3\", \"bsz\": \"132.8\", \"num_updates\": \"57410\", \"lr\": \"0.000131979\", \"gnorm\": \"0.614\", \"train_wall\": \"1\", \"gb_free\": \"13.1\", \"wall\": \"381\"}\n",
            "2023-09-04 04:32:46 | INFO | train_inner | {\"epoch\": 264, \"update\": 263.394, \"loss\": \"2.294\", \"nll_loss\": \"0.448\", \"ppl\": \"1.36\", \"wps\": \"24842.5\", \"ups\": \"7.7\", \"wpb\": \"3226.5\", \"bsz\": \"152\", \"num_updates\": \"57420\", \"lr\": \"0.000131968\", \"gnorm\": \"0.7\", \"train_wall\": \"1\", \"gb_free\": \"13.5\", \"wall\": \"383\"}\n",
            "2023-09-04 04:32:47 | INFO | train_inner | {\"epoch\": 264, \"update\": 263.44, \"loss\": \"2.166\", \"nll_loss\": \"0.32\", \"ppl\": \"1.25\", \"wps\": \"23082.7\", \"ups\": \"7.13\", \"wpb\": \"3237.7\", \"bsz\": \"135.2\", \"num_updates\": \"57430\", \"lr\": \"0.000131956\", \"gnorm\": \"0.546\", \"train_wall\": \"1\", \"gb_free\": \"13.2\", \"wall\": \"384\"}\n",
            "2023-09-04 04:32:48 | INFO | train_inner | {\"epoch\": 264, \"update\": 263.486, \"loss\": \"2.182\", \"nll_loss\": \"0.336\", \"ppl\": \"1.26\", \"wps\": \"22327.7\", \"ups\": \"7.76\", \"wpb\": \"2877.1\", \"bsz\": \"130.4\", \"num_updates\": \"57440\", \"lr\": \"0.000131945\", \"gnorm\": \"0.595\", \"train_wall\": \"1\", \"gb_free\": \"13.1\", \"wall\": \"385\"}\n",
            "2023-09-04 04:32:49 | INFO | train_inner | {\"epoch\": 264, \"update\": 263.532, \"loss\": \"2.314\", \"nll_loss\": \"0.471\", \"ppl\": \"1.39\", \"wps\": \"26584.7\", \"ups\": \"8.29\", \"wpb\": \"3205.3\", \"bsz\": \"125.6\", \"num_updates\": \"57450\", \"lr\": \"0.000131933\", \"gnorm\": \"0.765\", \"train_wall\": \"1\", \"gb_free\": \"14\", \"wall\": \"386\"}\n",
            "2023-09-04 04:32:51 | INFO | train_inner | {\"epoch\": 264, \"update\": 263.578, \"loss\": \"2.176\", \"nll_loss\": \"0.325\", \"ppl\": \"1.25\", \"wps\": \"22004.8\", \"ups\": \"7.19\", \"wpb\": \"3059.8\", \"bsz\": \"109.6\", \"num_updates\": \"57460\", \"lr\": \"0.000131922\", \"gnorm\": \"0.544\", \"train_wall\": \"1\", \"gb_free\": \"13.2\", \"wall\": \"388\"}\n",
            "2023-09-04 04:32:52 | INFO | train_inner | {\"epoch\": 264, \"update\": 263.624, \"loss\": \"2.373\", \"nll_loss\": \"0.556\", \"ppl\": \"1.47\", \"wps\": \"18474.5\", \"ups\": \"6.54\", \"wpb\": \"2824.5\", \"bsz\": \"116.8\", \"num_updates\": \"57470\", \"lr\": \"0.000131911\", \"gnorm\": \"0.713\", \"train_wall\": \"1\", \"gb_free\": \"13.4\", \"wall\": \"389\"}\n",
            "2023-09-04 04:32:54 | INFO | train_inner | {\"epoch\": 264, \"update\": 263.67, \"loss\": \"2.358\", \"nll_loss\": \"0.53\", \"ppl\": \"1.44\", \"wps\": \"19338.6\", \"ups\": \"6.51\", \"wpb\": \"2968.4\", \"bsz\": \"116.8\", \"num_updates\": \"57480\", \"lr\": \"0.000131899\", \"gnorm\": \"0.635\", \"train_wall\": \"1\", \"gb_free\": \"13.4\", \"wall\": \"391\"}\n",
            "2023-09-04 04:32:55 | INFO | train_inner | {\"epoch\": 264, \"update\": 263.716, \"loss\": \"2.37\", \"nll_loss\": \"0.545\", \"ppl\": \"1.46\", \"wps\": \"21090.3\", \"ups\": \"6.52\", \"wpb\": \"3233.9\", \"bsz\": \"122.4\", \"num_updates\": \"57490\", \"lr\": \"0.000131888\", \"gnorm\": \"0.719\", \"train_wall\": \"1\", \"gb_free\": \"13.5\", \"wall\": \"393\"}\n",
            "2023-09-04 04:32:57 | INFO | train_inner | {\"epoch\": 264, \"update\": 263.761, \"loss\": \"2.2\", \"nll_loss\": \"0.359\", \"ppl\": \"1.28\", \"wps\": \"21394\", \"ups\": \"6.32\", \"wpb\": \"3385.7\", \"bsz\": \"122.4\", \"num_updates\": \"57500\", \"lr\": \"0.000131876\", \"gnorm\": \"0.573\", \"train_wall\": \"2\", \"gb_free\": \"13.3\", \"wall\": \"394\"}\n",
            "2023-09-04 04:32:59 | INFO | train_inner | {\"epoch\": 264, \"update\": 263.807, \"loss\": \"2.186\", \"nll_loss\": \"0.349\", \"ppl\": \"1.27\", \"wps\": \"21408\", \"ups\": \"5.89\", \"wpb\": \"3632.5\", \"bsz\": \"164\", \"num_updates\": \"57510\", \"lr\": \"0.000131865\", \"gnorm\": \"0.568\", \"train_wall\": \"2\", \"gb_free\": \"13.3\", \"wall\": \"396\"}\n",
            "2023-09-04 04:33:00 | INFO | train_inner | {\"epoch\": 264, \"update\": 263.853, \"loss\": \"2.255\", \"nll_loss\": \"0.42\", \"ppl\": \"1.34\", \"wps\": \"25553.9\", \"ups\": \"7.04\", \"wpb\": \"3629.9\", \"bsz\": \"112.8\", \"num_updates\": \"57520\", \"lr\": \"0.000131853\", \"gnorm\": \"0.62\", \"train_wall\": \"1\", \"gb_free\": \"13.3\", \"wall\": \"397\"}\n",
            "2023-09-04 04:33:02 | INFO | train_inner | {\"epoch\": 264, \"update\": 263.899, \"loss\": \"2.174\", \"nll_loss\": \"0.321\", \"ppl\": \"1.25\", \"wps\": \"24685.3\", \"ups\": \"7.15\", \"wpb\": \"3453.8\", \"bsz\": \"153.6\", \"num_updates\": \"57530\", \"lr\": \"0.000131842\", \"gnorm\": \"0.561\", \"train_wall\": \"1\", \"gb_free\": \"13.3\", \"wall\": \"399\"}\n",
            "2023-09-04 04:33:03 | INFO | train_inner | {\"epoch\": 264, \"update\": 263.945, \"loss\": \"2.241\", \"nll_loss\": \"0.392\", \"ppl\": \"1.31\", \"wps\": \"22740.6\", \"ups\": \"7.78\", \"wpb\": \"2921.1\", \"bsz\": \"101.6\", \"num_updates\": \"57540\", \"lr\": \"0.00013183\", \"gnorm\": \"0.606\", \"train_wall\": \"1\", \"gb_free\": \"13.4\", \"wall\": \"400\"}\n",
            "2023-09-04 04:33:04 | INFO | train_inner | {\"epoch\": 264, \"update\": 263.991, \"loss\": \"2.189\", \"nll_loss\": \"0.358\", \"ppl\": \"1.28\", \"wps\": \"25870.5\", \"ups\": \"7.24\", \"wpb\": \"3575.4\", \"bsz\": \"145.6\", \"num_updates\": \"57550\", \"lr\": \"0.000131819\", \"gnorm\": \"0.575\", \"train_wall\": \"1\", \"gb_free\": \"13.3\", \"wall\": \"401\"}\n",
            "2023-09-04 04:33:05 | INFO | fairseq_cli.train | begin validation on \"valid\" subset\n",
            "2023-09-04 04:33:05 | INFO | fairseq.tasks.fairseq_task | can_reuse_epoch_itr = True\n"
          ]
        }
      ],
      "source": [
        "DROPOUT=0.1\n",
        "ATTENTION_DROPOUT=0\n",
        "ACTIVATION_DROPOUT=0.1\n",
        "EMBEDDING_SIZE=256\n",
        "ENC_FFNN=1024\n",
        "ENCODER_LAYERS=5\n",
        "ENCODER_ATTENTION_HEADS=8\n",
        "DECODER_LAYERS=5\n",
        "DECODER_ATTENTION_HEADS=8\n",
        "DEC_FFNN=1024\n",
        "EPOCH=400\n",
        "BATCH_SIZE=4096\n",
        "ENCODER_LAYER_DROPOUT=0.1\n",
        "DECODER_LAYER_DROPOUT=0.1\n",
        "# SOURCE_LANGUAGE=swl\n",
        "# TARGET_LANGUAGE=ar\n",
        "LABEL_SMOOTHING=0.1\n",
        "SAVE_DIR=\"/content/drive/MyDrive/ironside_nmt/checkpoints/\"\n",
        "LABEL_CROSS_ENTROPY=\"label_smoothed_cross_entropy\"\n",
        "WARMUP_UPDATES=4000\n",
        "lEARNING_POLICY=\"inverse_sqrt\"\n",
        "WAND_PROJECT_NAME=\"LARGE_SCALE_ARSWAHILI_Translation\"\n",
        "\n",
        "!fairseq-train \"/content/ar_sw.tokenized.ar-sw\" \\\n",
        "    --arch transformer \\\n",
        "    --dropout $DROPOUT \\\n",
        "    --attention-dropout 0     --encoder-embed-dim $EMBEDDING_SIZE \\\n",
        "    --encoder-ffn-embed-dim $ENC_FFNN  \\\n",
        "    --encoder-layers $ENCODER_LAYERS  \\\n",
        "    --encoder-attention-heads $ENCODER_ATTENTION_HEADS \\\n",
        "    --encoder-learned-pos  \\\n",
        "    --decoder-embed-dim $EMBEDDING_SIZE \\\n",
        "    --decoder-ffn-embed-dim $DEC_FFNN  \\\n",
        "    --decoder-layers $DECODER_LAYERS \\\n",
        "    --decoder-attention-heads $DECODER_ATTENTION_HEADS \\\n",
        "    --decoder-learned-pos   \\\n",
        "    --max-epoch $EPOCH  \\\n",
        "    --optimizer adam \\\n",
        "    --lr 5e-4 \\\n",
        "    --max-tokens $BATCH_SIZE \\\n",
        "    --seed 1     --encoder-layerdrop $ENCODER_LAYER_DROPOUT     --decoder-layerdrop $DECODER_LAYER_DROPOUT \\\n",
        "    --criterion $LABEL_CROSS_ENTROPY     --warmup-updates $WARMUP_UPDATES \\\n",
        "    --source-lang ar    --label-smoothing $LABEL_SMOOTHING \\\n",
        "    --lr-scheduler $lEARNING_POLICY   --save-dir $SAVE_DIR \\\n",
        "    --find-unused-parameters  \\\n",
        "    --target-lang sw \\\n",
        "    --activation-dropout $ACTIVATION_DROPOUT  \\\n",
        "    --ddp-backend=no_c10d \\\n",
        "    --no-epoch-checkpoints --wandb-project $WAND_PROJECT_NAME \\\n",
        "    --log-format=json --log-interval=10 2>&1    |  tee  \"/content/drive/MyDrive/logs/training_log.log\""
      ]
    },
    {
      "cell_type": "code",
      "execution_count": null,
      "metadata": {
        "id": "ZtgoRKVcobXJ"
      },
      "outputs": [],
      "source": [
        "# https://wandb.ai/arabic-swahili/LARGE_SCALE_AR_TO_SWAHILI_Translation/runs/kiy2p2v8\n",
        "# https://wandb.ai/arabic-swahili/LARGE_SCALE_AR_TO_SWAHILI_Translation/runs/bk8e3hfj"
      ]
    },
    {
      "cell_type": "markdown",
      "metadata": {
        "id": "X4b4MF8FpI7b"
      },
      "source": [
        "4-FAIRSEQ GENERATE BLEU score\n"
      ]
    },
    {
      "cell_type": "code",
      "execution_count": null,
      "metadata": {
        "colab": {
          "base_uri": "https://localhost:8080/"
        },
        "id": "vX_KBafIzcXm",
        "outputId": "ff44f199-031f-47d2-9991-cecd8fe1df97"
      },
      "outputs": [
        {
          "name": "stdout",
          "output_type": "stream",
          "text": [
            "Looking in indexes: https://pypi.org/simple, https://download.pytorch.org/whl/cu113\n",
            "Requirement already satisfied: torch==1.12.1+cu113 in /usr/local/lib/python3.10/dist-packages (1.12.1+cu113)\n",
            "Requirement already satisfied: torchvision==0.13.1+cu113 in /usr/local/lib/python3.10/dist-packages (0.13.1+cu113)\n",
            "Requirement already satisfied: torchaudio==0.12.1 in /usr/local/lib/python3.10/dist-packages (0.12.1+cu113)\n",
            "Requirement already satisfied: typing-extensions in /usr/local/lib/python3.10/dist-packages (from torch==1.12.1+cu113) (4.7.1)\n",
            "Requirement already satisfied: numpy in /usr/local/lib/python3.10/dist-packages (from torchvision==0.13.1+cu113) (1.23.5)\n",
            "Requirement already satisfied: requests in /usr/local/lib/python3.10/dist-packages (from torchvision==0.13.1+cu113) (2.31.0)\n",
            "Requirement already satisfied: pillow!=8.3.*,>=5.3.0 in /usr/local/lib/python3.10/dist-packages (from torchvision==0.13.1+cu113) (9.4.0)\n",
            "Requirement already satisfied: charset-normalizer<4,>=2 in /usr/local/lib/python3.10/dist-packages (from requests->torchvision==0.13.1+cu113) (3.2.0)\n",
            "Requirement already satisfied: idna<4,>=2.5 in /usr/local/lib/python3.10/dist-packages (from requests->torchvision==0.13.1+cu113) (3.4)\n",
            "Requirement already satisfied: urllib3<3,>=1.21.1 in /usr/local/lib/python3.10/dist-packages (from requests->torchvision==0.13.1+cu113) (2.0.4)\n",
            "Requirement already satisfied: certifi>=2017.4.17 in /usr/local/lib/python3.10/dist-packages (from requests->torchvision==0.13.1+cu113) (2023.7.22)\n"
          ]
        }
      ],
      "source": [
        "!pip install torch==1.12.1+cu113 torchvision==0.13.1+cu113 torchaudio==0.12.1 --extra-index-url https://download.pytorch.org/whl/cu113"
      ]
    },
    {
      "cell_type": "code",
      "execution_count": null,
      "metadata": {
        "colab": {
          "base_uri": "https://localhost:8080/",
          "height": 36
        },
        "id": "FM5qHUAb9eoG",
        "outputId": "2254c8cc-9cc7-4890-d26f-37d8cdabd3ed"
      },
      "outputs": [
        {
          "data": {
            "application/vnd.google.colaboratory.intrinsic+json": {
              "type": "string"
            },
            "text/plain": [
              "'/content/drive/MyDrive/ironside_nmt/checkpoint_last.pt'"
            ]
          },
          "execution_count": 59,
          "metadata": {},
          "output_type": "execute_result"
        }
      ],
      "source": [
        "import shutil\n",
        "shutil.copy(\"/content/drive/MyDrive/ironside_nmt/checkpoints/checkpoint_last.pt\",'/content/drive/MyDrive/ironside_nmt/checkpoint_last.pt')"
      ]
    },
    {
      "cell_type": "code",
      "execution_count": null,
      "metadata": {
        "colab": {
          "base_uri": "https://localhost:8080/"
        },
        "id": "i4O0kSetpNiG",
        "outputId": "9aed7ea0-4352-4530-b0aa-cc241223d79c"
      },
      "outputs": [
        {
          "name": "stdout",
          "output_type": "stream",
          "text": [
            "INFO:fairseq.tasks.text_to_speech:Please install tensorboardX: pip install tensorboardX\n",
            "DEBUG:hydra.core.utils:Setting JobRuntime:name=UNKNOWN_NAME\n",
            "DEBUG:hydra.core.utils:Setting JobRuntime:name=utils\n",
            "INFO:fairseq_cli.generate:{'_name': None, 'common': {'_name': None, 'no_progress_bar': False, 'log_interval': 100, 'log_format': None, 'log_file': None, 'aim_repo': None, 'aim_run_hash': None, 'tensorboard_logdir': None, 'wandb_project': None, 'azureml_logging': False, 'seed': 1, 'cpu': False, 'tpu': False, 'bf16': False, 'memory_efficient_bf16': False, 'fp16': False, 'memory_efficient_fp16': False, 'fp16_no_flatten_grads': False, 'fp16_init_scale': 128, 'fp16_scale_window': None, 'fp16_scale_tolerance': 0.0, 'on_cpu_convert_precision': False, 'min_loss_scale': 0.0001, 'threshold_loss_scale': None, 'amp': False, 'amp_batch_retries': 2, 'amp_init_scale': 128, 'amp_scale_window': None, 'user_dir': None, 'empty_cache_freq': 0, 'all_gather_list_size': 16384, 'model_parallel_size': 1, 'quantization_config_path': None, 'profile': False, 'reset_logging': False, 'suppress_crashes': False, 'use_plasma_view': False, 'plasma_path': '/tmp/plasma'}, 'common_eval': {'_name': None, 'path': '/content/drive/MyDrive/ironside_nmt/checkpoints/checkpoint_best.pt', 'post_process': 'sentencepiece', 'quiet': False, 'model_overrides': '{}', 'results_path': None}, 'distributed_training': {'_name': None, 'distributed_world_size': 1, 'distributed_num_procs': 1, 'distributed_rank': 0, 'distributed_backend': 'nccl', 'distributed_init_method': None, 'distributed_port': -1, 'device_id': 0, 'distributed_no_spawn': False, 'ddp_backend': 'pytorch_ddp', 'ddp_comm_hook': 'none', 'bucket_cap_mb': 25, 'fix_batches_to_gpus': False, 'find_unused_parameters': False, 'gradient_as_bucket_view': False, 'fast_stat_sync': False, 'heartbeat_timeout': -1, 'broadcast_buffers': False, 'slowmo_momentum': None, 'slowmo_base_algorithm': 'localsgd', 'localsgd_frequency': 3, 'nprocs_per_node': 1, 'pipeline_model_parallel': False, 'pipeline_balance': None, 'pipeline_devices': None, 'pipeline_chunks': 0, 'pipeline_encoder_balance': None, 'pipeline_encoder_devices': None, 'pipeline_decoder_balance': None, 'pipeline_decoder_devices': None, 'pipeline_checkpoint': 'never', 'zero_sharding': 'none', 'fp16': False, 'memory_efficient_fp16': False, 'tpu': False, 'no_reshard_after_forward': False, 'fp32_reduce_scatter': False, 'cpu_offload': False, 'use_sharded_state': False, 'not_fsdp_flatten_parameters': False}, 'dataset': {'_name': None, 'num_workers': 1, 'skip_invalid_size_inputs_valid_test': False, 'max_tokens': None, 'batch_size': 128, 'required_batch_size_multiple': 8, 'required_seq_len_multiple': 1, 'dataset_impl': None, 'data_buffer_size': 10, 'train_subset': 'train', 'valid_subset': 'valid', 'combine_valid_subsets': None, 'ignore_unused_valid_subsets': False, 'validate_interval': 1, 'validate_interval_updates': 0, 'validate_after_updates': 0, 'fixed_validation_seed': None, 'disable_validation': False, 'max_tokens_valid': None, 'batch_size_valid': 128, 'max_valid_steps': None, 'curriculum': 0, 'gen_subset': 'test', 'num_shards': 1, 'shard_id': 0, 'grouped_shuffling': False, 'update_epoch_batch_itr': False, 'update_ordered_indices_seed': False}, 'optimization': {'_name': None, 'max_epoch': 0, 'max_update': 0, 'stop_time_hours': 0.0, 'clip_norm': 0.0, 'sentence_avg': False, 'update_freq': [1], 'lr': [0.25], 'stop_min_lr': -1.0, 'use_bmuf': False, 'skip_remainder_batch': False, 'debug_param_names': False}, 'checkpoint': {'_name': None, 'save_dir': 'checkpoints', 'restore_file': 'checkpoint_last.pt', 'continue_once': None, 'finetune_from_model': None, 'reset_dataloader': False, 'reset_lr_scheduler': False, 'reset_meters': False, 'reset_optimizer': False, 'optimizer_overrides': '{}', 'save_interval': 1, 'save_interval_updates': 0, 'keep_interval_updates': -1, 'keep_interval_updates_pattern': -1, 'keep_last_epochs': -1, 'keep_best_checkpoints': -1, 'no_save': False, 'no_epoch_checkpoints': False, 'no_last_checkpoints': False, 'no_save_optimizer_state': False, 'best_checkpoint_metric': 'loss', 'maximize_best_checkpoint_metric': False, 'patience': -1, 'checkpoint_suffix': '', 'checkpoint_shard_count': 1, 'load_checkpoint_on_all_dp_ranks': False, 'write_checkpoints_asynchronously': False, 'model_parallel_size': 1}, 'bmuf': {'_name': None, 'block_lr': 1.0, 'block_momentum': 0.875, 'global_sync_iter': 50, 'warmup_iterations': 500, 'use_nbm': False, 'average_sync': False, 'distributed_world_size': 1}, 'generation': {'_name': None, 'beam': 5, 'beam_mt': 0, 'nbest': 1, 'max_len_a': 0.0, 'max_len_b': 200, 'max_len_a_mt': 0.0, 'max_len_b_mt': 200, 'min_len': 1, 'match_source_len': False, 'unnormalized': False, 'no_early_stop': False, 'no_beamable_mm': False, 'lenpen': 1.0, 'lenpen_mt': 1.0, 'unkpen': 0.0, 'replace_unk': None, 'sacrebleu': False, 'score_reference': False, 'prefix_size': 0, 'no_repeat_ngram_size': 0, 'sampling': False, 'sampling_topk': -1, 'sampling_topp': -1.0, 'constraints': None, 'temperature': 1.0, 'diverse_beam_groups': -1, 'diverse_beam_strength': 0.5, 'diversity_rate': -1.0, 'print_alignment': None, 'print_step': False, 'lm_path': None, 'lm_weight': 0.0, 'iter_decode_eos_penalty': 0.0, 'iter_decode_max_iter': 10, 'iter_decode_force_max_iter': False, 'iter_decode_with_beam': 1, 'iter_decode_with_external_reranker': False, 'retain_iter_history': False, 'retain_dropout': False, 'retain_dropout_modules': None, 'decoding_format': None, 'no_seed_provided': False, 'eos_token': None}, 'eval_lm': {'_name': None, 'output_word_probs': False, 'output_word_stats': False, 'context_window': 0, 'softmax_batch': 9223372036854775807}, 'interactive': {'_name': None, 'buffer_size': 0, 'input': '-'}, 'model': {'_name': 'wav2vec2', 'extractor_mode': 'default', 'encoder_layers': 12, 'encoder_embed_dim': 768, 'encoder_ffn_embed_dim': 3072, 'encoder_attention_heads': 12, 'activation_fn': 'gelu', 'layer_type': 'transformer', 'dropout': 0.1, 'attention_dropout': 0.1, 'activation_dropout': 0.0, 'encoder_layerdrop': 0.0, 'dropout_input': 0.0, 'dropout_features': 0.0, 'final_dim': 0, 'layer_norm_first': False, 'conv_feature_layers': '[(512, 10, 5)] + [(512, 3, 2)] * 4 + [(512,2,2)] + [(512,2,2)]', 'conv_bias': False, 'logit_temp': 0.1, 'quantize_targets': False, 'quantize_input': False, 'same_quantizer': False, 'target_glu': False, 'feature_grad_mult': 1.0, 'quantizer_depth': 1, 'quantizer_factor': 3, 'latent_vars': 320, 'latent_groups': 2, 'latent_dim': 0, 'mask_length': 10, 'mask_prob': 0.65, 'mask_selection': 'static', 'mask_other': 0.0, 'no_mask_overlap': False, 'mask_min_space': 1, 'require_same_masks': True, 'mask_dropout': 0.0, 'mask_channel_length': 10, 'mask_channel_prob': 0.0, 'mask_channel_before': False, 'mask_channel_selection': 'static', 'mask_channel_other': 0.0, 'no_mask_channel_overlap': False, 'mask_channel_min_space': 1, 'num_negatives': 100, 'negatives_from_everywhere': False, 'cross_sample_negatives': 0, 'codebook_negatives': 0, 'conv_pos': 128, 'conv_pos_groups': 16, 'pos_conv_depth': 1, 'latent_temp': [2.0, 0.5, 0.999995], 'max_positions': 100000, 'checkpoint_activations': False, 'required_seq_len_multiple': 1, 'crop_seq_to_multiple': 1, 'depthwise_conv_kernel_size': 31, 'attn_type': '', 'pos_enc_type': 'abs', 'fp16': False, 'adp_num': -1, 'adp_dim': 64, 'adp_act_fn': 'relu', 'adp_trf_idx': 'all'}, 'task': {'_name': 'translation', 'data': '/content/ar_sw.tokenized.ar-sw', 'source_lang': None, 'target_lang': None, 'load_alignments': False, 'left_pad_source': True, 'left_pad_target': False, 'max_source_positions': 1024, 'max_target_positions': 1024, 'upsample_primary': -1, 'truncate_source': False, 'num_batch_buckets': 0, 'train_subset': 'train', 'dataset_impl': None, 'required_seq_len_multiple': 1, 'eval_bleu': False, 'eval_bleu_args': '{}', 'eval_bleu_detok': 'space', 'eval_bleu_detok_args': '{}', 'eval_tokenized_bleu': False, 'eval_bleu_remove_bpe': None, 'eval_bleu_print_samples': False}, 'criterion': {'_name': 'cross_entropy', 'sentence_avg': True}, 'optimizer': None, 'lr_scheduler': {'_name': 'fixed', 'force_anneal': None, 'lr_shrink': 0.1, 'warmup_updates': 0, 'lr': [0.25]}, 'scoring': {'_name': 'bleu', 'pad': 1, 'eos': 2, 'unk': 3}, 'bpe': None, 'tokenizer': None, 'ema': {'_name': None, 'store_ema': False, 'ema_decay': 0.9999, 'ema_start_update': 0, 'ema_seed_model': None, 'ema_update_freq': 1, 'ema_fp32': False}}\n",
            "INFO:fairseq.tasks.translation:[ar] dictionary: 12001 types\n",
            "INFO:fairseq.tasks.translation:[sw] dictionary: 12001 types\n",
            "INFO:fairseq_cli.generate:loading model(s) from /content/drive/MyDrive/ironside_nmt/checkpoints/checkpoint_best.pt\n",
            "INFO:fairseq.data.data_utils:loaded 3,281 examples from: /content/ar_sw.tokenized.ar-sw/test.ar-sw.ar\n",
            "INFO:fairseq.data.data_utils:loaded 3,281 examples from: /content/ar_sw.tokenized.ar-sw/test.ar-sw.sw\n",
            "INFO:fairseq.tasks.translation:/content/ar_sw.tokenized.ar-sw test ar-sw 3281 examples\n",
            "INFO:fairseq.tasks.fairseq_task:can_reuse_epoch_itr = True\n",
            "INFO:fairseq.tasks.fairseq_task:reuse_dataloader = True\n",
            "INFO:fairseq.tasks.fairseq_task:rebuild_batches = False\n",
            "INFO:fairseq.tasks.fairseq_task:creating new batches for epoch 1\n",
            "INFO:fairseq_cli.generate:NOTE: hypothesis and token scores are output in base 2\n",
            "INFO:fairseq_cli.generate:Translated 3,280 sentences (77,383 tokens) in 15.3s (214.53 sentences/s, 5061.21 tokens/s)\n"
          ]
        }
      ],
      "source": [
        "BATCH_SIZE=128\n",
        "BEAM=5\n",
        "SEED=1\n",
        "SCORING=\"bleu\"\n",
        "CHECKPOINT_PATH=\"/content/drive/MyDrive/ironside_nmt/checkpoints/checkpoint_last.pt\"\n",
        "    # --remove-bpe 'sentencepiece' \\\n",
        "\n",
        "!fairseq-generate \"/content/ar_sw.tokenized.ar-sw\"\\\n",
        "    --batch-size $BATCH_SIZE \\\n",
        "    --beam $BEAM \\\n",
        "    --path $CHECKPOINT_PATH \\\n",
        "    --remove-bpe 'sentencepiece' \\\n",
        "    --seed $SEED \\\n",
        "    --scoring bleu > \"/content/embed_test_results.txt\""
      ]
    },
    {
      "cell_type": "code",
      "execution_count": null,
      "metadata": {
        "colab": {
          "base_uri": "https://localhost:8080/"
        },
        "id": "dqp-fv_EfF_Q",
        "outputId": "87bab555-9acf-442c-885c-e9e065f8b688"
      },
      "outputs": [
        {
          "name": "stdout",
          "output_type": "stream",
          "text": [
            "BLEU4 = 11.25,\n"
          ]
        }
      ],
      "source": [
        "with open( \"/content/embed_test_results.txt\" ) as f:\n",
        "  text = f.read()\n",
        "  text = text.split()\n",
        "  print(\" \".join(text[-8:-5]))"
      ]
    },
    {
      "cell_type": "code",
      "execution_count": null,
      "metadata": {
        "id": "JcZtQBLkfJy_"
      },
      "outputs": [],
      "source": [
        "# BLEU4 = 10.91\n",
        "# BLEU4 = 11.25, after 150 epochs\n",
        "#"
      ]
    }
  ],
  "metadata": {
    "accelerator": "GPU",
    "colab": {
      "provenance": []
    },
    "kernelspec": {
      "display_name": "Python 3",
      "name": "python3"
    },
    "language_info": {
      "name": "python"
    }
  },
  "nbformat": 4,
  "nbformat_minor": 0
}
